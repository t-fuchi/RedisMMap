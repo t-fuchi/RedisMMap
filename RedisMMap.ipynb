{
  "nbformat": 4,
  "nbformat_minor": 0,
  "metadata": {
    "colab": {
      "provenance": [],
      "authorship_tag": "ABX9TyMejtolPC5MHDXDIrc8rlP6",
      "include_colab_link": true
    },
    "kernelspec": {
      "name": "python3",
      "display_name": "Python 3"
    },
    "language_info": {
      "name": "python"
    }
  },
  "cells": [
    {
      "cell_type": "markdown",
      "metadata": {
        "id": "view-in-github",
        "colab_type": "text"
      },
      "source": [
        "<a href=\"https://colab.research.google.com/github/t-fuchi/RedisMMap/blob/main/RedisMMap.ipynb\" target=\"_parent\"><img src=\"https://colab.research.google.com/assets/colab-badge.svg\" alt=\"Open In Colab\"/></a>"
      ]
    },
    {
      "cell_type": "markdown",
      "source": [
        "## Redisでmmapしたファイルから数値を読み込むモジュールをGoogle Colabで作ってみた"
      ],
      "metadata": {
        "id": "ebmIZkYT-Buz"
      }
    },
    {
      "cell_type": "code",
      "execution_count": null,
      "metadata": {
        "colab": {
          "base_uri": "https://localhost:8080/"
        },
        "id": "ExCXEPVS9Cn2",
        "outputId": "c11c80dd-0efb-4eb6-dcb0-2d3a124eb6a8"
      },
      "outputs": [
        {
          "output_type": "stream",
          "name": "stdout",
          "text": [
            "--2023-06-15 16:48:55--  https://download.redis.io/redis-stable.tar.gz\n",
            "Resolving download.redis.io (download.redis.io)... 45.60.121.1\n",
            "Connecting to download.redis.io (download.redis.io)|45.60.121.1|:443... connected.\n",
            "HTTP request sent, awaiting response... 200 OK\n",
            "Length: 3068843 (2.9M) [application/octet-stream]\n",
            "Saving to: ‘redis-stable.tar.gz’\n",
            "\n",
            "redis-stable.tar.gz 100%[===================>]   2.93M  --.-KB/s    in 0.09s   \n",
            "\n",
            "2023-06-15 16:48:55 (32.4 MB/s) - ‘redis-stable.tar.gz’ saved [3068843/3068843]\n",
            "\n"
          ]
        }
      ],
      "source": [
        "!wget https://download.redis.io/redis-stable.tar.gz"
      ]
    },
    {
      "cell_type": "code",
      "source": [
        "!tar -xzf redis-stable.tar.gz\n",
        "%cd /content/redis-stable/src/modules"
      ],
      "metadata": {
        "id": "Nm5oZ6X99ZoE"
      },
      "execution_count": null,
      "outputs": []
    },
    {
      "cell_type": "markdown",
      "source": [
        "必要なヘッダーのインクルードです。ちょっとした便利マクロも定義します。"
      ],
      "metadata": {
        "id": "H4BhZSz1SWfJ"
      }
    },
    {
      "cell_type": "code",
      "source": [
        "%%writefile fmmap.c\n",
        "\n",
        "#pragma GCC diagnostic ignored \"-Wtypedef-redefinition\"\n",
        "\n",
        "#include <sys/mman.h>\n",
        "#include <sys/stat.h>\n",
        "#include <sys/types.h>\n",
        "#include <fcntl.h>\n",
        "#include <unistd.h>\n",
        "#include <stdbool.h>\n",
        "#include <stdint.h>\n",
        "\n",
        "#include \"../redismodule.h\"\n",
        "#include \"../sds.h\"\n",
        "#include \"../server.h\"\n",
        "#include \"../zmalloc.h\"\n",
        "\n",
        "static inline int mstringcmp(const RedisModuleString *rs1, const char *s2)\n",
        "{\n",
        "  return strcasecmp(RedisModule_StringPtrLen(rs1, NULL), s2);\n",
        "}"
      ],
      "metadata": {
        "colab": {
          "base_uri": "https://localhost:8080/"
        },
        "id": "B6i-T3MW-nrR",
        "outputId": "09690815-eacb-4c6a-ffc0-deed15135c04"
      },
      "execution_count": null,
      "outputs": [
        {
          "output_type": "stream",
          "name": "stdout",
          "text": [
            "Overwriting fmmap.c\n"
          ]
        }
      ]
    },
    {
      "cell_type": "markdown",
      "source": [
        "MMapObjectを定義します。mmapに必要な情報を詰め込みました。sdsはRedis内で使われる文字列型です。"
      ],
      "metadata": {
        "id": "z3eP1F0NRsM9"
      }
    },
    {
      "cell_type": "code",
      "source": [
        "%%writefile -a fmmap.c\n",
        "\n",
        "typedef struct _MMapObject\n",
        "{\n",
        "  sds file_path;\n",
        "  int fd;\n",
        "  void *mmap;\n",
        "  size_t file_size;\n",
        "} MMapObject;"
      ],
      "metadata": {
        "id": "By7VHi5OQwnT"
      },
      "execution_count": null,
      "outputs": []
    },
    {
      "cell_type": "code",
      "source": [
        "%%writefile -a fmmap.c\n",
        "\n",
        "RedisModuleType *MMapType = NULL;\n",
        "\n",
        "MMapObject *MCreateObject(void)\n",
        "{\n",
        "  return (MMapObject *)zcalloc(sizeof(MMapObject));\n",
        "}"
      ],
      "metadata": {
        "id": "cU2hBwwSRMUC"
      },
      "execution_count": null,
      "outputs": []
    },
    {
      "cell_type": "code",
      "source": [
        "%%writefile -a fmmap.c\n",
        "\n",
        "void MFree(void *value)\n",
        "{\n",
        "  if (value == NULL) return;\n",
        "  const MMapObject *obj_ptr = value;\n",
        "  if (obj_ptr->mmap != NULL) munmap(obj_ptr->mmap, obj_ptr->file_size);\n",
        "  if (obj_ptr->fd != -1) close(obj_ptr->fd);\n",
        "  sdsfree(obj_ptr->file_path);\n",
        "  zfree(value);\n",
        "}"
      ],
      "metadata": {
        "id": "QFQzTrztRBrY"
      },
      "execution_count": null,
      "outputs": []
    },
    {
      "cell_type": "code",
      "source": [
        "%%writefile -a fmmap.c\n",
        "\n",
        "// MMAP key file_path\n",
        "int MMap_RedisCommand(RedisModuleCtx *ctx, RedisModuleString **argv, int argc)\n",
        "{\n",
        "  RedisModule_AutoMemory(ctx); /* Use automatic memory management. */\n",
        "\n",
        "  RedisModuleKey *key = RedisModule_OpenKey(ctx, argv[1], REDISMODULE_READ | REDISMODULE_WRITE);\n",
        "\n",
        "  int type = RedisModule_KeyType(key);\n",
        "\n",
        "  /* Create an empty value object if the key is currently empty. */\n",
        "  MMapObject *obj_ptr;\n",
        "  if (type == REDISMODULE_KEYTYPE_EMPTY) {\n",
        "    obj_ptr = MCreateObject();\n",
        "    obj_ptr->file_path = sdsnew(RedisModule_StringPtrLen(argv[2], NULL));\n",
        "    obj_ptr->fd = open(obj_ptr->file_path, O_CREAT | O_RDWR);\n",
        "\n",
        "    struct stat sb;\n",
        "    fstat(obj_ptr->fd, &sb);\n",
        "    obj_ptr->file_size = sb.st_size;\n",
        "    obj_ptr->mmap = mmap(NULL, sb.st_size, PROT_READ | PROT_WRITE, MAP_SHARED, obj_ptr->fd, 0);\n",
        "    RedisModule_ModuleTypeSetValue(key, MMapType, obj_ptr);\n",
        "  }\n",
        "  else {\n",
        "    obj_ptr = RedisModule_ModuleTypeGetValue(key);\n",
        "  }\n",
        "\n",
        "  return REDISMODULE_OK;\n",
        "}\n"
      ],
      "metadata": {
        "colab": {
          "base_uri": "https://localhost:8080/"
        },
        "id": "83ef-t0O_S64",
        "outputId": "83ad0dfa-dc14-4626-ccb8-1d47361db55d"
      },
      "execution_count": null,
      "outputs": [
        {
          "output_type": "stream",
          "name": "stdout",
          "text": [
            "Appending to fmmap.c\n"
          ]
        }
      ]
    },
    {
      "cell_type": "code",
      "source": [
        "%%writefile -a fmmap.c\n",
        "\n",
        "// MGET key index\n",
        "int MGet_RedisCommand(RedisModuleCtx *ctx, RedisModuleString **argv, int argc)\n",
        "{\n",
        "  RedisModule_AutoMemory(ctx); /* Use automatic memory management. */\n",
        "\n",
        "  RedisModuleKey *key =\n",
        "    RedisModule_OpenKey(ctx, argv[1], REDISMODULE_READ | REDISMODULE_WRITE);\n",
        "  int type = RedisModule_KeyType(key);\n",
        "\n",
        "  MMapObject *obj_ptr = RedisModule_ModuleTypeGetValue(key);\n",
        "\n",
        "  if (obj_ptr->file_size < (size_t)index * sizeof(float) || index < 0) {\n",
        "    RedisModule_ReplyWithNull(ctx);\n",
        "  }\n",
        "  else {\n",
        "    RedisModule_ReplyWithDouble(ctx, ((float*)obj_ptr->mmap)[index]);\n",
        "  }\n",
        "  return REDISMODULE_OK;\n",
        "}"
      ],
      "metadata": {
        "id": "Mgn3mC5f_csU"
      },
      "execution_count": null,
      "outputs": []
    },
    {
      "cell_type": "code",
      "source": [
        "%%writefile -a fmmap.c\n",
        "\n",
        "// MMGET key index [index ...]\n",
        "int MMGet_RedisCommand(RedisModuleCtx *ctx, RedisModuleString **argv, int argc)\n",
        "{\n",
        "  RedisModule_AutoMemory(ctx); /* Use automatic memory management. */\n",
        "\n",
        "  RedisModuleKey *key =\n",
        "      RedisModule_OpenKey(ctx, argv[1], REDISMODULE_READ | REDISMODULE_WRITE);\n",
        "  int type = RedisModule_KeyType(key);\n",
        "\n",
        "  MMapObject *obj_ptr = RedisModule_ModuleTypeGetValue(key);\n",
        "\n",
        "  RedisModule_ReplyWithArray(ctx, argc - 2);\n",
        "  for (int i = 2; i < argc; i++) {\n",
        "    RedisModule_StringToLongLong(argv[i], &index);\n",
        "    if (obj_ptr->file_size < (size_t)index * sizeof(float) || index < 0) {\n",
        "      RedisModule_ReplyWithNull(ctx);\n",
        "    }\n",
        "    else {\n",
        "      RedisModule_ReplyWithDouble(ctx, ((float*)obj_ptr->mmap)[index]);\n",
        "    }\n",
        "  }\n",
        "  return REDISMODULE_OK;\n",
        "}"
      ],
      "metadata": {
        "id": "qmGUc1OQEq2Y"
      },
      "execution_count": null,
      "outputs": []
    },
    {
      "cell_type": "code",
      "source": [
        "%%writefile -a fmmap.c\n",
        "\n",
        "// MSET key index value [index value ...]\n",
        "int MSet_RedisCommand(RedisModuleCtx *ctx, RedisModuleString **argv, int argc)\n",
        "{\n",
        "  RedisModule_AutoMemory(ctx); /* Use automatic memory management. */\n",
        "\n",
        "  RedisModuleKey *key =\n",
        "      RedisModule_OpenKey(ctx, argv[1], REDISMODULE_READ | REDISMODULE_WRITE);\n",
        "  int type = RedisModule_KeyType(key);\n",
        "\n",
        "  MMapObject *obj_ptr = RedisModule_ModuleTypeGetValue(key);\n",
        "\n",
        "  long long index;\n",
        "  double value;\n",
        "  for (int i = 3; i < argc; i += 2) {\n",
        "    if (RedisModule_StringToDouble(argv[i], &value) == REDISMODULE_ERR) {\n",
        "      return RedisModule_ReplyWithError(ctx, \"value must be float.\");\n",
        "    }\n",
        "  }\n",
        "  for (int i = 2; i < argc; i += 2) {\n",
        "    RedisModule_StringToLongLong(argv[i], &index);\n",
        "    RedisModule_StringToDouble(argv[i + 1], &value);\n",
        "    *((float*)obj_ptr->mmap + index) = (float)value;\n",
        "  }\n",
        "\n",
        "  return RedisModule_ReplyWithLongLong(ctx, (argc - 2) / 2);\n",
        "}\n"
      ],
      "metadata": {
        "id": "Swxnzf28Fcw0"
      },
      "execution_count": null,
      "outputs": []
    },
    {
      "cell_type": "code",
      "source": [
        "%%writefile -a fmmap.c\n",
        "\n",
        "// MADD key value [value ...]\n",
        "int MAdd_RedisCommand(RedisModuleCtx *ctx, RedisModuleString **argv, int argc)\n",
        "{\n",
        "  RedisModule_AutoMemory(ctx); /* Use automatic memory management. */\n",
        "\n",
        "  RedisModuleKey *key =\n",
        "      RedisModule_OpenKey(ctx, argv[1], REDISMODULE_READ | REDISMODULE_WRITE);\n",
        "  int type = RedisModule_KeyType(key);\n",
        "\n",
        "  MMapObject *obj_ptr = RedisModule_ModuleTypeGetValue(key);\n",
        "  double value;\n",
        "  for (int i = 2; i < argc; ++i) {\n",
        "    if (RedisModule_StringToDouble(argv[i], &value) == REDISMODULE_ERR) {\n",
        "      return RedisModule_ReplyWithError(ctx, \"value must be float.\");\n",
        "    }\n",
        "  }\n",
        "  size_t new_size = obj_ptr->file_size + obj_ptr->value_size * (argc - 2);\n",
        "  ftruncate(obj_ptr->fd, new_size);\n",
        "  munmap(obj_ptr->mmap, obj_ptr->file_size);\n",
        "  obj_ptr->mmap = mmap(NULL, new_size, PROT_READ | PROT_WRITE, MAP_SHARED, obj_ptr->fd, 0);\n",
        "  for (int i = 2; i < argc; ++i) {\n",
        "    size_t index = obj_ptr->file_size / obj_ptr->value_size;\n",
        "    RedisModule_StringToDouble(argv[i], &value);\n",
        "    obj_ptr->file_size += obj_ptr->value_size;\n",
        "    *((float*)obj_ptr->mmap + index) = (float)value;\n",
        "  }\n",
        "\n",
        "  return RedisModule_ReplyWithLongLong(ctx, argc - 2);\n",
        "}"
      ],
      "metadata": {
        "id": "fdhi9xNIGqdI"
      },
      "execution_count": null,
      "outputs": []
    },
    {
      "cell_type": "code",
      "source": [
        "%%writefile -a fmmap.c\n",
        "\n",
        "// MSIZE key\n",
        "int MSize_RedisCommand(RedisModuleCtx *ctx, RedisModuleString **argv, int argc)\n",
        "{\n",
        "  RedisModule_AutoMemory(ctx); /* Use automatic memory management. */\n",
        "\n",
        "  RedisModuleKey *key =\n",
        "      RedisModule_OpenKey(ctx, argv[1], REDISMODULE_READ | REDISMODULE_WRITE);\n",
        "  int type = RedisModule_KeyType(key);\n",
        "\n",
        "  MMapObject *obj_ptr = RedisModule_ModuleTypeGetValue(key);\n",
        "\n",
        "  return RedisModule_ReplyWithLongLong(ctx, obj_ptr->file_size / sizeof(float));\n",
        "}"
      ],
      "metadata": {
        "id": "SBDuwxJzHL26"
      },
      "execution_count": null,
      "outputs": []
    },
    {
      "cell_type": "code",
      "source": [
        "%%writefile -a fmmap.c\n",
        "\n",
        "// MCLEAR key\n",
        "int MClear_RedisCommand(RedisModuleCtx *ctx, RedisModuleString **argv, int argc)\n",
        "{\n",
        "  RedisModule_AutoMemory(ctx); /* Use automatic memory management. */\n",
        "\n",
        "  RedisModuleKey *key =\n",
        "      RedisModule_OpenKey(ctx, argv[1], REDISMODULE_READ | REDISMODULE_WRITE);\n",
        "  int type = RedisModule_KeyType(key);\n",
        "\n",
        "  MMapObject *obj_ptr = RedisModule_ModuleTypeGetValue(key);\n",
        "\n",
        "  munmap(obj_ptr->mmap, obj_ptr->file_size);\n",
        "  ftruncate(obj_ptr->fd, 0);\n",
        "  obj_ptr->mmap = mmap(NULL, 0, PROT_READ | PROT_WRITE, MAP_SHARED, obj_ptr->fd, 0);\n",
        "  obj_ptr->file_size = 0;\n",
        "\n",
        "  return REDISMODULE_OK;\n",
        "}"
      ],
      "metadata": {
        "id": "5Z8bjafyHjbl"
      },
      "execution_count": null,
      "outputs": []
    },
    {
      "cell_type": "code",
      "source": [
        "%%writefile -a fmmap.c\n",
        "\n",
        "// MPOP key\n",
        "int MPop_RedisCommand(RedisModuleCtx *ctx, RedisModuleString **argv, int argc)\n",
        "{\n",
        "  RedisModule_AutoMemory(ctx); /* Use automatic memory management. */\n",
        "\n",
        "  RedisModuleKey *key =\n",
        "      RedisModule_OpenKey(ctx, argv[1], REDISMODULE_READ | REDISMODULE_WRITE);\n",
        "  int type = RedisModule_KeyType(key);\n",
        "\n",
        "  MMapObject *obj_ptr = RedisModule_ModuleTypeGetValue(key);\n",
        "\n",
        "  if (obj_ptr->file_size == 0) {\n",
        "    RedisModule_ReplyWithNull(ctx);\n",
        "  }\n",
        "  else {\n",
        "    size_t index = obj_ptr->file_size / sizeof(float);\n",
        "    RedisModule_ReplyWithDouble(ctx, ((float*)obj_ptr->mmap)[index]);\n",
        "    munmap(obj_ptr->mmap, obj_ptr->file_size);\n",
        "    obj_ptr->file_size -= obj_ptr->value_size;\n",
        "    ftruncate(obj_ptr->fd, obj_ptr->file_size);\n",
        "    obj_ptr->mmap = mmap(NULL, obj_ptr->file_size, PROT_READ | PROT_WRITE, MAP_SHARED, obj_ptr->fd, 0);\n",
        "  }\n",
        "  return REDISMODULE_OK;\n",
        "}"
      ],
      "metadata": {
        "id": "-APt5ZjQHxP-"
      },
      "execution_count": null,
      "outputs": []
    },
    {
      "cell_type": "code",
      "source": [
        "%%writefile -a fmmap.c\n",
        "\n",
        "void MRdbSave(RedisModuleIO *rdb, void *value)\n",
        "{\n",
        "  MMapObject *obj_ptr = value;\n",
        "  RedisModule_SaveStringBuffer(rdb, obj_ptr->file_path, sdslen(obj_ptr->file_path));\n",
        "  msync(obj_ptr->mmap, obj_ptr->file_size, MS_ASYNC);\n",
        "}"
      ],
      "metadata": {
        "id": "Z9tP4bIzIEla"
      },
      "execution_count": null,
      "outputs": []
    },
    {
      "cell_type": "code",
      "source": [
        "%%writefile -a fmmap.c\n",
        "\n",
        "void *MRdbLoad(RedisModuleIO *rdb, int encver)\n",
        "{\n",
        "  MMapObject *obj_ptr = MCreateObject();\n",
        "  obj_ptr->file_path = sdsnew(RedisModule_StringPtrLen(RedisModule_LoadString(rdb), NULL));\n",
        "  obj_ptr->fd = open(obj_ptr->file_path, O_CREAT | O_RDWR);\n",
        "\n",
        "  struct stat sb;\n",
        "  fstat(obj_ptr->fd, &sb);\n",
        "  obj_ptr->file_size = sb.st_size;\n",
        "  obj_ptr->mmap = mmap(NULL, sb.st_size, PROT_READ | PROT_WRITE, MAP_SHARED, obj_ptr->fd, 0);\n",
        "\n",
        "  return obj_ptr;\n",
        "}"
      ],
      "metadata": {
        "id": "vGTI5s14IMKP"
      },
      "execution_count": null,
      "outputs": []
    },
    {
      "cell_type": "code",
      "source": [
        "%%writefile -a fmmap.c\n",
        "\n",
        "void MAofRewrite(RedisModuleIO *aof, RedisModuleString *key, void *value)\n",
        "{\n",
        "  char buffer[0x200];\n",
        "  MMapObject *obj_ptr = (MMapObject*)value;\n",
        "  RedisModule_EmitAOF(aof, \"MMAP\", \"scclc\",\n",
        "                      key,\n",
        "                      obj_ptr->file_path,\n",
        "                      obj_ptr->value_type,\n",
        "                      obj_ptr->value_size,\n",
        "                      \"writable\");\n",
        "  RedisModule_EmitAOF(aof, \"MCLEAR\", \"ss\", key, obj_ptr->file_path);\n",
        "  for (size_t i = 0; i < obj_ptr->file_size; i += sizeof(float)) {\n",
        "    float value = *(float *)((uint8_t*)obj_ptr->mmap + i);\n",
        "    sprintf(buffer, \"%.16f\", value);\n",
        "    RedisModule_EmitAOF(aof, \"MADD\", \"sbc\", key, buffer);\n",
        "  }\n",
        "}"
      ],
      "metadata": {
        "id": "J1plnkvBIMGI"
      },
      "execution_count": null,
      "outputs": []
    },
    {
      "cell_type": "code",
      "source": [
        "%%writefile -a fmmap.c\n",
        "\n",
        "size_t MMemUsage(const void *value)\n",
        "{\n",
        "  const MMapObject *obj_ptr = value;\n",
        "  return obj_ptr->file_size;\n",
        "}\n",
        "\n",
        "void MDigest(RedisModuleDigest *md, void *value)\n",
        "{\n",
        "  REDISMODULE_NOT_USED(md);\n",
        "  REDISMODULE_NOT_USED(value);\n",
        "}"
      ],
      "metadata": {
        "id": "Slx-jCVCIMB7"
      },
      "execution_count": null,
      "outputs": []
    },
    {
      "cell_type": "code",
      "source": [
        "%%writefile -a fmmap.c\n",
        "\n",
        "#define CREATE_CMD(name, tgt, attr, key_pos, key_last)                     \\\n",
        "  do {                                                                     \\\n",
        "    if (RedisModule_CreateCommand(ctx, name, tgt, attr, key_pos, key_last, \\\n",
        "                                  1) != REDISMODULE_OK) {                  \\\n",
        "      return REDISMODULE_ERR;                                              \\\n",
        "    }                                                                      \\\n",
        "  } while (0);\n"
      ],
      "metadata": {
        "id": "JRIuT6kfIL9w"
      },
      "execution_count": null,
      "outputs": []
    },
    {
      "cell_type": "code",
      "source": [
        "%%writefile -a fmmap.c\n",
        "\n",
        "int RedisModule_OnLoad(RedisModuleCtx *ctx, RedisModuleString **argv, int argc)\n",
        "{\n",
        "  REDISMODULE_NOT_USED(argv);\n",
        "  REDISMODULE_NOT_USED(argc);\n",
        "\n",
        "  RedisModule_Init(ctx, \"FuchiMMap\", 1, REDISMODULE_APIVER_1);\n",
        "\n",
        "  RedisModuleTypeMethods tm = {.version = REDISMODULE_TYPE_METHOD_VERSION,\n",
        "                               .rdb_load = MRdbLoad,\n",
        "                               .rdb_save = MRdbSave,\n",
        "                               .aof_rewrite = MAofRewrite,\n",
        "                               .mem_usage = MMemUsage,\n",
        "                               .free = MFree,\n",
        "                               .digest = MDigest};\n",
        "\n",
        "  MMapType = RedisModule_CreateDataType(ctx, \"FuchiMMap\", 0, &tm);\n",
        "\n",
        "  // MMAP key file_path\n",
        "  CREATE_CMD(\"MMAP\", MMap_RedisCommand, \"write fast\", 1, 1);\n",
        "\n",
        "  // MCLEAR key\n",
        "  CREATE_CMD(\"MCLEAR\", MClear_RedisCommand, \"write fast\", 1, 1);\n",
        "\n",
        "  // MADD key value [value ...]\n",
        "  CREATE_CMD(\"MADD\", MAdd_RedisCommand, \"write fast\", 1, 1);\n",
        "\n",
        "  // MGET key index\n",
        "  CREATE_CMD(\"MGET\", MGet_RedisCommand, \"readonly fast\", 1, 1);\n",
        "\n",
        "  // MGET key index [index ...]\n",
        "  CREATE_CMD(\"MMGET\", MMGet_RedisCommand, \"readonly fast\", 1, 1);\n",
        "\n",
        "  // MSET key index value [index value ...]\n",
        "  CREATE_CMD(\"MSET\", MSet_RedisCommand, \"write fast\", 1, 1);\n",
        "\n",
        "  // MSIZE key\n",
        "  CREATE_CMD(\"MSIZE\", MSize_RedisCommand, \"readonly fast\", 1, 1);\n",
        "\n",
        "  // MPOP key\n",
        "  CREATE_CMD(\"MPOP\", MPop_RedisCommand, \"write fast\", 1, 1);\n",
        "\n",
        "  return REDISMODULE_OK;\n",
        "}\n"
      ],
      "metadata": {
        "id": "W1IZVhWvILyT"
      },
      "execution_count": null,
      "outputs": []
    },
    {
      "cell_type": "code",
      "source": [
        "%%writefile Makefile.fmmap\n",
        "\n",
        "SHOBJ_CFLAGS ?= -W -Wall -fno-common -g -ggdb -std=c99 -O2\n",
        "SHOBJ_LDFLAGS ?= -shared\n",
        "\n",
        ".SUFFIXES: .c .so .xo .o\n",
        "\n",
        "all: fmmap.so\n",
        "\n",
        "CFLAGS := -march=native\n",
        "\n",
        ".c.xo:\n",
        "\t$(CC) -I. -I../../deps/lua/src $(CFLAGS) $(SHOBJ_CFLAGS) -fPIC -c $< -o $@\n",
        "\n",
        "fmmap.xo: ../redismodule.h\n",
        "\n",
        "fmmap.so: fmmap.xo\n",
        "\t$(LD) -o $@ $< $(SHOBJ_LDFLAGS) $(LIBS) -lc\n",
        "\n",
        "clean:\n",
        "\trm -rf *.xo *.so\n"
      ],
      "metadata": {
        "id": "Ewpiz9DfKMNv"
      },
      "execution_count": null,
      "outputs": []
    },
    {
      "cell_type": "code",
      "source": [
        "!make -f Makefile.fmmap"
      ],
      "metadata": {
        "id": "poQmS_hwLLOn"
      },
      "execution_count": null,
      "outputs": []
    },
    {
      "cell_type": "code",
      "source": [
        "!cp redis.conf redis_mmap.conf"
      ],
      "metadata": {
        "id": "MzT05HA2NbTq"
      },
      "execution_count": null,
      "outputs": []
    },
    {
      "cell_type": "code",
      "source": [
        "%%writefile -a redis_mmap.conf\n",
        "loadmodule /content/redis-stable/src/modules/fmmap.so"
      ],
      "metadata": {
        "id": "ZkWPur2RMtQj"
      },
      "execution_count": null,
      "outputs": []
    },
    {
      "cell_type": "code",
      "source": [
        "!sudo apt-get install redis"
      ],
      "metadata": {
        "colab": {
          "base_uri": "https://localhost:8080/"
        },
        "id": "zOXorISbIiqr",
        "outputId": "4d6efbe3-a228-44c9-df73-f7e172ed6d4a"
      },
      "execution_count": null,
      "outputs": [
        {
          "output_type": "stream",
          "name": "stdout",
          "text": [
            "Reading package lists... Done\n",
            "Building dependency tree       \n",
            "Reading state information... Done\n",
            "redis is already the newest version (5:5.0.7-2ubuntu0.1).\n",
            "0 upgraded, 0 newly installed, 0 to remove and 21 not upgraded.\n"
          ]
        }
      ]
    },
    {
      "cell_type": "code",
      "source": [
        "!nohup redis-server redis_mmap.conf &"
      ],
      "metadata": {
        "colab": {
          "base_uri": "https://localhost:8080/"
        },
        "id": "v9LCwn7TM8hl",
        "outputId": "5cba3c26-930f-4271-acfa-ff5c043a748d"
      },
      "execution_count": null,
      "outputs": [
        {
          "output_type": "stream",
          "name": "stdout",
          "text": [
            "/content/redis-stable/src/modules\n"
          ]
        }
      ]
    },
    {
      "cell_type": "code",
      "source": [
        "%%writefile command\n",
        "MMAP file.mmap"
      ],
      "metadata": {
        "id": "UN50ea1VN1R_"
      },
      "execution_count": null,
      "outputs": []
    },
    {
      "cell_type": "code",
      "source": [
        "!redis-cli < command"
      ],
      "metadata": {
        "id": "zOb1-GjrOW8b"
      },
      "execution_count": null,
      "outputs": []
    }
  ]
}