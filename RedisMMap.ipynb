{
  "nbformat": 4,
  "nbformat_minor": 0,
  "metadata": {
    "colab": {
      "provenance": [],
      "authorship_tag": "ABX9TyMl2afia4QaYJRv15ZIIKRd",
      "include_colab_link": true
    },
    "kernelspec": {
      "name": "python3",
      "display_name": "Python 3"
    },
    "language_info": {
      "name": "python"
    }
  },
  "cells": [
    {
      "cell_type": "markdown",
      "metadata": {
        "id": "view-in-github",
        "colab_type": "text"
      },
      "source": [
        "<a href=\"https://colab.research.google.com/github/t-fuchi/RedisMMap/blob/main/RedisMMap.ipynb\" target=\"_parent\"><img src=\"https://colab.research.google.com/assets/colab-badge.svg\" alt=\"Open In Colab\"/></a>"
      ]
    },
    {
      "cell_type": "markdown",
      "source": [
        "## Redisでmmapしたファイルから値を読み込むモジュールをGoogle Colabで作ってみた\n",
        "\n",
        "Redisでは既存のファイルを読み込む機能が見当たりません。（寡聞にして知らないだけかもしれないので、知っていたら教えてください。）\n",
        "\n",
        "そこで、doubleの値を書き込んだファイルをmmapでマップして、そこから指定した位置の値を読み書きするモジュールを作ってみました。\n",
        "\n",
        "このモジュールを導入すると以下のコマンドが使えるようになります。\n",
        "\n",
        "```\n",
        "// file_pathにあるファイルをkeyに結びつける\n",
        "MMAP key file_path\n",
        "\n",
        "// keyの内容を消去する\n",
        "VCLEAR key\n",
        "\n",
        "// keyにvalueを追加する\n",
        "VADD key value [value ...]\n",
        "\n",
        "// keyからindex位置にある値を取得する\n",
        "VGET key index\n",
        "\n",
        "// keyから複数のindex位置にある値を取得する\n",
        "VMGET key index [index ...]\n",
        "\n",
        "// keyのindex位置に値を書き込む\n",
        "VSET key index value [index value ...]\n",
        "\n",
        "// keyの値の数を取得する\n",
        "VSIZE key\n",
        "\n",
        "// keyの最後の値を取得して削除する\n",
        "VPOP key\n",
        "```\n",
        "\n",
        "\n",
        "\n"
      ],
      "metadata": {
        "id": "ebmIZkYT-Buz"
      }
    },
    {
      "cell_type": "markdown",
      "source": [
        "Redisのソースを取得して、モジュールのディレクトリに移動します。"
      ],
      "metadata": {
        "id": "B4dFblMVqWtf"
      }
    },
    {
      "cell_type": "code",
      "source": [
        "%cd /content\n",
        "!wget https://download.redis.io/redis-stable.tar.gz\n",
        "!tar -xzf redis-stable.tar.gz\n",
        "%cd /content/redis-stable/src/modules"
      ],
      "metadata": {
        "id": "Nm5oZ6X99ZoE"
      },
      "execution_count": null,
      "outputs": []
    },
    {
      "cell_type": "markdown",
      "source": [
        "試しにサンプルのコードをmakeしてみましょう。"
      ],
      "metadata": {
        "id": "GbrJk1f_q0wU"
      }
    },
    {
      "cell_type": "code",
      "source": [
        "!make"
      ],
      "metadata": {
        "id": "GonTC3A3qs4E"
      },
      "execution_count": null,
      "outputs": []
    },
    {
      "cell_type": "markdown",
      "source": [
        "モジュールの.soファイルができました。"
      ],
      "metadata": {
        "id": "FZ1UUofWrJwU"
      }
    },
    {
      "cell_type": "code",
      "source": [
        "!ls *.so"
      ],
      "metadata": {
        "id": "xjCItXs-rA0p"
      },
      "execution_count": null,
      "outputs": []
    },
    {
      "cell_type": "markdown",
      "source": [
        "それではfmmap.cにコードを書いていきましょう。読み書きする値はdoubleです。なおコードを見やすくするためにエラー処理は全て省いています。お試しになる場合は意地悪なコマンドを投入しないようお願いします😏\n",
        "\n",
        "また、[こちら](https://github.com/t-fuchi/RedisMMap)で公開しているコードでは読み書きする値の型を選べるようになっていて、エラー処理も完備しております。\n",
        "\n"
      ],
      "metadata": {
        "id": "H4BhZSz1SWfJ"
      }
    },
    {
      "cell_type": "markdown",
      "source": [
        "まずは必要なヘッダーのインクルードです。ちょっとした便利マクロも定義します。"
      ],
      "metadata": {
        "id": "xAskK-woHPFi"
      }
    },
    {
      "cell_type": "code",
      "source": [
        "%%writefile fmmap.c\n",
        "\n",
        "#pragma GCC diagnostic ignored \"-Wunused-parameter\"\n",
        "\n",
        "#include <sys/mman.h>\n",
        "#include <sys/stat.h>\n",
        "#include <sys/types.h>\n",
        "#include <fcntl.h>\n",
        "#include <unistd.h>\n",
        "#include <stdbool.h>\n",
        "#include <stdint.h>\n",
        "#include <strings.h>\n",
        "#include <string.h>\n",
        "\n",
        "#include \"../redismodule.h\"\n",
        "#include \"../sds.h\"\n",
        "#include \"../zmalloc.h\"\n",
        "\n",
        "// (RedisModuleString *)と(char *)を比較するマクロ\n",
        "static inline int mstringcmp(const RedisModuleString *rs1, const char *s2)\n",
        "{\n",
        "  return strcasecmp(RedisModule_StringPtrLen(rs1, NULL), s2);\n",
        "}\n",
        "\n",
        "int ftruncate(int fildes, off_t length); // unistd.hにあるはずだがwarningが出るので"
      ],
      "metadata": {
        "colab": {
          "base_uri": "https://localhost:8080/"
        },
        "id": "B6i-T3MW-nrR",
        "outputId": "e3bbd354-a77c-4b2c-a3f3-db24837c90fe"
      },
      "execution_count": null,
      "outputs": [
        {
          "output_type": "stream",
          "name": "stdout",
          "text": [
            "Writing fmmap.c\n"
          ]
        }
      ]
    },
    {
      "cell_type": "markdown",
      "source": [
        "MMapObjectを定義します。mmapに必要な情報を詰め込みました。sdsはRedis内で使われる文字列型です。"
      ],
      "metadata": {
        "id": "z3eP1F0NRsM9"
      }
    },
    {
      "cell_type": "code",
      "source": [
        "%%writefile -a fmmap.c\n",
        "\n",
        "typedef struct _MMapObject\n",
        "{\n",
        "  sds file_path;\n",
        "  int fd;\n",
        "  void *mmap;\n",
        "  size_t file_size;\n",
        "} MMapObject;"
      ],
      "metadata": {
        "id": "By7VHi5OQwnT",
        "colab": {
          "base_uri": "https://localhost:8080/"
        },
        "outputId": "edaa3fe9-479f-4369-ccb3-f71cb51e5ceb"
      },
      "execution_count": null,
      "outputs": [
        {
          "output_type": "stream",
          "name": "stdout",
          "text": [
            "Appending to fmmap.c\n"
          ]
        }
      ]
    },
    {
      "cell_type": "markdown",
      "source": [
        "MMap型を保持する変数と、MMapObjectを生成する関数です。"
      ],
      "metadata": {
        "id": "4CnFC1zb4uTN"
      }
    },
    {
      "cell_type": "code",
      "source": [
        "%%writefile -a fmmap.c\n",
        "\n",
        "RedisModuleType *MMapType = NULL; // MMap型を保持する変数\n",
        "\n",
        "// MMapObjectの生成\n",
        "MMapObject *MCreateObject(void)\n",
        "{\n",
        "  return (MMapObject *)zcalloc(sizeof(MMapObject));\n",
        "}"
      ],
      "metadata": {
        "id": "cU2hBwwSRMUC",
        "colab": {
          "base_uri": "https://localhost:8080/"
        },
        "outputId": "855a17c6-bc82-4fa1-cc54-50afb54e197a"
      },
      "execution_count": null,
      "outputs": [
        {
          "output_type": "stream",
          "name": "stdout",
          "text": [
            "Appending to fmmap.c\n"
          ]
        }
      ]
    },
    {
      "cell_type": "markdown",
      "source": [
        "MMapObjectを解放する関数です。"
      ],
      "metadata": {
        "id": "An1byHFs4_VM"
      }
    },
    {
      "cell_type": "code",
      "source": [
        "%%writefile -a fmmap.c\n",
        "\n",
        "// MMapObjectの解放\n",
        "void MFree(void *value)\n",
        "{\n",
        "  if (value == NULL) return;\n",
        "  const MMapObject *obj_ptr = value;\n",
        "  if (obj_ptr->mmap != NULL) munmap(obj_ptr->mmap, obj_ptr->file_size);\n",
        "  if (obj_ptr->fd != -1) close(obj_ptr->fd);\n",
        "  sdsfree(obj_ptr->file_path);\n",
        "  zfree(value);\n",
        "}"
      ],
      "metadata": {
        "id": "QFQzTrztRBrY",
        "colab": {
          "base_uri": "https://localhost:8080/"
        },
        "outputId": "2200d05f-5069-4502-d21a-8d010f127a03"
      },
      "execution_count": null,
      "outputs": [
        {
          "output_type": "stream",
          "name": "stdout",
          "text": [
            "Appending to fmmap.c\n"
          ]
        }
      ]
    },
    {
      "cell_type": "markdown",
      "source": [
        "file_pathで指定したファイルをkeyにマッピングする関数です。"
      ],
      "metadata": {
        "id": "W62Dcs095TtN"
      }
    },
    {
      "cell_type": "code",
      "source": [
        "%%writefile -a fmmap.c\n",
        "\n",
        "#define S_IWRITE 0000200\n",
        "#define S_IREAD  0000400\n",
        "\n",
        "// MMAP key file_path\n",
        "int MMap_RedisCommand(RedisModuleCtx *ctx, RedisModuleString **argv, int argc)\n",
        "{\n",
        "  RedisModule_AutoMemory(ctx); /* Use automatic memory management. */\n",
        "\n",
        "  if (argc != 3) return RedisModule_WrongArity(ctx);\n",
        "\n",
        "  RedisModuleKey *key = RedisModule_OpenKey(ctx, argv[1], REDISMODULE_READ | REDISMODULE_WRITE);\n",
        "\n",
        "  int type = RedisModule_KeyType(key);\n",
        "  if (type != REDISMODULE_KEYTYPE_EMPTY &&\n",
        "      RedisModule_ModuleTypeGetType(key) != MMapType) {\n",
        "    return RedisModule_ReplyWithError(ctx, REDISMODULE_ERRORMSG_WRONGTYPE);\n",
        "  }\n",
        "\n",
        "  // keyが空なら新たにmmapする\n",
        "  MMapObject *obj_ptr;\n",
        "  if (type == REDISMODULE_KEYTYPE_EMPTY) {\n",
        "    obj_ptr = MCreateObject();\n",
        "    obj_ptr->file_path = sdsnew(RedisModule_StringPtrLen(argv[2], NULL));\n",
        "    obj_ptr->fd = open(obj_ptr->file_path, O_RDWR | O_CREAT, S_IWRITE | S_IREAD);\n",
        "    if (obj_ptr->fd == -1) {\n",
        "        MFree(obj_ptr);\n",
        "        return RedisModule_ReplyWithError(ctx, sdsnew(RedisModule_StringPtrLen(argv[2], NULL)));\n",
        "    }\n",
        "\n",
        "    struct stat sb;\n",
        "    fstat(obj_ptr->fd, &sb);\n",
        "    obj_ptr->file_size = sb.st_size;\n",
        "    obj_ptr->mmap = mmap(NULL, sb.st_size, PROT_READ | PROT_WRITE, MAP_SHARED, obj_ptr->fd, 0);\n",
        "    RedisModule_ModuleTypeSetValue(key, MMapType, obj_ptr);\n",
        "  }\n",
        "  else {\n",
        "    obj_ptr = RedisModule_ModuleTypeGetValue(key);\n",
        "    if (obj_ptr == NULL) {\n",
        "      RedisModule_ReplyWithNull(ctx);\n",
        "      return REDISMODULE_ERR;\n",
        "    }\n",
        "    // 既存のファイルと異なる場合はエラー\n",
        "    if (strcmp(obj_ptr->file_path, RedisModule_StringPtrLen(argv[2], NULL)) != 0) {\n",
        "      return RedisModule_ReplyWithError(ctx, \"It is already mapped on another file.\");\n",
        "    }\n",
        "  }\n",
        "\n",
        "  return RedisModule_ReplyWithLongLong(ctx, obj_ptr->file_size / sizeof(double));\n",
        "}\n"
      ],
      "metadata": {
        "colab": {
          "base_uri": "https://localhost:8080/"
        },
        "id": "83ef-t0O_S64",
        "outputId": "11488728-9eb2-4f62-8d52-de9ee9a20713"
      },
      "execution_count": null,
      "outputs": [
        {
          "output_type": "stream",
          "name": "stdout",
          "text": [
            "Appending to fmmap.c\n"
          ]
        }
      ]
    },
    {
      "cell_type": "markdown",
      "source": [
        "indexで示した位置の値を取得する関数です。"
      ],
      "metadata": {
        "id": "obybK8RaF5FC"
      }
    },
    {
      "cell_type": "code",
      "source": [
        "%%writefile -a fmmap.c\n",
        "\n",
        "// VGET key index\n",
        "int VGet_RedisCommand(RedisModuleCtx *ctx, RedisModuleString **argv, int argc)\n",
        "{\n",
        "  RedisModule_AutoMemory(ctx); /* Use automatic memory management. */\n",
        "\n",
        "  RedisModuleKey *key =\n",
        "    RedisModule_OpenKey(ctx, argv[1], REDISMODULE_READ | REDISMODULE_WRITE);\n",
        "\n",
        "  long long index;\n",
        "  RedisModule_StringToLongLong(argv[2], &index);\n",
        "\n",
        "  MMapObject *obj_ptr = RedisModule_ModuleTypeGetValue(key);\n",
        "\n",
        "  if (obj_ptr->file_size < (size_t)index * sizeof(double) || index < 0) {\n",
        "    RedisModule_ReplyWithNull(ctx);\n",
        "  }\n",
        "  else {\n",
        "    RedisModule_ReplyWithDouble(ctx, ((double*)obj_ptr->mmap)[index]);\n",
        "  }\n",
        "  return REDISMODULE_OK;\n",
        "}"
      ],
      "metadata": {
        "id": "Mgn3mC5f_csU",
        "colab": {
          "base_uri": "https://localhost:8080/"
        },
        "outputId": "7e639acd-4754-483e-b6cd-9a8913967800"
      },
      "execution_count": null,
      "outputs": [
        {
          "output_type": "stream",
          "name": "stdout",
          "text": [
            "Appending to fmmap.c\n"
          ]
        }
      ]
    },
    {
      "cell_type": "markdown",
      "source": [
        "複数のindexで示した位置の値を取得する関数です。"
      ],
      "metadata": {
        "id": "NOHacZDkH3i1"
      }
    },
    {
      "cell_type": "code",
      "source": [
        "%%writefile -a fmmap.c\n",
        "\n",
        "// VMGET key index [index ...]\n",
        "int VMGet_RedisCommand(RedisModuleCtx *ctx, RedisModuleString **argv, int argc)\n",
        "{\n",
        "  RedisModule_AutoMemory(ctx); /* Use automatic memory management. */\n",
        "\n",
        "  RedisModuleKey *key =\n",
        "      RedisModule_OpenKey(ctx, argv[1], REDISMODULE_READ | REDISMODULE_WRITE);\n",
        "\n",
        "  MMapObject *obj_ptr = RedisModule_ModuleTypeGetValue(key);\n",
        "\n",
        "  RedisModule_ReplyWithArray(ctx, argc - 2);\n",
        "  for (int i = 2; i < argc; i++) {\n",
        "    long long index;\n",
        "    RedisModule_StringToLongLong(argv[i], &index);\n",
        "    if (obj_ptr->file_size < (size_t)index * sizeof(double) || index < 0) {\n",
        "      RedisModule_ReplyWithNull(ctx);\n",
        "    }\n",
        "    else {\n",
        "      RedisModule_ReplyWithDouble(ctx, ((double*)obj_ptr->mmap)[index]);\n",
        "    }\n",
        "  }\n",
        "  return REDISMODULE_OK;\n",
        "}"
      ],
      "metadata": {
        "id": "qmGUc1OQEq2Y",
        "colab": {
          "base_uri": "https://localhost:8080/"
        },
        "outputId": "8a52307a-be9b-4d6c-cd1e-b64d9bb6b59f"
      },
      "execution_count": null,
      "outputs": [
        {
          "output_type": "stream",
          "name": "stdout",
          "text": [
            "Appending to fmmap.c\n"
          ]
        }
      ]
    },
    {
      "cell_type": "markdown",
      "source": [
        "indexで示した位置に値を書き込む関数です。"
      ],
      "metadata": {
        "id": "9mjKa47pIIP8"
      }
    },
    {
      "cell_type": "code",
      "source": [
        "%%writefile -a fmmap.c\n",
        "\n",
        "// VSET key index value [index value ...]\n",
        "int VSet_RedisCommand(RedisModuleCtx *ctx, RedisModuleString **argv, int argc)\n",
        "{\n",
        "  RedisModule_AutoMemory(ctx); /* Use automatic memory management. */\n",
        "\n",
        "  RedisModuleKey *key =\n",
        "      RedisModule_OpenKey(ctx, argv[1], REDISMODULE_READ | REDISMODULE_WRITE);\n",
        "\n",
        "  MMapObject *obj_ptr = RedisModule_ModuleTypeGetValue(key);\n",
        "\n",
        "  long long index;\n",
        "  double value;\n",
        "  for (int i = 3; i < argc; i += 2) {\n",
        "    if (RedisModule_StringToDouble(argv[i], &value) == REDISMODULE_ERR) {\n",
        "      return RedisModule_ReplyWithError(ctx, \"value must be double.\");\n",
        "    }\n",
        "  }\n",
        "  for (int i = 2; i < argc; i += 2) {\n",
        "    RedisModule_StringToLongLong(argv[i], &index);\n",
        "    RedisModule_StringToDouble(argv[i + 1], &value);\n",
        "    *((double*)obj_ptr->mmap + index) = (double)value;\n",
        "  }\n",
        "\n",
        "  return RedisModule_ReplyWithLongLong(ctx, (argc - 2) / 2);\n",
        "}\n"
      ],
      "metadata": {
        "id": "Swxnzf28Fcw0",
        "colab": {
          "base_uri": "https://localhost:8080/"
        },
        "outputId": "16ff13fc-56df-4370-b8d5-0a9994a22429"
      },
      "execution_count": null,
      "outputs": [
        {
          "output_type": "stream",
          "name": "stdout",
          "text": [
            "Appending to fmmap.c\n"
          ]
        }
      ]
    },
    {
      "cell_type": "markdown",
      "source": [
        "ファイルの末尾に値を追加する関数です。"
      ],
      "metadata": {
        "id": "um_u2SLXIPcT"
      }
    },
    {
      "cell_type": "code",
      "source": [
        "%%writefile -a fmmap.c\n",
        "\n",
        "// VADD key value [value ...]\n",
        "int VAdd_RedisCommand(RedisModuleCtx *ctx, RedisModuleString **argv, int argc)\n",
        "{\n",
        "  RedisModule_AutoMemory(ctx); /* Use automatic memory management. */\n",
        "\n",
        "  RedisModuleKey *key =\n",
        "      RedisModule_OpenKey(ctx, argv[1], REDISMODULE_READ | REDISMODULE_WRITE);\n",
        "\n",
        "  MMapObject *obj_ptr = RedisModule_ModuleTypeGetValue(key);\n",
        "  double value;\n",
        "  for (int i = 2; i < argc; ++i) {\n",
        "    if (RedisModule_StringToDouble(argv[i], &value) == REDISMODULE_ERR) {\n",
        "      return RedisModule_ReplyWithError(ctx, \"value must be double.\");\n",
        "    }\n",
        "  }\n",
        "  size_t new_size = obj_ptr->file_size + sizeof(double) * (argc - 2);\n",
        "  ftruncate(obj_ptr->fd, new_size);\n",
        "  munmap(obj_ptr->mmap, obj_ptr->file_size);\n",
        "  obj_ptr->mmap = mmap(NULL, new_size, PROT_READ | PROT_WRITE, MAP_SHARED, obj_ptr->fd, 0);\n",
        "  for (int i = 2; i < argc; ++i) {\n",
        "    size_t index = obj_ptr->file_size / sizeof(double);\n",
        "    RedisModule_StringToDouble(argv[i], &value);\n",
        "    obj_ptr->file_size += sizeof(double);\n",
        "    *((double*)obj_ptr->mmap + index) = (double)value;\n",
        "  }\n",
        "\n",
        "  return RedisModule_ReplyWithLongLong(ctx, argc - 2);\n",
        "}"
      ],
      "metadata": {
        "id": "fdhi9xNIGqdI",
        "colab": {
          "base_uri": "https://localhost:8080/"
        },
        "outputId": "dd191794-3c77-497f-fd37-62b04541b070"
      },
      "execution_count": null,
      "outputs": [
        {
          "output_type": "stream",
          "name": "stdout",
          "text": [
            "Appending to fmmap.c\n"
          ]
        }
      ]
    },
    {
      "cell_type": "markdown",
      "source": [
        "ファイルに含まれる値の数を取得する関数です。"
      ],
      "metadata": {
        "id": "EYyiyPTfIWRv"
      }
    },
    {
      "cell_type": "code",
      "source": [
        "%%writefile -a fmmap.c\n",
        "\n",
        "// VSIZE key\n",
        "int VSize_RedisCommand(RedisModuleCtx *ctx, RedisModuleString **argv, int argc)\n",
        "{\n",
        "  RedisModule_AutoMemory(ctx); /* Use automatic memory management. */\n",
        "\n",
        "  RedisModuleKey *key =\n",
        "      RedisModule_OpenKey(ctx, argv[1], REDISMODULE_READ | REDISMODULE_WRITE);\n",
        "\n",
        "  MMapObject *obj_ptr = RedisModule_ModuleTypeGetValue(key);\n",
        "\n",
        "  return RedisModule_ReplyWithLongLong(ctx, obj_ptr->file_size / sizeof(double));\n",
        "}"
      ],
      "metadata": {
        "id": "SBDuwxJzHL26",
        "colab": {
          "base_uri": "https://localhost:8080/"
        },
        "outputId": "7148832d-9a03-4e74-ca9a-40f8ef6e4788"
      },
      "execution_count": null,
      "outputs": [
        {
          "output_type": "stream",
          "name": "stdout",
          "text": [
            "Appending to fmmap.c\n"
          ]
        }
      ]
    },
    {
      "cell_type": "markdown",
      "source": [
        "ファイルの内容を消去する関数です。"
      ],
      "metadata": {
        "id": "kYA2EaImIeeJ"
      }
    },
    {
      "cell_type": "code",
      "source": [
        "%%writefile -a fmmap.c\n",
        "\n",
        "// VCLEAR key\n",
        "int VClear_RedisCommand(RedisModuleCtx *ctx, RedisModuleString **argv, int argc)\n",
        "{\n",
        "  RedisModule_AutoMemory(ctx); /* Use automatic memory management. */\n",
        "\n",
        "  RedisModuleKey *key =\n",
        "      RedisModule_OpenKey(ctx, argv[1], REDISMODULE_READ | REDISMODULE_WRITE);\n",
        "\n",
        "  MMapObject *obj_ptr = RedisModule_ModuleTypeGetValue(key);\n",
        "\n",
        "  munmap(obj_ptr->mmap, obj_ptr->file_size);\n",
        "  ftruncate(obj_ptr->fd, 0);\n",
        "  obj_ptr->mmap = mmap(NULL, 0, PROT_READ | PROT_WRITE, MAP_SHARED, obj_ptr->fd, 0);\n",
        "  obj_ptr->file_size = 0;\n",
        "\n",
        "  return REDISMODULE_OK;\n",
        "}"
      ],
      "metadata": {
        "id": "5Z8bjafyHjbl",
        "colab": {
          "base_uri": "https://localhost:8080/"
        },
        "outputId": "22b5cfdd-0eff-48e5-cec5-af243d457c47"
      },
      "execution_count": null,
      "outputs": [
        {
          "output_type": "stream",
          "name": "stdout",
          "text": [
            "Appending to fmmap.c\n"
          ]
        }
      ]
    },
    {
      "cell_type": "markdown",
      "source": [
        "ファイルの末尾から数値を取得して、削除する関数です。"
      ],
      "metadata": {
        "id": "6RYMWJy9IkkU"
      }
    },
    {
      "cell_type": "code",
      "source": [
        "%%writefile -a fmmap.c\n",
        "\n",
        "// VPOP key\n",
        "int VPop_RedisCommand(RedisModuleCtx *ctx, RedisModuleString **argv, int argc)\n",
        "{\n",
        "  RedisModule_AutoMemory(ctx); /* Use automatic memory management. */\n",
        "\n",
        "  RedisModuleKey *key =\n",
        "      RedisModule_OpenKey(ctx, argv[1], REDISMODULE_READ | REDISMODULE_WRITE);\n",
        "\n",
        "  MMapObject *obj_ptr = RedisModule_ModuleTypeGetValue(key);\n",
        "\n",
        "  if (obj_ptr->file_size == 0) {\n",
        "    RedisModule_ReplyWithNull(ctx);\n",
        "  }\n",
        "  else {\n",
        "    size_t index = obj_ptr->file_size / sizeof(double);\n",
        "    RedisModule_ReplyWithDouble(ctx, ((double*)obj_ptr->mmap)[index]);\n",
        "    munmap(obj_ptr->mmap, obj_ptr->file_size);\n",
        "    obj_ptr->file_size -= sizeof(double);\n",
        "    ftruncate(obj_ptr->fd, obj_ptr->file_size);\n",
        "    obj_ptr->mmap = mmap(NULL, obj_ptr->file_size, PROT_READ | PROT_WRITE, MAP_SHARED, obj_ptr->fd, 0);\n",
        "  }\n",
        "  return REDISMODULE_OK;\n",
        "}"
      ],
      "metadata": {
        "id": "-APt5ZjQHxP-",
        "colab": {
          "base_uri": "https://localhost:8080/"
        },
        "outputId": "56d4e38f-9f5f-4302-a87b-00eb4d6a445f"
      },
      "execution_count": null,
      "outputs": [
        {
          "output_type": "stream",
          "name": "stdout",
          "text": [
            "Appending to fmmap.c\n"
          ]
        }
      ]
    },
    {
      "cell_type": "markdown",
      "source": [
        "RedisのRDBファイルにmmapに関する情報を保存する関数です。"
      ],
      "metadata": {
        "id": "YUO8UsY-IwDh"
      }
    },
    {
      "cell_type": "code",
      "source": [
        "%%writefile -a fmmap.c\n",
        "\n",
        "void MRdbSave(RedisModuleIO *rdb, void *value)\n",
        "{\n",
        "  MMapObject *obj_ptr = value;\n",
        "  RedisModule_SaveStringBuffer(rdb, obj_ptr->file_path, sdslen(obj_ptr->file_path));\n",
        "  msync(obj_ptr->mmap, obj_ptr->file_size, MS_ASYNC);\n",
        "}"
      ],
      "metadata": {
        "id": "Z9tP4bIzIEla",
        "colab": {
          "base_uri": "https://localhost:8080/"
        },
        "outputId": "1c1bbd0b-cbb0-4697-9b57-7f133a231e5f"
      },
      "execution_count": null,
      "outputs": [
        {
          "output_type": "stream",
          "name": "stdout",
          "text": [
            "Appending to fmmap.c\n"
          ]
        }
      ]
    },
    {
      "cell_type": "markdown",
      "source": [
        "RedisのRDBファイルからmmapに関する情報を読み出す関数です。"
      ],
      "metadata": {
        "id": "a4w9eoP0I796"
      }
    },
    {
      "cell_type": "code",
      "source": [
        "%%writefile -a fmmap.c\n",
        "\n",
        "void *MRdbLoad(RedisModuleIO *rdb, int encver)\n",
        "{\n",
        "  MMapObject *obj_ptr = MCreateObject();\n",
        "  obj_ptr->file_path = sdsnew(RedisModule_StringPtrLen(RedisModule_LoadString(rdb), NULL));\n",
        "  obj_ptr->fd = open(obj_ptr->file_path, O_RDWR);\n",
        "\n",
        "  struct stat sb;\n",
        "  fstat(obj_ptr->fd, &sb);\n",
        "  obj_ptr->file_size = sb.st_size;\n",
        "  obj_ptr->mmap = mmap(NULL, sb.st_size, PROT_READ | PROT_WRITE, MAP_SHARED, obj_ptr->fd, 0);\n",
        "\n",
        "  return obj_ptr;\n",
        "}"
      ],
      "metadata": {
        "id": "vGTI5s14IMKP",
        "colab": {
          "base_uri": "https://localhost:8080/"
        },
        "outputId": "ca3a4827-03c0-4500-9307-8eb4733b3ccc"
      },
      "execution_count": null,
      "outputs": [
        {
          "output_type": "stream",
          "name": "stdout",
          "text": [
            "Appending to fmmap.c\n"
          ]
        }
      ]
    },
    {
      "cell_type": "markdown",
      "source": [
        "RedisのAOFを利用するための関数です。"
      ],
      "metadata": {
        "id": "Luxtig0PJWUL"
      }
    },
    {
      "cell_type": "code",
      "source": [
        "%%writefile -a fmmap.c\n",
        "\n",
        "void MAofRewrite(RedisModuleIO *aof, RedisModuleString *key, void *value)\n",
        "{\n",
        "  char buffer[0x200];\n",
        "  MMapObject *obj_ptr = (MMapObject*)value;\n",
        "  RedisModule_EmitAOF(aof, \"MMAP\", \"sc\",\n",
        "                      key,\n",
        "                      obj_ptr->file_path);\n",
        "  RedisModule_EmitAOF(aof, \"MCLEAR\", \"ss\", key, obj_ptr->file_path);\n",
        "  for (size_t i = 0; i < obj_ptr->file_size; i += sizeof(double)) {\n",
        "    double value = *(double *)((uint8_t*)obj_ptr->mmap + i);\n",
        "    sprintf(buffer, \"%.16f\", value);\n",
        "    RedisModule_EmitAOF(aof, \"MADD\", \"sbc\", key, buffer);\n",
        "  }\n",
        "}"
      ],
      "metadata": {
        "id": "J1plnkvBIMGI",
        "colab": {
          "base_uri": "https://localhost:8080/"
        },
        "outputId": "fd759d77-a133-4d60-bf4b-bd770008b570"
      },
      "execution_count": null,
      "outputs": [
        {
          "output_type": "stream",
          "name": "stdout",
          "text": [
            "Appending to fmmap.c\n"
          ]
        }
      ]
    },
    {
      "cell_type": "markdown",
      "source": [
        "その他、Redisのモジュールに必要な関数です。"
      ],
      "metadata": {
        "id": "c0QvJOQUJhFp"
      }
    },
    {
      "cell_type": "code",
      "source": [
        "%%writefile -a fmmap.c\n",
        "\n",
        "size_t MMemUsage(const void *value)\n",
        "{\n",
        "  const MMapObject *obj_ptr = value;\n",
        "  return obj_ptr->file_size;\n",
        "}\n",
        "\n",
        "void MDigest(RedisModuleDigest *md, void *value)\n",
        "{\n",
        "  REDISMODULE_NOT_USED(md);\n",
        "  REDISMODULE_NOT_USED(value);\n",
        "}"
      ],
      "metadata": {
        "id": "Slx-jCVCIMB7",
        "colab": {
          "base_uri": "https://localhost:8080/"
        },
        "outputId": "dece75a5-bd47-433b-fdda-a3a49ca1483f"
      },
      "execution_count": null,
      "outputs": [
        {
          "output_type": "stream",
          "name": "stdout",
          "text": [
            "Appending to fmmap.c\n"
          ]
        }
      ]
    },
    {
      "cell_type": "markdown",
      "source": [
        "Redisのコマンドを作成するマクロ"
      ],
      "metadata": {
        "id": "TH3wuPdtJqVR"
      }
    },
    {
      "cell_type": "code",
      "source": [
        "%%writefile -a fmmap.c\n",
        "\n",
        "#define CREATE_CMD(name, tgt, attr, key_pos, key_last)                     \\\n",
        "  do {                                                                     \\\n",
        "    if (RedisModule_CreateCommand(ctx, name, tgt, attr, key_pos, key_last, \\\n",
        "                                  1) != REDISMODULE_OK) {                  \\\n",
        "      return REDISMODULE_ERR;                                              \\\n",
        "    }                                                                      \\\n",
        "  } while (0);\n"
      ],
      "metadata": {
        "id": "JRIuT6kfIL9w",
        "colab": {
          "base_uri": "https://localhost:8080/"
        },
        "outputId": "a4ae654e-ecfa-49d7-e4b1-371322ccbc20"
      },
      "execution_count": null,
      "outputs": [
        {
          "output_type": "stream",
          "name": "stdout",
          "text": [
            "Appending to fmmap.c\n"
          ]
        }
      ]
    },
    {
      "cell_type": "markdown",
      "source": [
        "モジュールのロード時に呼ばれて、モジュールを準備する関数です。ここで各コマンドとそれを実行する関数を結びつけます。"
      ],
      "metadata": {
        "id": "Lx2d4Pn6Jv6B"
      }
    },
    {
      "cell_type": "code",
      "source": [
        "%%writefile -a fmmap.c\n",
        "\n",
        "int RedisModule_OnLoad(RedisModuleCtx *ctx, RedisModuleString **argv, int argc)\n",
        "{\n",
        "  REDISMODULE_NOT_USED(argv);\n",
        "  REDISMODULE_NOT_USED(argc);\n",
        "\n",
        "  RedisModule_Init(ctx, \"FuchiMMap\", 1, REDISMODULE_APIVER_1);\n",
        "\n",
        "  RedisModuleTypeMethods tm = {.version = REDISMODULE_TYPE_METHOD_VERSION,\n",
        "                               .rdb_load = MRdbLoad,\n",
        "                               .rdb_save = MRdbSave,\n",
        "                               .aof_rewrite = MAofRewrite,\n",
        "                               .mem_usage = MMemUsage,\n",
        "                               .free = MFree,\n",
        "                               .digest = MDigest};\n",
        "\n",
        "  MMapType = RedisModule_CreateDataType(ctx, \"FuchiMMap\", 0, &tm);\n",
        "\n",
        "  // MMAP key file_path\n",
        "  CREATE_CMD(\"MMAP\", MMap_RedisCommand, \"write fast\", 1, 1);\n",
        "\n",
        "  // VCLEAR key\n",
        "  CREATE_CMD(\"VCLEAR\", VClear_RedisCommand, \"write fast\", 1, 1);\n",
        "\n",
        "  // VADD key value [value ...]\n",
        "  CREATE_CMD(\"VADD\", VAdd_RedisCommand, \"write fast\", 1, 1);\n",
        "\n",
        "  // VGET key index\n",
        "  CREATE_CMD(\"VGET\", VGet_RedisCommand, \"readonly fast\", 1, 1);\n",
        "\n",
        "  // VMGET key index [index ...]\n",
        "  CREATE_CMD(\"VMGET\", VMGet_RedisCommand, \"readonly fast\", 1, 1);\n",
        "\n",
        "  // VSET key index value [index value ...]\n",
        "  CREATE_CMD(\"VSET\", VSet_RedisCommand, \"write fast\", 1, 1);\n",
        "\n",
        "  // VSIZE key\n",
        "  CREATE_CMD(\"VSIZE\", VSize_RedisCommand, \"readonly fast\", 1, 1);\n",
        "\n",
        "  // VPOP key\n",
        "  CREATE_CMD(\"VPOP\", VPop_RedisCommand, \"write fast\", 1, 1);\n",
        "\n",
        "  return REDISMODULE_OK;\n",
        "}\n"
      ],
      "metadata": {
        "id": "W1IZVhWvILyT",
        "colab": {
          "base_uri": "https://localhost:8080/"
        },
        "outputId": "ef2cf5dc-e024-4abb-b248-e5b9b730b78a"
      },
      "execution_count": null,
      "outputs": [
        {
          "output_type": "stream",
          "name": "stdout",
          "text": [
            "Appending to fmmap.c\n"
          ]
        }
      ]
    },
    {
      "cell_type": "markdown",
      "source": [
        "ソースをビルドするためのMakefileです。"
      ],
      "metadata": {
        "id": "KX9PHsj8KEiK"
      }
    },
    {
      "cell_type": "code",
      "source": [
        "%%writefile Makefile.fmmap\n",
        "\n",
        "SHOBJ_CFLAGS ?= -W -Wall -fno-common -g -ggdb -std=c99 -O2\n",
        "SHOBJ_LDFLAGS ?= -shared\n",
        "\n",
        ".SUFFIXES: .c .so .xo .o\n",
        "\n",
        "all: fmmap.so\n",
        "\n",
        ".c.xo:\n",
        "\t$(CC) -I. $(CFLAGS) $(SHOBJ_CFLAGS) -fPIC -c $< -o $@\n",
        "\n",
        "fmmap.xo: ../redismodule.h\n",
        "\n",
        "fmmap.so: fmmap.xo\n",
        "\t$(LD) -o $@ $^ $(SHOBJ_LDFLAGS) $(LIBS) -lc\n",
        "\n",
        "clean:\n",
        "\trm -rf *.xo *.so"
      ],
      "metadata": {
        "id": "Ewpiz9DfKMNv",
        "colab": {
          "base_uri": "https://localhost:8080/"
        },
        "outputId": "b60b2972-ac8e-4bad-e3d2-ae061783d829"
      },
      "execution_count": null,
      "outputs": [
        {
          "output_type": "stream",
          "name": "stdout",
          "text": [
            "Writing Makefile.fmmap\n"
          ]
        }
      ]
    },
    {
      "cell_type": "markdown",
      "source": [
        "モジュールをmakeします。"
      ],
      "metadata": {
        "id": "AJbt_7ubKZSG"
      }
    },
    {
      "cell_type": "code",
      "source": [
        "!make -f Makefile.fmmap\n",
        "!ls fmmap.so"
      ],
      "metadata": {
        "id": "poQmS_hwLLOn",
        "colab": {
          "base_uri": "https://localhost:8080/"
        },
        "outputId": "3a05ddc5-ea4c-4e44-a271-f9d0e3bd4728"
      },
      "execution_count": null,
      "outputs": [
        {
          "output_type": "stream",
          "name": "stdout",
          "text": [
            "cc -I.  -W -Wall -fno-common -g -ggdb -std=c99 -O2 -fPIC -c fmmap.c -o fmmap.xo\n",
            "ld -o fmmap.so fmmap.xo -shared  -lc\n",
            "fmmap.so\n"
          ]
        }
      ]
    },
    {
      "cell_type": "markdown",
      "source": [
        "作成したモジュールを読み込めるように設定ファイルを準備します。"
      ],
      "metadata": {
        "id": "qTWS71mlKn_H"
      }
    },
    {
      "cell_type": "code",
      "source": [
        "!cp ../../redis.conf ."
      ],
      "metadata": {
        "id": "MzT05HA2NbTq"
      },
      "execution_count": null,
      "outputs": []
    },
    {
      "cell_type": "code",
      "source": [
        "%%writefile -a redis.conf\n",
        "enable-module-command yes\n",
        "loadmodule /content/redis-stable/src/modules/fmmap.so"
      ],
      "metadata": {
        "id": "ZkWPur2RMtQj",
        "colab": {
          "base_uri": "https://localhost:8080/"
        },
        "outputId": "b5992709-4e67-4a99-d031-e109f97efa26"
      },
      "execution_count": null,
      "outputs": [
        {
          "output_type": "stream",
          "name": "stdout",
          "text": [
            "Appending to redis.conf\n"
          ]
        }
      ]
    },
    {
      "cell_type": "markdown",
      "source": [
        "Redisをインストールします。"
      ],
      "metadata": {
        "id": "BdhNej6lLe1j"
      }
    },
    {
      "cell_type": "code",
      "source": [
        "!sudo yes | add-apt-repository ppa:redislabs/redis\n",
        "!sudo apt-get update\n",
        "!sudo apt-get install redis"
      ],
      "metadata": {
        "id": "zOXorISbIiqr"
      },
      "execution_count": null,
      "outputs": []
    },
    {
      "cell_type": "markdown",
      "source": [
        "設定ファイルに書き込みます。"
      ],
      "metadata": {
        "id": "mZl8Kr6XKxqz"
      }
    },
    {
      "cell_type": "code",
      "source": [
        "%%writefile -a /etc/redis/redis.conf\n",
        "enable-module-command yes\n",
        "loadmodule /content/redis-stable/src/modules/fmmap.so"
      ],
      "metadata": {
        "colab": {
          "base_uri": "https://localhost:8080/"
        },
        "id": "cm09QiJ1sbMp",
        "outputId": "a1d97b2a-5384-4473-aec9-c426d04d55f3"
      },
      "execution_count": null,
      "outputs": [
        {
          "output_type": "stream",
          "name": "stdout",
          "text": [
            "Appending to /etc/redis/redis.conf\n"
          ]
        }
      ]
    },
    {
      "cell_type": "markdown",
      "source": [
        "Redisを実行します。"
      ],
      "metadata": {
        "id": "peUUvoBuLl_V"
      }
    },
    {
      "cell_type": "code",
      "source": [
        "!service redis-server start"
      ],
      "metadata": {
        "colab": {
          "base_uri": "https://localhost:8080/"
        },
        "id": "v9LCwn7TM8hl",
        "outputId": "8dc5845c-373c-4324-8728-53b67ab4c615"
      },
      "execution_count": null,
      "outputs": [
        {
          "output_type": "stream",
          "name": "stdout",
          "text": [
            "Starting redis-server: redis-server.\n"
          ]
        }
      ]
    },
    {
      "cell_type": "markdown",
      "source": [
        "Redisが実行されているか確認します。"
      ],
      "metadata": {
        "id": "fcEw2fMKWjwE"
      }
    },
    {
      "cell_type": "code",
      "source": [
        "!sleep 1\n",
        "!ps aux | grep redis | grep -v grep"
      ],
      "metadata": {
        "colab": {
          "base_uri": "https://localhost:8080/"
        },
        "id": "3S5i2-2uYfmL",
        "outputId": "f5568ee2-b925-48fc-acc9-1e5226aa3b63"
      },
      "execution_count": null,
      "outputs": [
        {
          "output_type": "stream",
          "name": "stdout",
          "text": [
            "redis       4355  0.0  0.0  59132  6276 ?        Ssl  11:22   0:00 /usr/bin/redis-server 127.0.0.1:6379\n"
          ]
        }
      ]
    },
    {
      "cell_type": "markdown",
      "source": [
        "ファイルを書き込む場所を準備します。"
      ],
      "metadata": {
        "id": "qpEK5VK_Eq4r"
      }
    },
    {
      "cell_type": "code",
      "source": [
        "!mkdir /content/db\n",
        "!chmod 777 /content/db"
      ],
      "metadata": {
        "id": "4TN5fvMSC1Eg"
      },
      "execution_count": null,
      "outputs": []
    },
    {
      "cell_type": "markdown",
      "source": [
        "dbという名前でファイルをマップします。"
      ],
      "metadata": {
        "id": "A2oexH4uyBnQ"
      }
    },
    {
      "cell_type": "code",
      "source": [
        "!echo \"MMAP db /content/db/file.mmap\" | redis-cli"
      ],
      "metadata": {
        "colab": {
          "base_uri": "https://localhost:8080/"
        },
        "id": "nARXq8hgu2-J",
        "outputId": "61279d38-5745-49b2-97bd-b4aa5d57a7e9"
      },
      "execution_count": null,
      "outputs": [
        {
          "output_type": "stream",
          "name": "stdout",
          "text": [
            "(integer) 0\n"
          ]
        }
      ]
    },
    {
      "cell_type": "markdown",
      "source": [
        "ファイルができていることを確認します。まだファイルサイズは0です。"
      ],
      "metadata": {
        "id": "tOOLM-HTyLNx"
      }
    },
    {
      "cell_type": "code",
      "source": [
        "!ls -l /content/db"
      ],
      "metadata": {
        "colab": {
          "base_uri": "https://localhost:8080/"
        },
        "id": "eqvz2mm1u5db",
        "outputId": "139f03c3-1c3e-4fef-dbed-eae48e614864"
      },
      "execution_count": null,
      "outputs": [
        {
          "output_type": "stream",
          "name": "stdout",
          "text": [
            "total 0\n",
            "-rw------- 1 redis redis 0 Jun 17 11:22 file.mmap\n"
          ]
        }
      ]
    },
    {
      "cell_type": "markdown",
      "source": [
        "値を追加してみます。"
      ],
      "metadata": {
        "id": "CeTkpYnpyVaU"
      }
    },
    {
      "cell_type": "code",
      "source": [
        "!echo \"VADD db 0.1\" | redis-cli"
      ],
      "metadata": {
        "colab": {
          "base_uri": "https://localhost:8080/"
        },
        "id": "nfja4sE7FQ0B",
        "outputId": "80daf392-db24-405d-9848-c335030984c4"
      },
      "execution_count": null,
      "outputs": [
        {
          "output_type": "stream",
          "name": "stdout",
          "text": [
            "(integer) 1\n"
          ]
        }
      ]
    },
    {
      "cell_type": "markdown",
      "source": [
        "ファイルサイズが8バイトに増えているのが確認できます。"
      ],
      "metadata": {
        "id": "0TPMQT9vzmWb"
      }
    },
    {
      "cell_type": "code",
      "source": [
        "!ls -l /content/db"
      ],
      "metadata": {
        "colab": {
          "base_uri": "https://localhost:8080/"
        },
        "id": "os8Fy8JfFbGy",
        "outputId": "3bf74c1d-b7ee-4b00-9e4a-4e16f315ee2c"
      },
      "execution_count": null,
      "outputs": [
        {
          "output_type": "stream",
          "name": "stdout",
          "text": [
            "total 4\n",
            "-rw------- 1 redis redis 4 Jun 17 11:22 file.mmap\n"
          ]
        }
      ]
    },
    {
      "cell_type": "markdown",
      "source": [
        "ファイルにコマンドを書き出して実行してみましょう。"
      ],
      "metadata": {
        "id": "pGaUP_lFzzRZ"
      }
    },
    {
      "cell_type": "code",
      "source": [
        "%%writefile command\n",
        "vadd db 0.2\n",
        "vadd db 0.3\n",
        "vadd db 0.4\n",
        "vadd db 0.5\n",
        "vadd db 0.6\n",
        "vadd db 0.7\n",
        "vadd db 0.8\n",
        "vadd db 0.9\n",
        "vsize db"
      ],
      "metadata": {
        "id": "MyvWfynlxdBf"
      },
      "execution_count": null,
      "outputs": []
    },
    {
      "cell_type": "markdown",
      "source": [
        "実行すると、登録数が10になっているのがわかります。"
      ],
      "metadata": {
        "id": "0ZO6DMjJz4ni"
      }
    },
    {
      "cell_type": "code",
      "source": [
        "!redis-cli < command"
      ],
      "metadata": {
        "id": "mNdBecvXxvZx"
      },
      "execution_count": null,
      "outputs": []
    },
    {
      "cell_type": "markdown",
      "source": [
        "ファイルも80バイトに増えています。"
      ],
      "metadata": {
        "id": "apnh5KTw0Lct"
      }
    },
    {
      "cell_type": "code",
      "source": [
        "!ls -l /content/db"
      ],
      "metadata": {
        "id": "GE_39GtVz7uE"
      },
      "execution_count": null,
      "outputs": []
    },
    {
      "cell_type": "markdown",
      "source": [
        "いちコマンドで複数追加もできます。"
      ],
      "metadata": {
        "id": "1nbBtz010ZEF"
      }
    },
    {
      "cell_type": "code",
      "source": [
        "!echo \"VADD db 1.0 1.1 1.2 1.3 1.4 1.5\" | redis-cli"
      ],
      "metadata": {
        "id": "JnCsYyn90WEc"
      },
      "execution_count": null,
      "outputs": []
    },
    {
      "cell_type": "markdown",
      "source": [
        "値を取り出してみます。"
      ],
      "metadata": {
        "id": "-0D0hLlo0uzD"
      }
    },
    {
      "cell_type": "code",
      "source": [
        "!echo \"VGET db 5\" | redis-cli"
      ],
      "metadata": {
        "id": "mHWSEXkt0x_v"
      },
      "execution_count": null,
      "outputs": []
    },
    {
      "cell_type": "markdown",
      "source": [
        "複数の場合はこうなります。"
      ],
      "metadata": {
        "id": "fQzUqDi805xF"
      }
    },
    {
      "cell_type": "code",
      "source": [
        "!echo \"VMGET db 1 2 3 4 5\" | redis-cli"
      ],
      "metadata": {
        "id": "Bo_3HFgL08Io"
      },
      "execution_count": null,
      "outputs": []
    },
    {
      "cell_type": "markdown",
      "source": [
        "値を変更することもできます。"
      ],
      "metadata": {
        "id": "vmn6Xb391QrD"
      }
    },
    {
      "cell_type": "code",
      "source": [
        "!echo \"VSET db 5 1,0 10 2,0\" | redis-cli\n",
        "!echo \"VMGET 1 5 10 15\" | redis-cli"
      ],
      "metadata": {
        "id": "qFseYFee1YWI"
      },
      "execution_count": null,
      "outputs": []
    },
    {
      "cell_type": "markdown",
      "source": [
        "末尾の値を取り出して削除します。"
      ],
      "metadata": {
        "id": "v2lFBgKS1yQR"
      }
    },
    {
      "cell_type": "code",
      "source": [
        "!echo \"VSIZE db\" | redis-cli\n",
        "!echo \"VPOP db\" | redis-cli\n",
        "!echo \"VSIZE db\" | redis-cli"
      ],
      "metadata": {
        "id": "-MQxEtwR13a-"
      },
      "execution_count": null,
      "outputs": []
    },
    {
      "cell_type": "markdown",
      "source": [
        "Redisを停止して再起動します。"
      ],
      "metadata": {
        "id": "hPQ852ZL2TGo"
      }
    },
    {
      "cell_type": "code",
      "source": [
        "!service redis-server stop\n",
        "!service redis-server start"
      ],
      "metadata": {
        "colab": {
          "base_uri": "https://localhost:8080/"
        },
        "id": "OqLLdr8QFCXx",
        "outputId": "a2a89824-5ed5-47bb-bf7e-0b5e52711264"
      },
      "execution_count": null,
      "outputs": [
        {
          "output_type": "stream",
          "name": "stdout",
          "text": [
            "Stopping redis-server: redis-server.\n"
          ]
        }
      ]
    },
    {
      "cell_type": "markdown",
      "source": [
        "再起動しても値は残っています。"
      ],
      "metadata": {
        "id": "IMvVoe-q2hou"
      }
    },
    {
      "cell_type": "code",
      "source": [
        "!echo \"VSIZE db\" | redis-cli"
      ],
      "metadata": {
        "id": "AMiagNba2m_Y"
      },
      "execution_count": null,
      "outputs": []
    },
    {
      "cell_type": "markdown",
      "source": [
        "dbを削除しても再度マッピングすればファイルは元のままなので値は残っています。"
      ],
      "metadata": {
        "id": "OFmIl2Ja2_pT"
      }
    },
    {
      "cell_type": "code",
      "source": [
        "!echo \"KEYS *\" | redis-cli\n",
        "!echo \"DEL db\" | redis-cli\n",
        "!echo \"KEYS *\" | redis-cli\n",
        "!ls -l /content/db/\n",
        "!echo \"MMAP dba /content/db/file.mmap\" | redis-cli\n",
        "!echo \"VSIZE dba\" | redis-cli"
      ],
      "metadata": {
        "id": "JWvibGHQ3QWe"
      },
      "execution_count": null,
      "outputs": []
    },
    {
      "cell_type": "markdown",
      "source": [
        "内容をクリアします。"
      ],
      "metadata": {
        "id": "UNg5Sr_d2te_"
      }
    },
    {
      "cell_type": "code",
      "source": [
        "!echo \"VCLEAR dba\" | redis-cli\n",
        "!echo \"VSEIZE dba\" | redis-cli"
      ],
      "metadata": {
        "id": "YBqap1Qg23zS"
      },
      "execution_count": null,
      "outputs": []
    },
    {
      "cell_type": "markdown",
      "source": [
        "ファイルのサイズが0になります。"
      ],
      "metadata": {
        "id": "ydYdUPRL4FId"
      }
    },
    {
      "cell_type": "code",
      "source": [
        "!ls -l /content/db/"
      ],
      "metadata": {
        "id": "MKeFGrCd4I17"
      },
      "execution_count": null,
      "outputs": []
    },
    {
      "cell_type": "markdown",
      "source": [
        "dbaを削除します。"
      ],
      "metadata": {
        "id": "IzIRyM4S43lO"
      }
    },
    {
      "cell_type": "code",
      "source": [
        "!echo \"DEL dba\" | redis-cli"
      ],
      "metadata": {
        "id": "J4N7bZom4_r9"
      },
      "execution_count": null,
      "outputs": []
    },
    {
      "cell_type": "markdown",
      "source": [
        "外部でファイルを作成します。"
      ],
      "metadata": {
        "id": "R50Nx0Bz6gHF"
      }
    },
    {
      "cell_type": "code",
      "source": [
        "import struct\n",
        "with open('/content/db/file.mmap', 'wb') as fout:\n",
        "    for i in range(100):\n",
        "        fout.write(struct.pack('d', i))"
      ],
      "metadata": {
        "id": "EpDrnwRp6Pk4"
      },
      "execution_count": null,
      "outputs": []
    },
    {
      "cell_type": "markdown",
      "source": [
        "ファイルをマップして中身を確認します。"
      ],
      "metadata": {
        "id": "jGQiW41k7vpH"
      }
    },
    {
      "cell_type": "code",
      "source": [
        "!echo \"mmap db /content/db/file.mmap\" | redis-cli\n",
        "!echo \"vsize db\" | redis-cli\n",
        "!echo \"vmget db 1 3 5 7 9\" | redis-cli"
      ],
      "metadata": {
        "id": "UC4DM6nu73XU"
      },
      "execution_count": null,
      "outputs": []
    },
    {
      "cell_type": "markdown",
      "source": [
        "Redisを停止します。redis-serverは残っていません。"
      ],
      "metadata": {
        "id": "0toc4ufT5OMd"
      }
    },
    {
      "cell_type": "code",
      "source": [
        "!echo \"shutdown\" | redis-cli\n",
        "!sleep 1\n",
        "!ps aux | grep redis | grep -v grep"
      ],
      "metadata": {
        "id": "1lX1B2fV5NMa"
      },
      "execution_count": null,
      "outputs": []
    },
    {
      "cell_type": "markdown",
      "source": [
        "ファイルは残っています。"
      ],
      "metadata": {
        "id": "wwTBl6yT9IiG"
      }
    },
    {
      "cell_type": "code",
      "source": [
        "!ls -l /content/db"
      ],
      "metadata": {
        "id": "u6haGmqX9LfH"
      },
      "execution_count": null,
      "outputs": []
    },
    {
      "cell_type": "markdown",
      "source": [
        "以上です。"
      ],
      "metadata": {
        "id": "iTiup4Nb57jO"
      }
    }
  ]
}