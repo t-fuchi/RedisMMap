{
  "nbformat": 4,
  "nbformat_minor": 0,
  "metadata": {
    "colab": {
      "provenance": [],
      "authorship_tag": "ABX9TyOMnZJFTtwn0cMVq7OoJ4i3",
      "include_colab_link": true
    },
    "kernelspec": {
      "name": "python3",
      "display_name": "Python 3"
    },
    "language_info": {
      "name": "python"
    }
  },
  "cells": [
    {
      "cell_type": "markdown",
      "metadata": {
        "id": "view-in-github",
        "colab_type": "text"
      },
      "source": [
        "<a href=\"https://colab.research.google.com/github/t-fuchi/RedisMMap/blob/main/RedisMMap.ipynb\" target=\"_parent\"><img src=\"https://colab.research.google.com/assets/colab-badge.svg\" alt=\"Open In Colab\"/></a>"
      ]
    },
    {
      "cell_type": "markdown",
      "source": [
        "## I made a module with Google Colab to read values from mmapped files in Redis.\n",
        "\n",
        "I can't find the ability to read existing files in Redis. (Maybe I just don't know it, so if you do, please let me know.) So I made a module that maps a file with double values written to it with mmap and reads/writes the values at specified locations from it. I've included the full code so that you can try it out by simply opening Colab from the button in the upper left corner and executing the cells in order. Please also refer to this as a way to create a Redis module.\n",
        "\n",
        "\n",
        "\n",
        "\n"
      ],
      "metadata": {
        "id": "ebmIZkYT-Buz"
      }
    },
    {
      "cell_type": "markdown",
      "source": [
        "Using this module, the following commands can be used in Redis.\n",
        "\n",
        "```\n",
        "// This command binds key to the file at file_path.\n",
        "MMAP key file_path\n",
        "\n",
        "// This command gets a value at index position from key\n",
        "VGET key index\n",
        "\n",
        "// This command gets values at multiple index positions from key\n",
        "VMGET key index [index ...]\n",
        "\n",
        "// This command writes values to the index positions of key\n",
        "VSET key index value [index value ...]\n",
        "\n",
        "// This command adds a value to key\n",
        "VADD key value [value ...]\n",
        "\n",
        "// This command retrieves and deletes the last value of key\n",
        "VPOP key\n",
        "\n",
        "// This command gets the number of values of key\n",
        "VCOUNT key\n",
        "\n",
        "// This command erases the contents of key\n",
        "VCLEAR key\n",
        "```\n"
      ],
      "metadata": {
        "id": "g-9lzZd16X0s"
      }
    },
    {
      "cell_type": "markdown",
      "source": [
        "First, obtain the Redis source and change current directory to the module's one."
      ],
      "metadata": {
        "id": "B4dFblMVqWtf"
      }
    },
    {
      "cell_type": "code",
      "source": [
        "%cd /content\n",
        "!wget https://download.redis.io/redis-stable.tar.gz\n",
        "!tar -xzf redis-stable.tar.gz\n",
        "%cd /content/redis-stable/src/modules"
      ],
      "metadata": {
        "id": "Nm5oZ6X99ZoE"
      },
      "execution_count": null,
      "outputs": []
    },
    {
      "cell_type": "markdown",
      "source": [
        "Let's build the sample code."
      ],
      "metadata": {
        "id": "GbrJk1f_q0wU"
      }
    },
    {
      "cell_type": "code",
      "source": [
        "!make"
      ],
      "metadata": {
        "id": "GonTC3A3qs4E",
        "colab": {
          "base_uri": "https://localhost:8080/"
        },
        "outputId": "676feb8b-43ac-4e56-9d01-3a933c421905"
      },
      "execution_count": 2,
      "outputs": [
        {
          "output_type": "stream",
          "name": "stdout",
          "text": [
            "cc -I.  -W -Wall -fno-common -g -ggdb -std=c99 -O2 -fPIC -c helloworld.c -o helloworld.xo\n",
            "ld -o helloworld.so helloworld.xo -shared  -lc\n",
            "cc -I.  -W -Wall -fno-common -g -ggdb -std=c99 -O2 -fPIC -c hellotype.c -o hellotype.xo\n",
            "ld -o hellotype.so hellotype.xo -shared  -lc\n",
            "cc -I.  -W -Wall -fno-common -g -ggdb -std=c99 -O2 -fPIC -c helloblock.c -o helloblock.xo\n",
            "ld -o helloblock.so helloblock.xo -shared  -lpthread -lc\n",
            "cc -I.  -W -Wall -fno-common -g -ggdb -std=c99 -O2 -fPIC -c hellocluster.c -o hellocluster.xo\n",
            "ld -o hellocluster.so hellocluster.xo -shared  -lc\n",
            "cc -I.  -W -Wall -fno-common -g -ggdb -std=c99 -O2 -fPIC -c hellotimer.c -o hellotimer.xo\n",
            "ld -o hellotimer.so hellotimer.xo -shared  -lc\n",
            "cc -I.  -W -Wall -fno-common -g -ggdb -std=c99 -O2 -fPIC -c hellodict.c -o hellodict.xo\n",
            "ld -o hellodict.so hellodict.xo -shared  -lc\n",
            "cc -I.  -W -Wall -fno-common -g -ggdb -std=c99 -O2 -fPIC -c hellohook.c -o hellohook.xo\n",
            "ld -o hellohook.so hellohook.xo -shared  -lc\n",
            "cc -I.  -W -Wall -fno-common -g -ggdb -std=c99 -O2 -fPIC -c helloacl.c -o helloacl.xo\n",
            "ld -o helloacl.so helloacl.xo -shared  -lc\n"
          ]
        }
      ]
    },
    {
      "cell_type": "markdown",
      "source": [
        "Check if the module .so file has been created."
      ],
      "metadata": {
        "id": "FZ1UUofWrJwU"
      }
    },
    {
      "cell_type": "code",
      "source": [
        "!ls *.so"
      ],
      "metadata": {
        "id": "xjCItXs-rA0p",
        "colab": {
          "base_uri": "https://localhost:8080/"
        },
        "outputId": "e976e6ea-f143-474b-a096-d2b1f63bdadc"
      },
      "execution_count": 3,
      "outputs": [
        {
          "output_type": "stream",
          "name": "stdout",
          "text": [
            "helloacl.so    hellocluster.so\thellohook.so   hellotype.so\n",
            "helloblock.so  hellodict.so\thellotimer.so  helloworld.so\n"
          ]
        }
      ]
    },
    {
      "cell_type": "markdown",
      "source": [
        "Now let's write the code in fmmap.c. The value to be read/written is a double. Error handling has been omitted to make the code easier to read. If you try it, please do not submit any nasty commands.😏\n",
        "\n",
        "In addition, the code available [here](https://github.com/t-fuchi/RedisMMap) allows you to choose the type of value to read or write, and is complete with error handling.\n",
        "\n"
      ],
      "metadata": {
        "id": "H4BhZSz1SWfJ"
      }
    },
    {
      "cell_type": "markdown",
      "source": [
        "First, necessary headers and a convenience macro."
      ],
      "metadata": {
        "id": "xAskK-woHPFi"
      }
    },
    {
      "cell_type": "code",
      "source": [
        "%%writefile fmmap.c\n",
        "\n",
        "#pragma GCC diagnostic ignored \"-Wunused-parameter\"\n",
        "\n",
        "#include <sys/mman.h>\n",
        "#include <sys/stat.h>\n",
        "#include <sys/types.h>\n",
        "#include <fcntl.h>\n",
        "#include <unistd.h>\n",
        "#include <stdbool.h>\n",
        "#include <stdint.h>\n",
        "#include <strings.h>\n",
        "#include <string.h>\n",
        "\n",
        "#include \"../redismodule.h\"\n",
        "#include \"../sds.h\"\n",
        "#include \"../zmalloc.h\"\n",
        "\n",
        "// A macro compare (RedisModuleString *) and (char *)\n",
        "static inline int mstringcmp(const RedisModuleString *rs1, const char *s2)\n",
        "{\n",
        "  return strcasecmp(RedisModule_StringPtrLen(rs1, NULL), s2);\n",
        "}\n",
        "\n",
        "int ftruncate(int fildes, off_t length); // It should be in unistd.h, but I get a warning."
      ],
      "metadata": {
        "id": "B6i-T3MW-nrR",
        "colab": {
          "base_uri": "https://localhost:8080/"
        },
        "outputId": "cdfc709b-2d75-4d4d-c619-e384fd9f38a0"
      },
      "execution_count": 4,
      "outputs": [
        {
          "output_type": "stream",
          "name": "stdout",
          "text": [
            "Writing fmmap.c\n"
          ]
        }
      ]
    },
    {
      "cell_type": "markdown",
      "source": [
        "Define MMapObject, packed with the information needed for mmap. sds is a string type used within Redis."
      ],
      "metadata": {
        "id": "z3eP1F0NRsM9"
      }
    },
    {
      "cell_type": "code",
      "source": [
        "%%writefile -a fmmap.c\n",
        "\n",
        "typedef struct _MMapObject\n",
        "{\n",
        "  sds file_path;\n",
        "  int fd;\n",
        "  void *mmap;\n",
        "  size_t file_size;\n",
        "} MMapObject;"
      ],
      "metadata": {
        "id": "By7VHi5OQwnT",
        "colab": {
          "base_uri": "https://localhost:8080/"
        },
        "outputId": "731b0a6d-8bf6-493b-ee7e-ff3552ca0183"
      },
      "execution_count": 5,
      "outputs": [
        {
          "output_type": "stream",
          "name": "stdout",
          "text": [
            "Appending to fmmap.c\n"
          ]
        }
      ]
    },
    {
      "cell_type": "markdown",
      "source": [
        "A variable to hold the MMap type and a function to generate the MMapObject."
      ],
      "metadata": {
        "id": "4CnFC1zb4uTN"
      }
    },
    {
      "cell_type": "code",
      "source": [
        "%%writefile -a fmmap.c\n",
        "\n",
        "RedisModuleType *MMapType = NULL;\n",
        "\n",
        "MMapObject *MCreateObject(void)\n",
        "{\n",
        "  return (MMapObject *)zcalloc(sizeof(MMapObject));\n",
        "}"
      ],
      "metadata": {
        "id": "cU2hBwwSRMUC",
        "colab": {
          "base_uri": "https://localhost:8080/"
        },
        "outputId": "ca18b422-1574-4c9e-d595-7110d9971909"
      },
      "execution_count": 6,
      "outputs": [
        {
          "output_type": "stream",
          "name": "stdout",
          "text": [
            "Appending to fmmap.c\n"
          ]
        }
      ]
    },
    {
      "cell_type": "markdown",
      "source": [
        "Function to release MMapObject."
      ],
      "metadata": {
        "id": "An1byHFs4_VM"
      }
    },
    {
      "cell_type": "code",
      "source": [
        "%%writefile -a fmmap.c\n",
        "\n",
        "void MFree(void *value)\n",
        "{\n",
        "  if (value == NULL) return;\n",
        "  const MMapObject *obj_ptr = value;\n",
        "  if (obj_ptr->mmap != NULL) munmap(obj_ptr->mmap, obj_ptr->file_size);\n",
        "  if (obj_ptr->fd != -1) close(obj_ptr->fd);\n",
        "  sdsfree(obj_ptr->file_path);\n",
        "  zfree(value);\n",
        "}"
      ],
      "metadata": {
        "id": "QFQzTrztRBrY",
        "colab": {
          "base_uri": "https://localhost:8080/"
        },
        "outputId": "d78986bf-f0cc-4567-e2a2-233d3536c02f"
      },
      "execution_count": 7,
      "outputs": [
        {
          "output_type": "stream",
          "name": "stdout",
          "text": [
            "Appending to fmmap.c\n"
          ]
        }
      ]
    },
    {
      "cell_type": "markdown",
      "source": [
        "Function to map the file specified by file_path to key."
      ],
      "metadata": {
        "id": "W62Dcs095TtN"
      }
    },
    {
      "cell_type": "code",
      "source": [
        "%%writefile -a fmmap.c\n",
        "\n",
        "// MMAP key file_path\n",
        "int MMap_RedisCommand(RedisModuleCtx *ctx, RedisModuleString **argv, int argc)\n",
        "{\n",
        "  RedisModule_AutoMemory(ctx); /* Use automatic memory management. */\n",
        "\n",
        "  if (argc != 3) return RedisModule_WrongArity(ctx);\n",
        "\n",
        "  RedisModuleKey *key = RedisModule_OpenKey(ctx, argv[1], REDISMODULE_READ | REDISMODULE_WRITE);\n",
        "\n",
        "  // It confirms the type of key\n",
        "  int type = RedisModule_KeyType(key);\n",
        "  if (type != REDISMODULE_KEYTYPE_EMPTY &&\n",
        "      RedisModule_ModuleTypeGetType(key) != MMapType) {\n",
        "    return RedisModule_ReplyWithError(ctx, REDISMODULE_ERRORMSG_WRONGTYPE);\n",
        "  }\n",
        "\n",
        "  // It creates new file and mmap it if key is empty.\n",
        "  MMapObject *obj_ptr;\n",
        "  if (type == REDISMODULE_KEYTYPE_EMPTY) {\n",
        "    obj_ptr = MCreateObject();\n",
        "    obj_ptr->file_path = sdsnew(RedisModule_StringPtrLen(argv[2], NULL));\n",
        "    obj_ptr->fd = open(obj_ptr->file_path, O_RDWR | O_CREAT, 0666);\n",
        "    if (obj_ptr->fd == -1) {\n",
        "        MFree(obj_ptr);\n",
        "        return RedisModule_ReplyWithError(ctx, sdsnew(RedisModule_StringPtrLen(argv[2], NULL)));\n",
        "    }\n",
        "\n",
        "    struct stat sb;\n",
        "    fstat(obj_ptr->fd, &sb);\n",
        "    obj_ptr->file_size = sb.st_size;\n",
        "    obj_ptr->mmap = mmap(NULL, sb.st_size, PROT_READ | PROT_WRITE, MAP_SHARED, obj_ptr->fd, 0);\n",
        "    RedisModule_ModuleTypeSetValue(key, MMapType, obj_ptr);\n",
        "  }\n",
        "  // It confirms the file_path if key already exists.\n",
        "  else {\n",
        "    obj_ptr = RedisModule_ModuleTypeGetValue(key);\n",
        "    if (obj_ptr == NULL) {\n",
        "      RedisModule_ReplyWithNull(ctx);\n",
        "      return REDISMODULE_ERR;\n",
        "    }\n",
        "    // Error if it is different from the existing file_path.\n",
        "    if (strcmp(obj_ptr->file_path, RedisModule_StringPtrLen(argv[2], NULL)) != 0) {\n",
        "      return RedisModule_ReplyWithError(ctx, \"It is already mapped on another file.\");\n",
        "    }\n",
        "  }\n",
        "\n",
        "  return RedisModule_ReplyWithLongLong(ctx, obj_ptr->file_size / sizeof(double));\n",
        "}\n"
      ],
      "metadata": {
        "id": "83ef-t0O_S64",
        "colab": {
          "base_uri": "https://localhost:8080/"
        },
        "outputId": "2e9f5e71-f9c4-4759-8ddb-a0e9a62536b1"
      },
      "execution_count": 8,
      "outputs": [
        {
          "output_type": "stream",
          "name": "stdout",
          "text": [
            "Appending to fmmap.c\n"
          ]
        }
      ]
    },
    {
      "cell_type": "markdown",
      "source": [
        "Function to get the value at the position specified by index."
      ],
      "metadata": {
        "id": "obybK8RaF5FC"
      }
    },
    {
      "cell_type": "code",
      "source": [
        "%%writefile -a fmmap.c\n",
        "\n",
        "// VGET key index\n",
        "int VGet_RedisCommand(RedisModuleCtx *ctx, RedisModuleString **argv, int argc)\n",
        "{\n",
        "  RedisModule_AutoMemory(ctx); /* Use automatic memory management. */\n",
        "\n",
        "  RedisModuleKey *key =\n",
        "    RedisModule_OpenKey(ctx, argv[1], REDISMODULE_READ | REDISMODULE_WRITE);\n",
        "\n",
        "  long long index;\n",
        "  RedisModule_StringToLongLong(argv[2], &index);\n",
        "\n",
        "  MMapObject *obj_ptr = RedisModule_ModuleTypeGetValue(key);\n",
        "\n",
        "  // It returns Null if index is out of range.\n",
        "  if (obj_ptr->file_size <= (size_t)index * sizeof(double) || index < 0) {\n",
        "    RedisModule_ReplyWithNull(ctx);\n",
        "  }\n",
        "  // It returns mmap[index].\n",
        "  else {\n",
        "    RedisModule_ReplyWithDouble(ctx, ((double*)obj_ptr->mmap)[index]);\n",
        "  }\n",
        "  return REDISMODULE_OK;\n",
        "}"
      ],
      "metadata": {
        "id": "Mgn3mC5f_csU",
        "colab": {
          "base_uri": "https://localhost:8080/"
        },
        "outputId": "213ac110-f7d6-44cc-f63e-2c967bc78427"
      },
      "execution_count": 9,
      "outputs": [
        {
          "output_type": "stream",
          "name": "stdout",
          "text": [
            "Appending to fmmap.c\n"
          ]
        }
      ]
    },
    {
      "cell_type": "markdown",
      "source": [
        "This function gets the values at the positions indicated by multiple indices."
      ],
      "metadata": {
        "id": "NOHacZDkH3i1"
      }
    },
    {
      "cell_type": "code",
      "source": [
        "%%writefile -a fmmap.c\n",
        "\n",
        "// VMGET key index [index ...]\n",
        "int VMGet_RedisCommand(RedisModuleCtx *ctx, RedisModuleString **argv, int argc)\n",
        "{\n",
        "  RedisModule_AutoMemory(ctx); /* Use automatic memory management. */\n",
        "\n",
        "  RedisModuleKey *key =\n",
        "      RedisModule_OpenKey(ctx, argv[1], REDISMODULE_READ | REDISMODULE_WRITE);\n",
        "\n",
        "  MMapObject *obj_ptr = RedisModule_ModuleTypeGetValue(key);\n",
        "\n",
        "  RedisModule_ReplyWithArray(ctx, argc - 2);\n",
        "  for (int i = 2; i < argc; i++) {\n",
        "    long long index;\n",
        "    RedisModule_StringToLongLong(argv[i], &index);\n",
        "    // It returns Null if index is out of range.\n",
        "    if (obj_ptr->file_size <= (size_t)index * sizeof(double) || index < 0) {\n",
        "      RedisModule_ReplyWithNull(ctx);\n",
        "    }\n",
        "    // It returns mmap[index].\n",
        "    else {\n",
        "      RedisModule_ReplyWithDouble(ctx, ((double*)obj_ptr->mmap)[index]);\n",
        "    }\n",
        "  }\n",
        "  return REDISMODULE_OK;\n",
        "}"
      ],
      "metadata": {
        "id": "qmGUc1OQEq2Y",
        "colab": {
          "base_uri": "https://localhost:8080/"
        },
        "outputId": "ca6a6406-2548-4942-9802-5cae93773900"
      },
      "execution_count": 10,
      "outputs": [
        {
          "output_type": "stream",
          "name": "stdout",
          "text": [
            "Appending to fmmap.c\n"
          ]
        }
      ]
    },
    {
      "cell_type": "markdown",
      "source": [
        "This function writes values at the positions indicated by indeces."
      ],
      "metadata": {
        "id": "9mjKa47pIIP8"
      }
    },
    {
      "cell_type": "code",
      "source": [
        "%%writefile -a fmmap.c\n",
        "\n",
        "// VSET key index value [index value ...]\n",
        "int VSet_RedisCommand(RedisModuleCtx *ctx, RedisModuleString **argv, int argc)\n",
        "{\n",
        "  RedisModule_AutoMemory(ctx); /* Use automatic memory management. */\n",
        "\n",
        "  RedisModuleKey *key =\n",
        "      RedisModule_OpenKey(ctx, argv[1], REDISMODULE_READ | REDISMODULE_WRITE);\n",
        "\n",
        "  MMapObject *obj_ptr = RedisModule_ModuleTypeGetValue(key);\n",
        "\n",
        "  long long index;\n",
        "  double value;\n",
        "  // It confirms the type of value written.\n",
        "  for (int i = 3; i < argc; i += 2) {\n",
        "    if (RedisModule_StringToDouble(argv[i], &value) == REDISMODULE_ERR) {\n",
        "      return RedisModule_ReplyWithError(ctx, \"value must be double.\");\n",
        "    }\n",
        "  }\n",
        "  int n_factors = 0;\n",
        "  // It writes a value to mmap[index].\n",
        "  for (int i = 2; i < argc; i += 2) {\n",
        "    RedisModule_StringToLongLong(argv[i], &index);\n",
        "    // It writes a value if index is in range.\n",
        "    if (0 <= index && (size_t)index * sizeof(double) < obj_ptr->file_size) {\n",
        "      RedisModule_StringToDouble(argv[i + 1], &value);\n",
        "      ((double*)obj_ptr->mmap)[index] = (double)value;\n",
        "      ++n_factors;\n",
        "    }\n",
        "  }\n",
        "  // It returns the number of writings.\n",
        "  return RedisModule_ReplyWithLongLong(ctx, n_factors);\n",
        "}\n"
      ],
      "metadata": {
        "id": "Swxnzf28Fcw0",
        "colab": {
          "base_uri": "https://localhost:8080/"
        },
        "outputId": "c94ff883-4ef6-4d82-e463-6cc2d221a654"
      },
      "execution_count": 11,
      "outputs": [
        {
          "output_type": "stream",
          "name": "stdout",
          "text": [
            "Appending to fmmap.c\n"
          ]
        }
      ]
    },
    {
      "cell_type": "markdown",
      "source": [
        "This function appends values to the end of a file."
      ],
      "metadata": {
        "id": "um_u2SLXIPcT"
      }
    },
    {
      "cell_type": "code",
      "source": [
        "%%writefile -a fmmap.c\n",
        "\n",
        "// VADD key value [value ...]\n",
        "int VAdd_RedisCommand(RedisModuleCtx *ctx, RedisModuleString **argv, int argc)\n",
        "{\n",
        "  RedisModule_AutoMemory(ctx); /* Use automatic memory management. */\n",
        "\n",
        "  RedisModuleKey *key =\n",
        "      RedisModule_OpenKey(ctx, argv[1], REDISMODULE_READ | REDISMODULE_WRITE);\n",
        "\n",
        "  MMapObject *obj_ptr = RedisModule_ModuleTypeGetValue(key);\n",
        "  double value;\n",
        "  // It confirms the type of value added.\n",
        "  for (int i = 2; i < argc; ++i) {\n",
        "    if (RedisModule_StringToDouble(argv[i], &value) == REDISMODULE_ERR) {\n",
        "      return RedisModule_ReplyWithError(ctx, \"value must be double.\");\n",
        "    }\n",
        "  }\n",
        "  // It extends mmap and write a value at the end of mmap.\n",
        "  size_t new_size = obj_ptr->file_size + sizeof(double) * (argc - 2);\n",
        "  ftruncate(obj_ptr->fd, new_size);\n",
        "  munmap(obj_ptr->mmap, obj_ptr->file_size);\n",
        "  obj_ptr->mmap = mmap(NULL, new_size, PROT_READ | PROT_WRITE, MAP_SHARED, obj_ptr->fd, 0);\n",
        "  for (int i = 2; i < argc; ++i) {\n",
        "    size_t index = obj_ptr->file_size / sizeof(double);\n",
        "    RedisModule_StringToDouble(argv[i], &value);\n",
        "    obj_ptr->file_size += sizeof(double);\n",
        "    ((double*)obj_ptr->mmap)[index] = (double)value;\n",
        "  }\n",
        "\n",
        "  // It returns the number of elements added.\n",
        "  return RedisModule_ReplyWithLongLong(ctx, argc - 2);\n",
        "}"
      ],
      "metadata": {
        "id": "fdhi9xNIGqdI",
        "colab": {
          "base_uri": "https://localhost:8080/"
        },
        "outputId": "3d856c0f-d176-49fd-ea63-f403214d9773"
      },
      "execution_count": 12,
      "outputs": [
        {
          "output_type": "stream",
          "name": "stdout",
          "text": [
            "Appending to fmmap.c\n"
          ]
        }
      ]
    },
    {
      "cell_type": "markdown",
      "source": [
        "This function gets the number of values in a file."
      ],
      "metadata": {
        "id": "EYyiyPTfIWRv"
      }
    },
    {
      "cell_type": "code",
      "source": [
        "%%writefile -a fmmap.c\n",
        "\n",
        "// VCOUNT key\n",
        "int VCount_RedisCommand(RedisModuleCtx *ctx, RedisModuleString **argv, int argc)\n",
        "{\n",
        "  RedisModule_AutoMemory(ctx); /* Use automatic memory management. */\n",
        "\n",
        "  RedisModuleKey *key =\n",
        "      RedisModule_OpenKey(ctx, argv[1], REDISMODULE_READ | REDISMODULE_WRITE);\n",
        "\n",
        "  MMapObject *obj_ptr = RedisModule_ModuleTypeGetValue(key);\n",
        "\n",
        "  return RedisModule_ReplyWithLongLong(ctx, obj_ptr->file_size / sizeof(double));\n",
        "}"
      ],
      "metadata": {
        "id": "SBDuwxJzHL26",
        "colab": {
          "base_uri": "https://localhost:8080/"
        },
        "outputId": "f5a18a4f-a4d7-4bf2-b593-1228ebaa7ef7"
      },
      "execution_count": 13,
      "outputs": [
        {
          "output_type": "stream",
          "name": "stdout",
          "text": [
            "Appending to fmmap.c\n"
          ]
        }
      ]
    },
    {
      "cell_type": "markdown",
      "source": [
        "This function erases the contents of a file."
      ],
      "metadata": {
        "id": "kYA2EaImIeeJ"
      }
    },
    {
      "cell_type": "code",
      "source": [
        "%%writefile -a fmmap.c\n",
        "\n",
        "// VCLEAR key\n",
        "int VClear_RedisCommand(RedisModuleCtx *ctx, RedisModuleString **argv, int argc)\n",
        "{\n",
        "  RedisModule_AutoMemory(ctx); /* Use automatic memory management. */\n",
        "\n",
        "  RedisModuleKey *key =\n",
        "      RedisModule_OpenKey(ctx, argv[1], REDISMODULE_READ | REDISMODULE_WRITE);\n",
        "\n",
        "  MMapObject *obj_ptr = RedisModule_ModuleTypeGetValue(key);\n",
        "\n",
        "  munmap(obj_ptr->mmap, obj_ptr->file_size);\n",
        "  ftruncate(obj_ptr->fd, 0);\n",
        "  obj_ptr->mmap = mmap(NULL, 0, PROT_READ | PROT_WRITE, MAP_SHARED, obj_ptr->fd, 0);\n",
        "  RedisModule_ReplyWithLongLong(ctx, obj_ptr->file_size / sizeof(double));\n",
        "  obj_ptr->file_size = 0;\n",
        "\n",
        "  return REDISMODULE_OK;\n",
        "}"
      ],
      "metadata": {
        "id": "5Z8bjafyHjbl",
        "colab": {
          "base_uri": "https://localhost:8080/"
        },
        "outputId": "60c9a91c-c19e-4ebb-bead-9227749ad47c"
      },
      "execution_count": 14,
      "outputs": [
        {
          "output_type": "stream",
          "name": "stdout",
          "text": [
            "Appending to fmmap.c\n"
          ]
        }
      ]
    },
    {
      "cell_type": "markdown",
      "source": [
        "This function gets a value from the end of a file and delete it."
      ],
      "metadata": {
        "id": "6RYMWJy9IkkU"
      }
    },
    {
      "cell_type": "code",
      "source": [
        "%%writefile -a fmmap.c\n",
        "\n",
        "// VPOP key\n",
        "int VPop_RedisCommand(RedisModuleCtx *ctx, RedisModuleString **argv, int argc)\n",
        "{\n",
        "  RedisModule_AutoMemory(ctx); /* Use automatic memory management. */\n",
        "\n",
        "  RedisModuleKey *key =\n",
        "      RedisModule_OpenKey(ctx, argv[1], REDISMODULE_READ | REDISMODULE_WRITE);\n",
        "\n",
        "  MMapObject *obj_ptr = RedisModule_ModuleTypeGetValue(key);\n",
        "\n",
        "  if (obj_ptr->file_size == 0) {\n",
        "    RedisModule_ReplyWithNull(ctx);\n",
        "  }\n",
        "  else {\n",
        "    size_t index = obj_ptr->file_size / sizeof(double) - 1;\n",
        "    RedisModule_ReplyWithDouble(ctx, ((double*)obj_ptr->mmap)[index]);\n",
        "    munmap(obj_ptr->mmap, obj_ptr->file_size);\n",
        "    obj_ptr->file_size -= sizeof(double);\n",
        "    ftruncate(obj_ptr->fd, obj_ptr->file_size);\n",
        "    obj_ptr->mmap = mmap(NULL, obj_ptr->file_size, PROT_READ | PROT_WRITE, MAP_SHARED, obj_ptr->fd, 0);\n",
        "  }\n",
        "  return REDISMODULE_OK;\n",
        "}"
      ],
      "metadata": {
        "id": "-APt5ZjQHxP-",
        "colab": {
          "base_uri": "https://localhost:8080/"
        },
        "outputId": "b1dca503-e2c2-419d-bab9-09112810de70"
      },
      "execution_count": 15,
      "outputs": [
        {
          "output_type": "stream",
          "name": "stdout",
          "text": [
            "Appending to fmmap.c\n"
          ]
        }
      ]
    },
    {
      "cell_type": "markdown",
      "source": [
        "This function stores information about mmap in a Redis RDB file."
      ],
      "metadata": {
        "id": "YUO8UsY-IwDh"
      }
    },
    {
      "cell_type": "code",
      "source": [
        "%%writefile -a fmmap.c\n",
        "\n",
        "void MRdbSave(RedisModuleIO *rdb, void *value)\n",
        "{\n",
        "  MMapObject *obj_ptr = value;\n",
        "  RedisModule_SaveStringBuffer(rdb, obj_ptr->file_path, sdslen(obj_ptr->file_path));\n",
        "  msync(obj_ptr->mmap, obj_ptr->file_size, MS_ASYNC);\n",
        "}"
      ],
      "metadata": {
        "id": "Z9tP4bIzIEla",
        "colab": {
          "base_uri": "https://localhost:8080/"
        },
        "outputId": "0c33b48c-1a5e-412c-90fa-1c02057b2eb9"
      },
      "execution_count": 16,
      "outputs": [
        {
          "output_type": "stream",
          "name": "stdout",
          "text": [
            "Appending to fmmap.c\n"
          ]
        }
      ]
    },
    {
      "cell_type": "markdown",
      "source": [
        "This function reads information about mmap from a Redis RDB file."
      ],
      "metadata": {
        "id": "a4w9eoP0I796"
      }
    },
    {
      "cell_type": "code",
      "source": [
        "%%writefile -a fmmap.c\n",
        "\n",
        "void *MRdbLoad(RedisModuleIO *rdb, int encver)\n",
        "{\n",
        "  MMapObject *obj_ptr = MCreateObject();\n",
        "  obj_ptr->file_path = sdsnew(RedisModule_StringPtrLen(RedisModule_LoadString(rdb), NULL));\n",
        "  obj_ptr->fd = open(obj_ptr->file_path, O_RDWR);\n",
        "\n",
        "  struct stat sb;\n",
        "  fstat(obj_ptr->fd, &sb);\n",
        "  obj_ptr->file_size = sb.st_size;\n",
        "  obj_ptr->mmap = mmap(NULL, sb.st_size, PROT_READ | PROT_WRITE, MAP_SHARED, obj_ptr->fd, 0);\n",
        "\n",
        "  return obj_ptr;\n",
        "}"
      ],
      "metadata": {
        "id": "vGTI5s14IMKP",
        "colab": {
          "base_uri": "https://localhost:8080/"
        },
        "outputId": "aa1bf83a-d432-43a7-e942-03ae70d50e3b"
      },
      "execution_count": 17,
      "outputs": [
        {
          "output_type": "stream",
          "name": "stdout",
          "text": [
            "Appending to fmmap.c\n"
          ]
        }
      ]
    },
    {
      "cell_type": "markdown",
      "source": [
        "Function to use AOF in Redis."
      ],
      "metadata": {
        "id": "Luxtig0PJWUL"
      }
    },
    {
      "cell_type": "code",
      "source": [
        "%%writefile -a fmmap.c\n",
        "\n",
        "void MAofRewrite(RedisModuleIO *aof, RedisModuleString *key, void *value)\n",
        "{\n",
        "  char buffer[0x200];\n",
        "  MMapObject *obj_ptr = (MMapObject*)value;\n",
        "  RedisModule_EmitAOF(aof, \"MMAP\", \"sc\",key, obj_ptr->file_path);\n",
        "  RedisModule_EmitAOF(aof, \"MCLEAR\", \"ss\", key, obj_ptr->file_path);\n",
        "  for (size_t i = 0; i < obj_ptr->file_size; i += sizeof(double)) {\n",
        "    double value = *(double *)((uint8_t*)obj_ptr->mmap + i);\n",
        "    sprintf(buffer, \"%.16f\", value);\n",
        "    RedisModule_EmitAOF(aof, \"MADD\", \"sbc\", key, buffer);\n",
        "  }\n",
        "}"
      ],
      "metadata": {
        "id": "J1plnkvBIMGI",
        "colab": {
          "base_uri": "https://localhost:8080/"
        },
        "outputId": "b74fc35c-3669-49d6-d22d-39a8cadf834b"
      },
      "execution_count": 18,
      "outputs": [
        {
          "output_type": "stream",
          "name": "stdout",
          "text": [
            "Appending to fmmap.c\n"
          ]
        }
      ]
    },
    {
      "cell_type": "markdown",
      "source": [
        "Other functions required for Redis modules."
      ],
      "metadata": {
        "id": "c0QvJOQUJhFp"
      }
    },
    {
      "cell_type": "code",
      "source": [
        "%%writefile -a fmmap.c\n",
        "\n",
        "size_t MMemUsage(const void *value)\n",
        "{\n",
        "  const MMapObject *obj_ptr = value;\n",
        "  return obj_ptr->file_size;\n",
        "}\n",
        "\n",
        "void MDigest(RedisModuleDigest *md, void *value)\n",
        "{\n",
        "  REDISMODULE_NOT_USED(md);\n",
        "  REDISMODULE_NOT_USED(value);\n",
        "}"
      ],
      "metadata": {
        "id": "Slx-jCVCIMB7",
        "colab": {
          "base_uri": "https://localhost:8080/"
        },
        "outputId": "08a3859d-f5a2-498b-dd10-4940b1a0d3cd"
      },
      "execution_count": 19,
      "outputs": [
        {
          "output_type": "stream",
          "name": "stdout",
          "text": [
            "Appending to fmmap.c\n"
          ]
        }
      ]
    },
    {
      "cell_type": "markdown",
      "source": [
        "Macro to create Redis commands"
      ],
      "metadata": {
        "id": "TH3wuPdtJqVR"
      }
    },
    {
      "cell_type": "code",
      "source": [
        "%%writefile -a fmmap.c\n",
        "\n",
        "#define CREATE_CMD(name, tgt, attr, key_pos, key_last)                     \\\n",
        "  do {                                                                     \\\n",
        "    if (RedisModule_CreateCommand(ctx, name, tgt, attr, key_pos, key_last, \\\n",
        "                                  1) != REDISMODULE_OK) {                  \\\n",
        "      return REDISMODULE_ERR;                                              \\\n",
        "    }                                                                      \\\n",
        "  } while (0);\n"
      ],
      "metadata": {
        "id": "JRIuT6kfIL9w",
        "colab": {
          "base_uri": "https://localhost:8080/"
        },
        "outputId": "067b8eb1-9702-4c53-8c9c-b9d80240ad64"
      },
      "execution_count": 20,
      "outputs": [
        {
          "output_type": "stream",
          "name": "stdout",
          "text": [
            "Appending to fmmap.c\n"
          ]
        }
      ]
    },
    {
      "cell_type": "markdown",
      "source": [
        "This function is called at module load time to prepare the module. This is where each command is associated with the function that executes it."
      ],
      "metadata": {
        "id": "Lx2d4Pn6Jv6B"
      }
    },
    {
      "cell_type": "code",
      "source": [
        "%%writefile -a fmmap.c\n",
        "\n",
        "int RedisModule_OnLoad(RedisModuleCtx *ctx, RedisModuleString **argv, int argc)\n",
        "{\n",
        "  REDISMODULE_NOT_USED(argv);\n",
        "  REDISMODULE_NOT_USED(argc);\n",
        "\n",
        "  RedisModule_Init(ctx, \"FuchiMMap\", 1, REDISMODULE_APIVER_1);\n",
        "\n",
        "  RedisModuleTypeMethods tm = {.version = REDISMODULE_TYPE_METHOD_VERSION,\n",
        "                               .rdb_load = MRdbLoad,\n",
        "                               .rdb_save = MRdbSave,\n",
        "                               .aof_rewrite = MAofRewrite,\n",
        "                               .mem_usage = MMemUsage,\n",
        "                               .free = MFree,\n",
        "                               .digest = MDigest};\n",
        "\n",
        "  MMapType = RedisModule_CreateDataType(ctx, \"FuchiMMap\", 0, &tm);\n",
        "\n",
        "  // MMAP key file_path\n",
        "  CREATE_CMD(\"MMAP\", MMap_RedisCommand, \"write fast\", 1, 1);\n",
        "\n",
        "  // VCLEAR key\n",
        "  CREATE_CMD(\"VCLEAR\", VClear_RedisCommand, \"write fast\", 1, 1);\n",
        "\n",
        "  // VADD key value [value ...]\n",
        "  CREATE_CMD(\"VADD\", VAdd_RedisCommand, \"write fast\", 1, 1);\n",
        "\n",
        "  // VGET key index\n",
        "  CREATE_CMD(\"VGET\", VGet_RedisCommand, \"readonly fast\", 1, 1);\n",
        "\n",
        "  // VMGET key index [index ...]\n",
        "  CREATE_CMD(\"VMGET\", VMGet_RedisCommand, \"readonly fast\", 1, 1);\n",
        "\n",
        "  // VSET key index value [index value ...]\n",
        "  CREATE_CMD(\"VSET\", VSet_RedisCommand, \"write fast\", 1, 1);\n",
        "\n",
        "  // VCOUNT key\n",
        "  CREATE_CMD(\"VCOUNT\", VCount_RedisCommand, \"readonly fast\", 1, 1);\n",
        "\n",
        "  // VPOP key\n",
        "  CREATE_CMD(\"VPOP\", VPop_RedisCommand, \"write fast\", 1, 1);\n",
        "\n",
        "  return REDISMODULE_OK;\n",
        "}\n"
      ],
      "metadata": {
        "id": "W1IZVhWvILyT",
        "colab": {
          "base_uri": "https://localhost:8080/"
        },
        "outputId": "d74ec0f7-157c-4e64-9782-429bf7417335"
      },
      "execution_count": 21,
      "outputs": [
        {
          "output_type": "stream",
          "name": "stdout",
          "text": [
            "Appending to fmmap.c\n"
          ]
        }
      ]
    },
    {
      "cell_type": "markdown",
      "source": [
        "Makefile for building the source."
      ],
      "metadata": {
        "id": "KX9PHsj8KEiK"
      }
    },
    {
      "cell_type": "code",
      "source": [
        "%%writefile Makefile.fmmap\n",
        "\n",
        "SHOBJ_CFLAGS ?= -W -Wall -fno-common -g -ggdb -std=c99 -O2\n",
        "SHOBJ_LDFLAGS ?= -shared\n",
        "\n",
        ".SUFFIXES: .c .so .xo .o\n",
        "\n",
        "all: fmmap.so\n",
        "\n",
        ".c.xo:\n",
        "\t$(CC) -I. $(CFLAGS) $(SHOBJ_CFLAGS) -fPIC -c $< -o $@\n",
        "\n",
        "fmmap.xo: ../redismodule.h\n",
        "\n",
        "fmmap.so: fmmap.xo\n",
        "\t$(LD) -o $@ $^ $(SHOBJ_LDFLAGS) $(LIBS) -lc\n",
        "\n",
        "clean:\n",
        "\trm -rf *.xo *.so"
      ],
      "metadata": {
        "id": "Ewpiz9DfKMNv",
        "colab": {
          "base_uri": "https://localhost:8080/"
        },
        "outputId": "18374ad6-81bc-4f68-ff4f-5511229678f1"
      },
      "execution_count": 22,
      "outputs": [
        {
          "output_type": "stream",
          "name": "stdout",
          "text": [
            "Writing Makefile.fmmap\n"
          ]
        }
      ]
    },
    {
      "cell_type": "markdown",
      "source": [
        "Let's build the module."
      ],
      "metadata": {
        "id": "AJbt_7ubKZSG"
      }
    },
    {
      "cell_type": "code",
      "source": [
        "!make -f Makefile.fmmap\n",
        "!ls fmmap.so"
      ],
      "metadata": {
        "id": "poQmS_hwLLOn",
        "colab": {
          "base_uri": "https://localhost:8080/"
        },
        "outputId": "a010c65b-0381-40a8-abf4-4b5bde945c8c"
      },
      "execution_count": 23,
      "outputs": [
        {
          "output_type": "stream",
          "name": "stdout",
          "text": [
            "cc -I.  -W -Wall -fno-common -g -ggdb -std=c99 -O2 -fPIC -c fmmap.c -o fmmap.xo\n",
            "ld -o fmmap.so fmmap.xo -shared  -lc\n",
            "fmmap.so\n"
          ]
        }
      ]
    },
    {
      "cell_type": "markdown",
      "source": [
        "Prepare a configuration file so that the created module can be loaded."
      ],
      "metadata": {
        "id": "qTWS71mlKn_H"
      }
    },
    {
      "cell_type": "code",
      "source": [
        "!cp ../../redis.conf ."
      ],
      "metadata": {
        "id": "MzT05HA2NbTq"
      },
      "execution_count": 24,
      "outputs": []
    },
    {
      "cell_type": "code",
      "source": [
        "%%writefile -a redis.conf\n",
        "enable-module-command yes\n",
        "loadmodule /content/redis-stable/src/modules/fmmap.so"
      ],
      "metadata": {
        "id": "ZkWPur2RMtQj",
        "colab": {
          "base_uri": "https://localhost:8080/"
        },
        "outputId": "3490fa9c-3f5b-4798-f1ef-d606f1825dd1"
      },
      "execution_count": 25,
      "outputs": [
        {
          "output_type": "stream",
          "name": "stdout",
          "text": [
            "Appending to redis.conf\n"
          ]
        }
      ]
    },
    {
      "cell_type": "markdown",
      "source": [
        "Install Redis."
      ],
      "metadata": {
        "id": "BdhNej6lLe1j"
      }
    },
    {
      "cell_type": "code",
      "source": [
        "!sudo yes | add-apt-repository ppa:redislabs/redis\n",
        "!sudo apt-get update\n",
        "!sudo apt-get install redis"
      ],
      "metadata": {
        "id": "zOXorISbIiqr"
      },
      "execution_count": null,
      "outputs": []
    },
    {
      "cell_type": "markdown",
      "source": [
        "Write something to the configuration file."
      ],
      "metadata": {
        "id": "mZl8Kr6XKxqz"
      }
    },
    {
      "cell_type": "code",
      "source": [
        "%%writefile -a /etc/redis/redis.conf\n",
        "enable-module-command yes\n",
        "loadmodule /content/redis-stable/src/modules/fmmap.so"
      ],
      "metadata": {
        "id": "cm09QiJ1sbMp",
        "colab": {
          "base_uri": "https://localhost:8080/"
        },
        "outputId": "e9329dbd-1ed4-477f-9ed0-266c199a339a"
      },
      "execution_count": 27,
      "outputs": [
        {
          "output_type": "stream",
          "name": "stdout",
          "text": [
            "Appending to /etc/redis/redis.conf\n"
          ]
        }
      ]
    },
    {
      "cell_type": "markdown",
      "source": [
        "Run Redis."
      ],
      "metadata": {
        "id": "peUUvoBuLl_V"
      }
    },
    {
      "cell_type": "code",
      "source": [
        "!service redis-server start"
      ],
      "metadata": {
        "id": "v9LCwn7TM8hl",
        "colab": {
          "base_uri": "https://localhost:8080/"
        },
        "outputId": "afeee7a4-86d0-4840-fb64-964438db7f63"
      },
      "execution_count": 28,
      "outputs": [
        {
          "output_type": "stream",
          "name": "stdout",
          "text": [
            "Starting redis-server: redis-server.\n"
          ]
        }
      ]
    },
    {
      "cell_type": "markdown",
      "source": [
        "Check Redis running."
      ],
      "metadata": {
        "id": "fcEw2fMKWjwE"
      }
    },
    {
      "cell_type": "code",
      "source": [
        "!sleep 1\n",
        "!ps aux | grep redis | grep -v grep"
      ],
      "metadata": {
        "id": "3S5i2-2uYfmL",
        "colab": {
          "base_uri": "https://localhost:8080/"
        },
        "outputId": "876e861b-5400-458b-f30a-9f6f11819c2a"
      },
      "execution_count": 29,
      "outputs": [
        {
          "output_type": "stream",
          "name": "stdout",
          "text": [
            "redis       2680  0.0  0.0  59132  6392 ?        Ssl  15:58   0:00 /usr/bin/redis-server 127.0.0.1:6379\n"
          ]
        }
      ]
    },
    {
      "cell_type": "markdown",
      "source": [
        "Prepare the place to write a file."
      ],
      "metadata": {
        "id": "qpEK5VK_Eq4r"
      }
    },
    {
      "cell_type": "code",
      "source": [
        "!mkdir /content/db\n",
        "!chmod 777 /content/db"
      ],
      "metadata": {
        "id": "4TN5fvMSC1Eg"
      },
      "execution_count": 30,
      "outputs": []
    },
    {
      "cell_type": "markdown",
      "source": [
        "Maps a file to db. The return value is a number of values, 0 because it is new."
      ],
      "metadata": {
        "id": "A2oexH4uyBnQ"
      }
    },
    {
      "cell_type": "code",
      "source": [
        "!echo \"MMAP db /content/db/file.mmap\" | redis-cli"
      ],
      "metadata": {
        "id": "nARXq8hgu2-J",
        "colab": {
          "base_uri": "https://localhost:8080/"
        },
        "outputId": "64777156-ab08-489d-8168-7d9b0a31824d"
      },
      "execution_count": 31,
      "outputs": [
        {
          "output_type": "stream",
          "name": "stdout",
          "text": [
            "(integer) 0\n"
          ]
        }
      ]
    },
    {
      "cell_type": "markdown",
      "source": [
        "Confirm that the file.mmap file has been created. The file size is still zero."
      ],
      "metadata": {
        "id": "tOOLM-HTyLNx"
      }
    },
    {
      "cell_type": "code",
      "source": [
        "!ls -l /content/db"
      ],
      "metadata": {
        "id": "eqvz2mm1u5db",
        "colab": {
          "base_uri": "https://localhost:8080/"
        },
        "outputId": "c6cd6010-0e3f-4b8e-f27e-f21af6830991"
      },
      "execution_count": 32,
      "outputs": [
        {
          "output_type": "stream",
          "name": "stdout",
          "text": [
            "total 0\n",
            "-rw-rw---- 1 redis redis 0 Jun 21 15:58 file.mmap\n"
          ]
        }
      ]
    },
    {
      "cell_type": "markdown",
      "source": [
        "Try to add a value. The return value is the number of values added."
      ],
      "metadata": {
        "id": "CeTkpYnpyVaU"
      }
    },
    {
      "cell_type": "code",
      "source": [
        "!echo \"VADD db 0.0\" | redis-cli"
      ],
      "metadata": {
        "id": "nfja4sE7FQ0B",
        "colab": {
          "base_uri": "https://localhost:8080/"
        },
        "outputId": "674325ae-8af3-44e7-a016-dd1b025c1366"
      },
      "execution_count": 33,
      "outputs": [
        {
          "output_type": "stream",
          "name": "stdout",
          "text": [
            "(integer) 1\n"
          ]
        }
      ]
    },
    {
      "cell_type": "markdown",
      "source": [
        "You can see that the file size has increased to 8 bytes."
      ],
      "metadata": {
        "id": "0TPMQT9vzmWb"
      }
    },
    {
      "cell_type": "code",
      "source": [
        "!ls -l /content/db"
      ],
      "metadata": {
        "id": "os8Fy8JfFbGy",
        "colab": {
          "base_uri": "https://localhost:8080/"
        },
        "outputId": "e7bc9ebc-5b20-41eb-c904-0fb21a3227b7"
      },
      "execution_count": 34,
      "outputs": [
        {
          "output_type": "stream",
          "name": "stdout",
          "text": [
            "total 4\n",
            "-rw-rw---- 1 redis redis 8 Jun 21 15:58 file.mmap\n"
          ]
        }
      ]
    },
    {
      "cell_type": "markdown",
      "source": [
        "Write the command to a file and run it."
      ],
      "metadata": {
        "id": "pGaUP_lFzzRZ"
      }
    },
    {
      "cell_type": "code",
      "source": [
        "%%writefile command\n",
        "vadd db 0.1\n",
        "vadd db 0.2\n",
        "vadd db 0.3\n",
        "vadd db 0.4\n",
        "vadd db 0.5\n",
        "vadd db 0.6\n",
        "vadd db 0.7\n",
        "vadd db 0.8\n",
        "vadd db 0.9\n",
        "vcount db"
      ],
      "metadata": {
        "id": "MyvWfynlxdBf",
        "colab": {
          "base_uri": "https://localhost:8080/"
        },
        "outputId": "c6f36a62-f0ef-4850-8241-608553ce2743"
      },
      "execution_count": 35,
      "outputs": [
        {
          "output_type": "stream",
          "name": "stdout",
          "text": [
            "Writing command\n"
          ]
        }
      ]
    },
    {
      "cell_type": "markdown",
      "source": [
        "When you run it, you will see that the number of registrations is 10."
      ],
      "metadata": {
        "id": "0ZO6DMjJz4ni"
      }
    },
    {
      "cell_type": "code",
      "source": [
        "!redis-cli < command"
      ],
      "metadata": {
        "id": "mNdBecvXxvZx",
        "colab": {
          "base_uri": "https://localhost:8080/"
        },
        "outputId": "48eee0ff-1f29-4c99-985f-09a9c06c12df"
      },
      "execution_count": 36,
      "outputs": [
        {
          "output_type": "stream",
          "name": "stdout",
          "text": [
            "(integer) 1\n",
            "(integer) 1\n",
            "(integer) 1\n",
            "(integer) 1\n",
            "(integer) 1\n",
            "(integer) 1\n",
            "(integer) 1\n",
            "(integer) 1\n",
            "(integer) 1\n",
            "(integer) 10\n"
          ]
        }
      ]
    },
    {
      "cell_type": "markdown",
      "source": [
        "The file has also increased to 80 bytes."
      ],
      "metadata": {
        "id": "apnh5KTw0Lct"
      }
    },
    {
      "cell_type": "code",
      "source": [
        "!ls -l /content/db"
      ],
      "metadata": {
        "id": "GE_39GtVz7uE",
        "colab": {
          "base_uri": "https://localhost:8080/"
        },
        "outputId": "43d99f39-d76c-45c8-d332-92f23bcb17a0"
      },
      "execution_count": 37,
      "outputs": [
        {
          "output_type": "stream",
          "name": "stdout",
          "text": [
            "total 4\n",
            "-rw-rw---- 1 redis redis 80 Jun 21 15:58 file.mmap\n"
          ]
        }
      ]
    },
    {
      "cell_type": "markdown",
      "source": [
        "Multiple additions can be made with a single command. The number of values added is returned."
      ],
      "metadata": {
        "id": "1nbBtz010ZEF"
      }
    },
    {
      "cell_type": "code",
      "source": [
        "!echo \"VADD db 1.0 1.1 1.2 1.3 1.4 1.5\" | redis-cli"
      ],
      "metadata": {
        "id": "JnCsYyn90WEc",
        "colab": {
          "base_uri": "https://localhost:8080/"
        },
        "outputId": "a8a7c395-8fd6-4327-c8a4-08ea6b23618a"
      },
      "execution_count": 38,
      "outputs": [
        {
          "output_type": "stream",
          "name": "stdout",
          "text": [
            "(integer) 6\n"
          ]
        }
      ]
    },
    {
      "cell_type": "markdown",
      "source": [
        "Let's take out the value."
      ],
      "metadata": {
        "id": "-0D0hLlo0uzD"
      }
    },
    {
      "cell_type": "code",
      "source": [
        "!echo \"VGET db 5\" | redis-cli"
      ],
      "metadata": {
        "id": "mHWSEXkt0x_v",
        "colab": {
          "base_uri": "https://localhost:8080/"
        },
        "outputId": "94d8cd34-f1a5-4055-ce5a-dc31d43f6d56"
      },
      "execution_count": 39,
      "outputs": [
        {
          "output_type": "stream",
          "name": "stdout",
          "text": [
            "\"0.5\"\n"
          ]
        }
      ]
    },
    {
      "cell_type": "markdown",
      "source": [
        "If there is more than one, it will look like this. There is an error because of floating point."
      ],
      "metadata": {
        "id": "fQzUqDi805xF"
      }
    },
    {
      "cell_type": "code",
      "source": [
        "!echo \"VMGET db 1 2 3 4 5\" | redis-cli"
      ],
      "metadata": {
        "id": "Bo_3HFgL08Io",
        "colab": {
          "base_uri": "https://localhost:8080/"
        },
        "outputId": "fb5b2719-4890-44fc-d0ee-7783596077df"
      },
      "execution_count": 40,
      "outputs": [
        {
          "output_type": "stream",
          "name": "stdout",
          "text": [
            "1) \"0.10000000000000001\"\n",
            "2) \"0.20000000000000001\"\n",
            "3) \"0.29999999999999999\"\n",
            "4) \"0.40000000000000002\"\n",
            "5) \"0.5\"\n"
          ]
        }
      ]
    },
    {
      "cell_type": "markdown",
      "source": [
        "You can also change the values: set db[5] to 50, db[10] to 100, etc. The return value of VSET is the number of locations you have changed."
      ],
      "metadata": {
        "id": "vmn6Xb391QrD"
      }
    },
    {
      "cell_type": "code",
      "source": [
        "!echo \"VSET db 5 50 10 100\" | redis-cli\n",
        "!echo \"VMGET db 5 10\" | redis-cli"
      ],
      "metadata": {
        "id": "qFseYFee1YWI",
        "colab": {
          "base_uri": "https://localhost:8080/"
        },
        "outputId": "bb6561d7-f2b2-4b1b-bf4a-02accda48d91"
      },
      "execution_count": 41,
      "outputs": [
        {
          "output_type": "stream",
          "name": "stdout",
          "text": [
            "(integer) 2\n",
            "1) \"50\"\n",
            "2) \"100\"\n"
          ]
        }
      ]
    },
    {
      "cell_type": "markdown",
      "source": [
        "Extracts and removes the trailing value."
      ],
      "metadata": {
        "id": "v2lFBgKS1yQR"
      }
    },
    {
      "cell_type": "code",
      "source": [
        "!echo \"VCOUNT db\" | redis-cli\n",
        "!echo \"VGET db 15\" | redis-cli\n",
        "!echo \"VPOP db\" | redis-cli\n",
        "!echo \"VCOUNT db\" | redis-cli"
      ],
      "metadata": {
        "id": "-MQxEtwR13a-",
        "colab": {
          "base_uri": "https://localhost:8080/"
        },
        "outputId": "0c95ca2e-0476-4eff-f2fd-4e0a97af4a54"
      },
      "execution_count": 42,
      "outputs": [
        {
          "output_type": "stream",
          "name": "stdout",
          "text": [
            "(integer) 16\n",
            "\"1.5\"\n",
            "\"1.5\"\n",
            "(integer) 15\n"
          ]
        }
      ]
    },
    {
      "cell_type": "markdown",
      "source": [
        "Stop and restart Redis."
      ],
      "metadata": {
        "id": "hPQ852ZL2TGo"
      }
    },
    {
      "cell_type": "code",
      "source": [
        "!service redis-server stop\n",
        "!service redis-server start"
      ],
      "metadata": {
        "id": "OqLLdr8QFCXx",
        "colab": {
          "base_uri": "https://localhost:8080/"
        },
        "outputId": "40806d79-f49f-426c-a175-cc0121712b22"
      },
      "execution_count": 43,
      "outputs": [
        {
          "output_type": "stream",
          "name": "stdout",
          "text": [
            "Stopping redis-server: redis-server.\n",
            "Starting redis-server: redis-server.\n"
          ]
        }
      ]
    },
    {
      "cell_type": "markdown",
      "source": [
        "The values remain after rebooting."
      ],
      "metadata": {
        "id": "IMvVoe-q2hou"
      }
    },
    {
      "cell_type": "code",
      "source": [
        "!echo \"VCOUNT db\" | redis-cli"
      ],
      "metadata": {
        "id": "AMiagNba2m_Y",
        "colab": {
          "base_uri": "https://localhost:8080/"
        },
        "outputId": "676c58c5-9e7f-4db5-84a1-1fb3c8d072dc"
      },
      "execution_count": 44,
      "outputs": [
        {
          "output_type": "stream",
          "name": "stdout",
          "text": [
            "(integer) 15\n"
          ]
        }
      ]
    },
    {
      "cell_type": "markdown",
      "source": [
        "If you delete the db, you can re-map it and get the values since the file is still in its original state."
      ],
      "metadata": {
        "id": "OFmIl2Ja2_pT"
      }
    },
    {
      "cell_type": "code",
      "source": [
        "!echo \"KEYS *\" | redis-cli\n",
        "!echo \"DEL db\" | redis-cli\n",
        "!echo \"KEYS *\" | redis-cli\n",
        "!ls -l /content/db/\n",
        "!echo \"MMAP dba /content/db/file.mmap\" | redis-cli\n",
        "!echo \"VGET dba 5\" | redis-cli"
      ],
      "metadata": {
        "id": "JWvibGHQ3QWe",
        "colab": {
          "base_uri": "https://localhost:8080/"
        },
        "outputId": "02d9c82d-d087-45f9-a222-e84b02441d26"
      },
      "execution_count": 45,
      "outputs": [
        {
          "output_type": "stream",
          "name": "stdout",
          "text": [
            "1) \"db\"\n",
            "(integer) 1\n",
            "(empty array)\n",
            "total 4\n",
            "-rw-rw---- 1 redis redis 120 Jun 21 15:58 file.mmap\n",
            "(integer) 15\n",
            "\"50\"\n"
          ]
        }
      ]
    },
    {
      "cell_type": "markdown",
      "source": [
        "To clear the contents, do this."
      ],
      "metadata": {
        "id": "UNg5Sr_d2te_"
      }
    },
    {
      "cell_type": "code",
      "source": [
        "!echo \"VCLEAR dba\" | redis-cli\n",
        "!echo \"VCOUNT dba\" | redis-cli"
      ],
      "metadata": {
        "id": "YBqap1Qg23zS",
        "colab": {
          "base_uri": "https://localhost:8080/"
        },
        "outputId": "6ac51741-552f-4c22-f1a8-eda4152ea67f"
      },
      "execution_count": 46,
      "outputs": [
        {
          "output_type": "stream",
          "name": "stdout",
          "text": [
            "(integer) 15\n",
            "(integer) 0\n"
          ]
        }
      ]
    },
    {
      "cell_type": "markdown",
      "source": [
        "The size of the file will be zero."
      ],
      "metadata": {
        "id": "ydYdUPRL4FId"
      }
    },
    {
      "cell_type": "code",
      "source": [
        "!ls -l /content/db/"
      ],
      "metadata": {
        "id": "MKeFGrCd4I17",
        "colab": {
          "base_uri": "https://localhost:8080/"
        },
        "outputId": "c95f3323-736a-4da1-9268-07576778fe36"
      },
      "execution_count": 47,
      "outputs": [
        {
          "output_type": "stream",
          "name": "stdout",
          "text": [
            "total 0\n",
            "-rw-rw---- 1 redis redis 0 Jun 21 15:58 file.mmap\n"
          ]
        }
      ]
    },
    {
      "cell_type": "markdown",
      "source": [
        "Delete dba."
      ],
      "metadata": {
        "id": "IzIRyM4S43lO"
      }
    },
    {
      "cell_type": "code",
      "source": [
        "!echo \"DEL dba\" | redis-cli"
      ],
      "metadata": {
        "id": "J4N7bZom4_r9",
        "colab": {
          "base_uri": "https://localhost:8080/"
        },
        "outputId": "03ef2f35-c522-48f2-95c0-f717ecd1d091"
      },
      "execution_count": 48,
      "outputs": [
        {
          "output_type": "stream",
          "name": "stdout",
          "text": [
            "(integer) 1\n"
          ]
        }
      ]
    },
    {
      "cell_type": "markdown",
      "source": [
        "Create a file with 100 doubles written in Python."
      ],
      "metadata": {
        "id": "R50Nx0Bz6gHF"
      }
    },
    {
      "cell_type": "code",
      "source": [
        "import struct\n",
        "with open('/content/db/file.mmap', 'wb') as fout:\n",
        "    for i in range(100):\n",
        "        fout.write(struct.pack('d', i))"
      ],
      "metadata": {
        "id": "EpDrnwRp6Pk4"
      },
      "execution_count": 49,
      "outputs": []
    },
    {
      "cell_type": "markdown",
      "source": [
        "Map the file and check the contents."
      ],
      "metadata": {
        "id": "jGQiW41k7vpH"
      }
    },
    {
      "cell_type": "code",
      "source": [
        "!echo \"mmap db /content/db/file.mmap\" | redis-cli\n",
        "!echo \"vcount db\" | redis-cli\n",
        "!echo \"vmget db 1 3 5 7 9\" | redis-cli"
      ],
      "metadata": {
        "id": "UC4DM6nu73XU",
        "colab": {
          "base_uri": "https://localhost:8080/"
        },
        "outputId": "b79655d3-19f4-45f4-cf5a-ca297cae9ee3"
      },
      "execution_count": 50,
      "outputs": [
        {
          "output_type": "stream",
          "name": "stdout",
          "text": [
            "(integer) 100\n",
            "(integer) 100\n",
            "1) \"1\"\n",
            "2) \"3\"\n",
            "3) \"5\"\n",
            "4) \"7\"\n",
            "5) \"9\"\n"
          ]
        }
      ]
    },
    {
      "cell_type": "markdown",
      "source": [
        "Stop Redis. No redis-server remains."
      ],
      "metadata": {
        "id": "0toc4ufT5OMd"
      }
    },
    {
      "cell_type": "code",
      "source": [
        "!echo \"shutdown\" | redis-cli\n",
        "!sleep 1\n",
        "!ps aux | grep redis"
      ],
      "metadata": {
        "id": "1lX1B2fV5NMa",
        "colab": {
          "base_uri": "https://localhost:8080/"
        },
        "outputId": "739eb94c-f1e2-49aa-a6b2-ebef3d093841"
      },
      "execution_count": 51,
      "outputs": [
        {
          "output_type": "stream",
          "name": "stdout",
          "text": [
            "root        2823  0.0  0.0   6904  3148 ?        S    15:58   0:00 /bin/bash -c ps aux | grep redis\n",
            "root        2825  0.0  0.0   6444   724 ?        S    15:58   0:00 grep redis\n"
          ]
        }
      ]
    },
    {
      "cell_type": "markdown",
      "source": [
        "The file remains."
      ],
      "metadata": {
        "id": "wwTBl6yT9IiG"
      }
    },
    {
      "cell_type": "code",
      "source": [
        "!ls -l /content/db"
      ],
      "metadata": {
        "id": "u6haGmqX9LfH",
        "colab": {
          "base_uri": "https://localhost:8080/"
        },
        "outputId": "9df1734f-510b-4c6f-afe4-4a24329ab0dd"
      },
      "execution_count": 52,
      "outputs": [
        {
          "output_type": "stream",
          "name": "stdout",
          "text": [
            "total 4\n",
            "-rw-rw---- 1 redis redis 800 Jun 21 15:58 file.mmap\n"
          ]
        }
      ]
    },
    {
      "cell_type": "markdown",
      "source": [
        "That is all."
      ],
      "metadata": {
        "id": "iTiup4Nb57jO"
      }
    }
  ]
}