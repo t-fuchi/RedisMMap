{
  "nbformat": 4,
  "nbformat_minor": 0,
  "metadata": {
    "colab": {
      "provenance": [],
      "authorship_tag": "ABX9TyM+JwYrCPcRyUgAQ9EYW9uQ",
      "include_colab_link": true
    },
    "kernelspec": {
      "name": "python3",
      "display_name": "Python 3"
    },
    "language_info": {
      "name": "python"
    }
  },
  "cells": [
    {
      "cell_type": "markdown",
      "metadata": {
        "id": "view-in-github",
        "colab_type": "text"
      },
      "source": [
        "<a href=\"https://colab.research.google.com/github/t-fuchi/RedisMMap/blob/main/RedisMMap.ipynb\" target=\"_parent\"><img src=\"https://colab.research.google.com/assets/colab-badge.svg\" alt=\"Open In Colab\"/></a>"
      ]
    },
    {
      "cell_type": "markdown",
      "source": [
        "## I made a module with Google Colab to read values from mmapped files in Redis.\n",
        "\n",
        "I can't find the ability to read existing files in Redis. (Maybe I just don't know it, so if you do, please let me know.) So I made a module that maps a file with double values written to it with mmap and reads/writes the values at specified locations from it. I've included the full code so that you can try it out by simply opening Colab from the button in the upper left corner and executing the cells in order. Please also refer to this as a way to create a Redis module.\n",
        "\n",
        "\n",
        "\n",
        "\n"
      ],
      "metadata": {
        "id": "ebmIZkYT-Buz"
      }
    },
    {
      "cell_type": "markdown",
      "source": [
        "Using this module, the following commands can be used in Redis.\n",
        "\n",
        "```\n",
        "// This command binds key to the file at file_path.\n",
        "MMAP key file_path\n",
        "\n",
        "// This command gets a value at index position from key\n",
        "VGET key index\n",
        "\n",
        "// This command gets values at multiple index positions from key\n",
        "VMGET key index [index ...]\n",
        "\n",
        "// This command writes values to the index positions of key\n",
        "VSET key index value [index value ...]\n",
        "\n",
        "// This command adds a value to key\n",
        "VADD key value [value ...]\n",
        "\n",
        "// This command retrieves and deletes the last value of key\n",
        "VPOP key\n",
        "\n",
        "// This command gets the number of values of key\n",
        "VCOUNT key\n",
        "\n",
        "// This command erases the contents of key\n",
        "VCLEAR key\n",
        "```\n"
      ],
      "metadata": {
        "id": "g-9lzZd16X0s"
      }
    },
    {
      "cell_type": "markdown",
      "source": [
        "First, obtain the Redis source and change current directory to the module's one."
      ],
      "metadata": {
        "id": "B4dFblMVqWtf"
      }
    },
    {
      "cell_type": "code",
      "source": [
        "%cd /content\n",
        "!wget https://download.redis.io/redis-stable.tar.gz\n",
        "!tar -xzf redis-stable.tar.gz\n",
        "%cd /content/redis-stable/src/modules"
      ],
      "metadata": {
        "id": "Nm5oZ6X99ZoE",
        "colab": {
          "base_uri": "https://localhost:8080/"
        },
        "outputId": "54f1a560-c1de-4d1c-f195-38031ada09d4"
      },
      "execution_count": 1,
      "outputs": [
        {
          "output_type": "stream",
          "name": "stdout",
          "text": [
            "/content\n",
            "--2023-06-22 06:07:59--  https://download.redis.io/redis-stable.tar.gz\n",
            "Resolving download.redis.io (download.redis.io)... 45.60.121.1\n",
            "Connecting to download.redis.io (download.redis.io)|45.60.121.1|:443... connected.\n",
            "HTTP request sent, awaiting response... 200 OK\n",
            "Length: 3068843 (2.9M) [application/octet-stream]\n",
            "Saving to: ‘redis-stable.tar.gz’\n",
            "\n",
            "redis-stable.tar.gz 100%[===================>]   2.93M  --.-KB/s    in 0.06s   \n",
            "\n",
            "2023-06-22 06:07:59 (47.1 MB/s) - ‘redis-stable.tar.gz’ saved [3068843/3068843]\n",
            "\n",
            "/content/redis-stable/src/modules\n"
          ]
        }
      ]
    },
    {
      "cell_type": "markdown",
      "source": [
        "Let's build the sample code."
      ],
      "metadata": {
        "id": "GbrJk1f_q0wU"
      }
    },
    {
      "cell_type": "code",
      "source": [
        "!make"
      ],
      "metadata": {
        "id": "GonTC3A3qs4E",
        "colab": {
          "base_uri": "https://localhost:8080/"
        },
        "outputId": "fd123a04-d38f-4899-a949-154a5c983dfb"
      },
      "execution_count": 2,
      "outputs": [
        {
          "output_type": "stream",
          "name": "stdout",
          "text": [
            "cc -I.  -W -Wall -fno-common -g -ggdb -std=c99 -O2 -fPIC -c helloworld.c -o helloworld.xo\n",
            "ld -o helloworld.so helloworld.xo -shared  -lc\n",
            "cc -I.  -W -Wall -fno-common -g -ggdb -std=c99 -O2 -fPIC -c hellotype.c -o hellotype.xo\n",
            "ld -o hellotype.so hellotype.xo -shared  -lc\n",
            "cc -I.  -W -Wall -fno-common -g -ggdb -std=c99 -O2 -fPIC -c helloblock.c -o helloblock.xo\n",
            "ld -o helloblock.so helloblock.xo -shared  -lpthread -lc\n",
            "cc -I.  -W -Wall -fno-common -g -ggdb -std=c99 -O2 -fPIC -c hellocluster.c -o hellocluster.xo\n",
            "ld -o hellocluster.so hellocluster.xo -shared  -lc\n",
            "cc -I.  -W -Wall -fno-common -g -ggdb -std=c99 -O2 -fPIC -c hellotimer.c -o hellotimer.xo\n",
            "ld -o hellotimer.so hellotimer.xo -shared  -lc\n",
            "cc -I.  -W -Wall -fno-common -g -ggdb -std=c99 -O2 -fPIC -c hellodict.c -o hellodict.xo\n",
            "ld -o hellodict.so hellodict.xo -shared  -lc\n",
            "cc -I.  -W -Wall -fno-common -g -ggdb -std=c99 -O2 -fPIC -c hellohook.c -o hellohook.xo\n",
            "ld -o hellohook.so hellohook.xo -shared  -lc\n",
            "cc -I.  -W -Wall -fno-common -g -ggdb -std=c99 -O2 -fPIC -c helloacl.c -o helloacl.xo\n",
            "ld -o helloacl.so helloacl.xo -shared  -lc\n"
          ]
        }
      ]
    },
    {
      "cell_type": "markdown",
      "source": [
        "Check if the module .so file has been created."
      ],
      "metadata": {
        "id": "FZ1UUofWrJwU"
      }
    },
    {
      "cell_type": "code",
      "source": [
        "!ls *.so"
      ],
      "metadata": {
        "id": "xjCItXs-rA0p",
        "colab": {
          "base_uri": "https://localhost:8080/"
        },
        "outputId": "df35659b-d501-4ccc-cfe5-be34e864caef"
      },
      "execution_count": 3,
      "outputs": [
        {
          "output_type": "stream",
          "name": "stdout",
          "text": [
            "helloacl.so    hellocluster.so\thellohook.so   hellotype.so\n",
            "helloblock.so  hellodict.so\thellotimer.so  helloworld.so\n"
          ]
        }
      ]
    },
    {
      "cell_type": "markdown",
      "source": [
        "Now let's write the code in fmmap.c. The value to be read/written is a double. Error handling has been omitted to make the code easier to read. If you try it, please do not submit any nasty commands.😏\n",
        "\n",
        "In addition, the code available [here](https://github.com/t-fuchi/RedisMMap) allows you to choose the type of value to read or write, and is complete with error handling.\n",
        "\n"
      ],
      "metadata": {
        "id": "H4BhZSz1SWfJ"
      }
    },
    {
      "cell_type": "markdown",
      "source": [
        "First, necessary headers and a convenience macro."
      ],
      "metadata": {
        "id": "xAskK-woHPFi"
      }
    },
    {
      "cell_type": "code",
      "source": [
        "%%writefile fmmap.c\n",
        "\n",
        "#pragma GCC diagnostic ignored \"-Wunused-parameter\"\n",
        "\n",
        "#include <sys/mman.h>\n",
        "#include <sys/stat.h>\n",
        "#include <sys/types.h>\n",
        "#include <fcntl.h>\n",
        "#include <unistd.h>\n",
        "#include <stdbool.h>\n",
        "#include <stdint.h>\n",
        "#include <strings.h>\n",
        "#include <string.h>\n",
        "\n",
        "#include \"../redismodule.h\"\n",
        "#include \"../sds.h\"\n",
        "#include \"../zmalloc.h\"\n",
        "\n",
        "// A macro compare (RedisModuleString *) and (char *)\n",
        "static inline int mstringcmp(const RedisModuleString *rs1, const char *s2)\n",
        "{\n",
        "  return strcasecmp(RedisModule_StringPtrLen(rs1, NULL), s2);\n",
        "}\n",
        "\n",
        "int ftruncate(int fildes, off_t length); // It should be in unistd.h, but I get a warning."
      ],
      "metadata": {
        "id": "B6i-T3MW-nrR",
        "colab": {
          "base_uri": "https://localhost:8080/"
        },
        "outputId": "00605e6f-eab4-41ad-d577-875e0f8beedf"
      },
      "execution_count": 4,
      "outputs": [
        {
          "output_type": "stream",
          "name": "stdout",
          "text": [
            "Writing fmmap.c\n"
          ]
        }
      ]
    },
    {
      "cell_type": "markdown",
      "source": [
        "Define MMapObject, packed with the information needed for mmap. sds is a string type used within Redis."
      ],
      "metadata": {
        "id": "z3eP1F0NRsM9"
      }
    },
    {
      "cell_type": "code",
      "source": [
        "%%writefile -a fmmap.c\n",
        "\n",
        "typedef struct _MMapObject\n",
        "{\n",
        "  sds file_path;\n",
        "  int fd;\n",
        "  void *mmap;\n",
        "  size_t file_size;\n",
        "} MMapObject;"
      ],
      "metadata": {
        "id": "By7VHi5OQwnT",
        "colab": {
          "base_uri": "https://localhost:8080/"
        },
        "outputId": "98358a39-cf7b-4389-c1d4-d19746e585c0"
      },
      "execution_count": 5,
      "outputs": [
        {
          "output_type": "stream",
          "name": "stdout",
          "text": [
            "Appending to fmmap.c\n"
          ]
        }
      ]
    },
    {
      "cell_type": "markdown",
      "source": [
        "A variable to hold the MMap type and a function to generate the MMapObject."
      ],
      "metadata": {
        "id": "4CnFC1zb4uTN"
      }
    },
    {
      "cell_type": "code",
      "source": [
        "%%writefile -a fmmap.c\n",
        "\n",
        "RedisModuleType *MMapType = NULL;\n",
        "\n",
        "MMapObject *MCreateObject(void)\n",
        "{\n",
        "  return (MMapObject *)zcalloc(sizeof(MMapObject));\n",
        "}"
      ],
      "metadata": {
        "id": "cU2hBwwSRMUC",
        "colab": {
          "base_uri": "https://localhost:8080/"
        },
        "outputId": "1fb7f6b0-eea4-4dec-f91b-6a2c48313c26"
      },
      "execution_count": 6,
      "outputs": [
        {
          "output_type": "stream",
          "name": "stdout",
          "text": [
            "Appending to fmmap.c\n"
          ]
        }
      ]
    },
    {
      "cell_type": "markdown",
      "source": [
        "Function to release MMapObject."
      ],
      "metadata": {
        "id": "An1byHFs4_VM"
      }
    },
    {
      "cell_type": "code",
      "source": [
        "%%writefile -a fmmap.c\n",
        "\n",
        "void MFree(void *value)\n",
        "{\n",
        "  if (value == NULL) return;\n",
        "  const MMapObject *obj_ptr = value;\n",
        "  if (obj_ptr->mmap != NULL) munmap(obj_ptr->mmap, obj_ptr->file_size);\n",
        "  if (obj_ptr->fd != -1) close(obj_ptr->fd);\n",
        "  sdsfree(obj_ptr->file_path);\n",
        "  zfree(value);\n",
        "}"
      ],
      "metadata": {
        "id": "QFQzTrztRBrY",
        "colab": {
          "base_uri": "https://localhost:8080/"
        },
        "outputId": "ba68cfe7-f0d6-4abb-8e72-dc5fdf0553ed"
      },
      "execution_count": 7,
      "outputs": [
        {
          "output_type": "stream",
          "name": "stdout",
          "text": [
            "Appending to fmmap.c\n"
          ]
        }
      ]
    },
    {
      "cell_type": "markdown",
      "source": [
        "Function to map the file specified by file_path to key."
      ],
      "metadata": {
        "id": "W62Dcs095TtN"
      }
    },
    {
      "cell_type": "code",
      "source": [
        "%%writefile -a fmmap.c\n",
        "\n",
        "// MMAP key file_path\n",
        "int MMap_RedisCommand(RedisModuleCtx *ctx, RedisModuleString **argv, int argc)\n",
        "{\n",
        "  RedisModule_AutoMemory(ctx); /* Use automatic memory management. */\n",
        "\n",
        "  if (argc != 3) return RedisModule_WrongArity(ctx);\n",
        "\n",
        "  RedisModuleKey *key = RedisModule_OpenKey(ctx, argv[1], REDISMODULE_READ | REDISMODULE_WRITE);\n",
        "\n",
        "  // It confirms the type of key\n",
        "  int type = RedisModule_KeyType(key);\n",
        "  if (type != REDISMODULE_KEYTYPE_EMPTY &&\n",
        "      RedisModule_ModuleTypeGetType(key) != MMapType) {\n",
        "    return RedisModule_ReplyWithError(ctx, REDISMODULE_ERRORMSG_WRONGTYPE);\n",
        "  }\n",
        "\n",
        "  // It creates new file and mmap it if key is empty.\n",
        "  MMapObject *obj_ptr;\n",
        "  if (type == REDISMODULE_KEYTYPE_EMPTY) {\n",
        "    obj_ptr = MCreateObject();\n",
        "    obj_ptr->file_path = sdsnew(RedisModule_StringPtrLen(argv[2], NULL));\n",
        "    obj_ptr->fd = open(obj_ptr->file_path, O_RDWR | O_CREAT, 0666);\n",
        "    if (obj_ptr->fd == -1) {\n",
        "        MFree(obj_ptr);\n",
        "        return RedisModule_ReplyWithError(ctx, sdsnew(RedisModule_StringPtrLen(argv[2], NULL)));\n",
        "    }\n",
        "\n",
        "    struct stat sb;\n",
        "    fstat(obj_ptr->fd, &sb);\n",
        "    obj_ptr->file_size = sb.st_size;\n",
        "    obj_ptr->mmap = mmap(NULL, sb.st_size, PROT_READ | PROT_WRITE, MAP_SHARED, obj_ptr->fd, 0);\n",
        "    RedisModule_ModuleTypeSetValue(key, MMapType, obj_ptr);\n",
        "  }\n",
        "  // It confirms the file_path if key already exists.\n",
        "  else {\n",
        "    obj_ptr = RedisModule_ModuleTypeGetValue(key);\n",
        "    if (obj_ptr == NULL) {\n",
        "      RedisModule_ReplyWithNull(ctx);\n",
        "      return REDISMODULE_ERR;\n",
        "    }\n",
        "    // Error if it is different from the existing file_path.\n",
        "    if (strcmp(obj_ptr->file_path, RedisModule_StringPtrLen(argv[2], NULL)) != 0) {\n",
        "      return RedisModule_ReplyWithError(ctx, \"It is already mapped on another file.\");\n",
        "    }\n",
        "  }\n",
        "\n",
        "  return RedisModule_ReplyWithLongLong(ctx, obj_ptr->file_size / sizeof(double));\n",
        "}\n"
      ],
      "metadata": {
        "id": "83ef-t0O_S64",
        "colab": {
          "base_uri": "https://localhost:8080/"
        },
        "outputId": "40aef0d8-004e-416f-a828-0b2b4c8dd187"
      },
      "execution_count": 8,
      "outputs": [
        {
          "output_type": "stream",
          "name": "stdout",
          "text": [
            "Appending to fmmap.c\n"
          ]
        }
      ]
    },
    {
      "cell_type": "markdown",
      "source": [
        "Function to get the value at the position specified by index."
      ],
      "metadata": {
        "id": "obybK8RaF5FC"
      }
    },
    {
      "cell_type": "code",
      "source": [
        "%%writefile -a fmmap.c\n",
        "\n",
        "// VGET key index\n",
        "int VGet_RedisCommand(RedisModuleCtx *ctx, RedisModuleString **argv, int argc)\n",
        "{\n",
        "  RedisModule_AutoMemory(ctx); /* Use automatic memory management. */\n",
        "\n",
        "  RedisModuleKey *key =\n",
        "    RedisModule_OpenKey(ctx, argv[1], REDISMODULE_READ | REDISMODULE_WRITE);\n",
        "\n",
        "  long long index;\n",
        "  RedisModule_StringToLongLong(argv[2], &index);\n",
        "\n",
        "  MMapObject *obj_ptr = RedisModule_ModuleTypeGetValue(key);\n",
        "\n",
        "  // It returns Null if index is out of range.\n",
        "  if (obj_ptr->file_size <= (size_t)index * sizeof(double) || index < 0) {\n",
        "    RedisModule_ReplyWithNull(ctx);\n",
        "  }\n",
        "  // It returns mmap[index].\n",
        "  else {\n",
        "    RedisModule_ReplyWithDouble(ctx, ((double*)obj_ptr->mmap)[index]);\n",
        "  }\n",
        "  return REDISMODULE_OK;\n",
        "}"
      ],
      "metadata": {
        "id": "Mgn3mC5f_csU",
        "colab": {
          "base_uri": "https://localhost:8080/"
        },
        "outputId": "c237d467-3d7b-46c5-e303-075e20969c06"
      },
      "execution_count": 9,
      "outputs": [
        {
          "output_type": "stream",
          "name": "stdout",
          "text": [
            "Appending to fmmap.c\n"
          ]
        }
      ]
    },
    {
      "cell_type": "markdown",
      "source": [
        "This function gets the values at the positions indicated by multiple indices."
      ],
      "metadata": {
        "id": "NOHacZDkH3i1"
      }
    },
    {
      "cell_type": "code",
      "source": [
        "%%writefile -a fmmap.c\n",
        "\n",
        "// VMGET key index [index ...]\n",
        "int VMGet_RedisCommand(RedisModuleCtx *ctx, RedisModuleString **argv, int argc)\n",
        "{\n",
        "  RedisModule_AutoMemory(ctx); /* Use automatic memory management. */\n",
        "\n",
        "  RedisModuleKey *key =\n",
        "      RedisModule_OpenKey(ctx, argv[1], REDISMODULE_READ | REDISMODULE_WRITE);\n",
        "\n",
        "  MMapObject *obj_ptr = RedisModule_ModuleTypeGetValue(key);\n",
        "\n",
        "  RedisModule_ReplyWithArray(ctx, argc - 2);\n",
        "  for (int i = 2; i < argc; i++) {\n",
        "    long long index;\n",
        "    RedisModule_StringToLongLong(argv[i], &index);\n",
        "    // It returns Null if index is out of range.\n",
        "    if (obj_ptr->file_size <= (size_t)index * sizeof(double) || index < 0) {\n",
        "      RedisModule_ReplyWithNull(ctx);\n",
        "    }\n",
        "    // It returns mmap[index].\n",
        "    else {\n",
        "      RedisModule_ReplyWithDouble(ctx, ((double*)obj_ptr->mmap)[index]);\n",
        "    }\n",
        "  }\n",
        "  return REDISMODULE_OK;\n",
        "}"
      ],
      "metadata": {
        "id": "qmGUc1OQEq2Y",
        "colab": {
          "base_uri": "https://localhost:8080/"
        },
        "outputId": "245f13e1-382f-4868-a693-316dabc1351a"
      },
      "execution_count": 10,
      "outputs": [
        {
          "output_type": "stream",
          "name": "stdout",
          "text": [
            "Appending to fmmap.c\n"
          ]
        }
      ]
    },
    {
      "cell_type": "markdown",
      "source": [
        "This function writes values at the positions indicated by indeces."
      ],
      "metadata": {
        "id": "9mjKa47pIIP8"
      }
    },
    {
      "cell_type": "code",
      "source": [
        "%%writefile -a fmmap.c\n",
        "\n",
        "// VSET key index value [index value ...]\n",
        "int VSet_RedisCommand(RedisModuleCtx *ctx, RedisModuleString **argv, int argc)\n",
        "{\n",
        "  RedisModule_AutoMemory(ctx); /* Use automatic memory management. */\n",
        "\n",
        "  RedisModuleKey *key =\n",
        "      RedisModule_OpenKey(ctx, argv[1], REDISMODULE_READ | REDISMODULE_WRITE);\n",
        "\n",
        "  MMapObject *obj_ptr = RedisModule_ModuleTypeGetValue(key);\n",
        "\n",
        "  long long index;\n",
        "  double value;\n",
        "  // It confirms the type of value written.\n",
        "  for (int i = 3; i < argc; i += 2) {\n",
        "    if (RedisModule_StringToDouble(argv[i], &value) == REDISMODULE_ERR) {\n",
        "      return RedisModule_ReplyWithError(ctx, \"value must be double.\");\n",
        "    }\n",
        "  }\n",
        "  int n_factors = 0;\n",
        "  // It writes a value to mmap[index].\n",
        "  for (int i = 2; i < argc; i += 2) {\n",
        "    RedisModule_StringToLongLong(argv[i], &index);\n",
        "    // It writes a value if index is in range.\n",
        "    if (0 <= index && (size_t)index * sizeof(double) < obj_ptr->file_size) {\n",
        "      RedisModule_StringToDouble(argv[i + 1], &value);\n",
        "      ((double*)obj_ptr->mmap)[index] = (double)value;\n",
        "      ++n_factors;\n",
        "    }\n",
        "  }\n",
        "  // It returns the number of writings.\n",
        "  return RedisModule_ReplyWithLongLong(ctx, n_factors);\n",
        "}\n"
      ],
      "metadata": {
        "id": "Swxnzf28Fcw0",
        "colab": {
          "base_uri": "https://localhost:8080/"
        },
        "outputId": "242c1f11-23de-49fe-dda7-dd0f4e373137"
      },
      "execution_count": 11,
      "outputs": [
        {
          "output_type": "stream",
          "name": "stdout",
          "text": [
            "Appending to fmmap.c\n"
          ]
        }
      ]
    },
    {
      "cell_type": "markdown",
      "source": [
        "This function appends values to the end of a file."
      ],
      "metadata": {
        "id": "um_u2SLXIPcT"
      }
    },
    {
      "cell_type": "code",
      "source": [
        "%%writefile -a fmmap.c\n",
        "\n",
        "// VADD key value [value ...]\n",
        "int VAdd_RedisCommand(RedisModuleCtx *ctx, RedisModuleString **argv, int argc)\n",
        "{\n",
        "  RedisModule_AutoMemory(ctx); /* Use automatic memory management. */\n",
        "\n",
        "  RedisModuleKey *key =\n",
        "      RedisModule_OpenKey(ctx, argv[1], REDISMODULE_READ | REDISMODULE_WRITE);\n",
        "\n",
        "  MMapObject *obj_ptr = RedisModule_ModuleTypeGetValue(key);\n",
        "  double value;\n",
        "  // It confirms the type of value added.\n",
        "  for (int i = 2; i < argc; ++i) {\n",
        "    if (RedisModule_StringToDouble(argv[i], &value) == REDISMODULE_ERR) {\n",
        "      return RedisModule_ReplyWithError(ctx, \"value must be double.\");\n",
        "    }\n",
        "  }\n",
        "  // It extends mmap and write a value at the end of mmap.\n",
        "  size_t new_size = obj_ptr->file_size + sizeof(double) * (argc - 2);\n",
        "  ftruncate(obj_ptr->fd, new_size);\n",
        "  munmap(obj_ptr->mmap, obj_ptr->file_size);\n",
        "  obj_ptr->mmap = mmap(NULL, new_size, PROT_READ | PROT_WRITE, MAP_SHARED, obj_ptr->fd, 0);\n",
        "  for (int i = 2; i < argc; ++i) {\n",
        "    size_t index = obj_ptr->file_size / sizeof(double);\n",
        "    RedisModule_StringToDouble(argv[i], &value);\n",
        "    obj_ptr->file_size += sizeof(double);\n",
        "    ((double*)obj_ptr->mmap)[index] = (double)value;\n",
        "  }\n",
        "\n",
        "  // It returns the number of elements added.\n",
        "  return RedisModule_ReplyWithLongLong(ctx, argc - 2);\n",
        "}"
      ],
      "metadata": {
        "id": "fdhi9xNIGqdI",
        "colab": {
          "base_uri": "https://localhost:8080/"
        },
        "outputId": "dcffc328-c7a3-4d77-ec42-5c16bd63db94"
      },
      "execution_count": 12,
      "outputs": [
        {
          "output_type": "stream",
          "name": "stdout",
          "text": [
            "Appending to fmmap.c\n"
          ]
        }
      ]
    },
    {
      "cell_type": "markdown",
      "source": [
        "This function gets the number of values in a file."
      ],
      "metadata": {
        "id": "EYyiyPTfIWRv"
      }
    },
    {
      "cell_type": "code",
      "source": [
        "%%writefile -a fmmap.c\n",
        "\n",
        "// VCOUNT key\n",
        "int VCount_RedisCommand(RedisModuleCtx *ctx, RedisModuleString **argv, int argc)\n",
        "{\n",
        "  RedisModule_AutoMemory(ctx); /* Use automatic memory management. */\n",
        "\n",
        "  RedisModuleKey *key =\n",
        "      RedisModule_OpenKey(ctx, argv[1], REDISMODULE_READ | REDISMODULE_WRITE);\n",
        "\n",
        "  MMapObject *obj_ptr = RedisModule_ModuleTypeGetValue(key);\n",
        "\n",
        "  return RedisModule_ReplyWithLongLong(ctx, obj_ptr->file_size / sizeof(double));\n",
        "}"
      ],
      "metadata": {
        "id": "SBDuwxJzHL26",
        "colab": {
          "base_uri": "https://localhost:8080/"
        },
        "outputId": "35547238-b56c-4a7f-a722-4d9c8d3c6a17"
      },
      "execution_count": 13,
      "outputs": [
        {
          "output_type": "stream",
          "name": "stdout",
          "text": [
            "Appending to fmmap.c\n"
          ]
        }
      ]
    },
    {
      "cell_type": "markdown",
      "source": [
        "This function erases the contents of a file."
      ],
      "metadata": {
        "id": "kYA2EaImIeeJ"
      }
    },
    {
      "cell_type": "code",
      "source": [
        "%%writefile -a fmmap.c\n",
        "\n",
        "// VCLEAR key\n",
        "int VClear_RedisCommand(RedisModuleCtx *ctx, RedisModuleString **argv, int argc)\n",
        "{\n",
        "  RedisModule_AutoMemory(ctx); /* Use automatic memory management. */\n",
        "\n",
        "  RedisModuleKey *key =\n",
        "      RedisModule_OpenKey(ctx, argv[1], REDISMODULE_READ | REDISMODULE_WRITE);\n",
        "\n",
        "  MMapObject *obj_ptr = RedisModule_ModuleTypeGetValue(key);\n",
        "\n",
        "  munmap(obj_ptr->mmap, obj_ptr->file_size);\n",
        "  ftruncate(obj_ptr->fd, 0);\n",
        "  obj_ptr->mmap = mmap(NULL, 0, PROT_READ | PROT_WRITE, MAP_SHARED, obj_ptr->fd, 0);\n",
        "  RedisModule_ReplyWithLongLong(ctx, obj_ptr->file_size / sizeof(double));\n",
        "  obj_ptr->file_size = 0;\n",
        "\n",
        "  return REDISMODULE_OK;\n",
        "}"
      ],
      "metadata": {
        "id": "5Z8bjafyHjbl",
        "colab": {
          "base_uri": "https://localhost:8080/"
        },
        "outputId": "e96c4fc9-79a6-48b6-9af7-38f635c48ad9"
      },
      "execution_count": 14,
      "outputs": [
        {
          "output_type": "stream",
          "name": "stdout",
          "text": [
            "Appending to fmmap.c\n"
          ]
        }
      ]
    },
    {
      "cell_type": "markdown",
      "source": [
        "This function gets a value from the end of a file and delete it."
      ],
      "metadata": {
        "id": "6RYMWJy9IkkU"
      }
    },
    {
      "cell_type": "code",
      "source": [
        "%%writefile -a fmmap.c\n",
        "\n",
        "// VPOP key\n",
        "int VPop_RedisCommand(RedisModuleCtx *ctx, RedisModuleString **argv, int argc)\n",
        "{\n",
        "  RedisModule_AutoMemory(ctx); /* Use automatic memory management. */\n",
        "\n",
        "  RedisModuleKey *key =\n",
        "      RedisModule_OpenKey(ctx, argv[1], REDISMODULE_READ | REDISMODULE_WRITE);\n",
        "\n",
        "  MMapObject *obj_ptr = RedisModule_ModuleTypeGetValue(key);\n",
        "\n",
        "  if (obj_ptr->file_size == 0) {\n",
        "    RedisModule_ReplyWithNull(ctx);\n",
        "  }\n",
        "  else {\n",
        "    size_t index = obj_ptr->file_size / sizeof(double) - 1;\n",
        "    RedisModule_ReplyWithDouble(ctx, ((double*)obj_ptr->mmap)[index]);\n",
        "    munmap(obj_ptr->mmap, obj_ptr->file_size);\n",
        "    obj_ptr->file_size -= sizeof(double);\n",
        "    ftruncate(obj_ptr->fd, obj_ptr->file_size);\n",
        "    obj_ptr->mmap = mmap(NULL, obj_ptr->file_size, PROT_READ | PROT_WRITE, MAP_SHARED, obj_ptr->fd, 0);\n",
        "  }\n",
        "  return REDISMODULE_OK;\n",
        "}"
      ],
      "metadata": {
        "id": "-APt5ZjQHxP-",
        "colab": {
          "base_uri": "https://localhost:8080/"
        },
        "outputId": "af5de646-191a-4bc1-a329-e45d93b5b031"
      },
      "execution_count": 15,
      "outputs": [
        {
          "output_type": "stream",
          "name": "stdout",
          "text": [
            "Appending to fmmap.c\n"
          ]
        }
      ]
    },
    {
      "cell_type": "markdown",
      "source": [
        "This function stores information about mmap in a Redis RDB file."
      ],
      "metadata": {
        "id": "YUO8UsY-IwDh"
      }
    },
    {
      "cell_type": "code",
      "source": [
        "%%writefile -a fmmap.c\n",
        "\n",
        "void MRdbSave(RedisModuleIO *rdb, void *value)\n",
        "{\n",
        "  MMapObject *obj_ptr = value;\n",
        "  RedisModule_SaveStringBuffer(rdb, obj_ptr->file_path, sdslen(obj_ptr->file_path));\n",
        "  msync(obj_ptr->mmap, obj_ptr->file_size, MS_ASYNC);\n",
        "}"
      ],
      "metadata": {
        "id": "Z9tP4bIzIEla",
        "colab": {
          "base_uri": "https://localhost:8080/"
        },
        "outputId": "5bf48582-ef59-4368-bdc9-edb3b6888d8f"
      },
      "execution_count": 16,
      "outputs": [
        {
          "output_type": "stream",
          "name": "stdout",
          "text": [
            "Appending to fmmap.c\n"
          ]
        }
      ]
    },
    {
      "cell_type": "markdown",
      "source": [
        "This function reads information about mmap from a Redis RDB file."
      ],
      "metadata": {
        "id": "a4w9eoP0I796"
      }
    },
    {
      "cell_type": "code",
      "source": [
        "%%writefile -a fmmap.c\n",
        "\n",
        "void *MRdbLoad(RedisModuleIO *rdb, int encver)\n",
        "{\n",
        "  MMapObject *obj_ptr = MCreateObject();\n",
        "  obj_ptr->file_path = sdsnew(RedisModule_StringPtrLen(RedisModule_LoadString(rdb), NULL));\n",
        "  obj_ptr->fd = open(obj_ptr->file_path, O_RDWR);\n",
        "\n",
        "  struct stat sb;\n",
        "  fstat(obj_ptr->fd, &sb);\n",
        "  obj_ptr->file_size = sb.st_size;\n",
        "  obj_ptr->mmap = mmap(NULL, sb.st_size, PROT_READ | PROT_WRITE, MAP_SHARED, obj_ptr->fd, 0);\n",
        "\n",
        "  return obj_ptr;\n",
        "}"
      ],
      "metadata": {
        "id": "vGTI5s14IMKP",
        "colab": {
          "base_uri": "https://localhost:8080/"
        },
        "outputId": "edc8f007-f7ea-4bbd-9a34-bf7ac7586db3"
      },
      "execution_count": 17,
      "outputs": [
        {
          "output_type": "stream",
          "name": "stdout",
          "text": [
            "Appending to fmmap.c\n"
          ]
        }
      ]
    },
    {
      "cell_type": "markdown",
      "source": [
        "Function to use AOF in Redis."
      ],
      "metadata": {
        "id": "Luxtig0PJWUL"
      }
    },
    {
      "cell_type": "code",
      "source": [
        "%%writefile -a fmmap.c\n",
        "\n",
        "void MAofRewrite(RedisModuleIO *aof, RedisModuleString *key, void *value)\n",
        "{\n",
        "  char buffer[0x200];\n",
        "  MMapObject *obj_ptr = (MMapObject*)value;\n",
        "  RedisModule_EmitAOF(aof, \"MMAP\", \"sc\",key, obj_ptr->file_path);\n",
        "  RedisModule_EmitAOF(aof, \"MCLEAR\", \"ss\", key, obj_ptr->file_path);\n",
        "  for (size_t i = 0; i < obj_ptr->file_size; i += sizeof(double)) {\n",
        "    double value = *(double *)((uint8_t*)obj_ptr->mmap + i);\n",
        "    sprintf(buffer, \"%.16f\", value);\n",
        "    RedisModule_EmitAOF(aof, \"MADD\", \"sbc\", key, buffer);\n",
        "  }\n",
        "}"
      ],
      "metadata": {
        "id": "J1plnkvBIMGI",
        "colab": {
          "base_uri": "https://localhost:8080/"
        },
        "outputId": "d3c6c487-e80f-4f5d-a120-5ce4404f7660"
      },
      "execution_count": 18,
      "outputs": [
        {
          "output_type": "stream",
          "name": "stdout",
          "text": [
            "Appending to fmmap.c\n"
          ]
        }
      ]
    },
    {
      "cell_type": "markdown",
      "source": [
        "Other functions required for Redis modules."
      ],
      "metadata": {
        "id": "c0QvJOQUJhFp"
      }
    },
    {
      "cell_type": "code",
      "source": [
        "%%writefile -a fmmap.c\n",
        "\n",
        "size_t MMemUsage(const void *value)\n",
        "{\n",
        "  const MMapObject *obj_ptr = value;\n",
        "  return obj_ptr->file_size;\n",
        "}\n",
        "\n",
        "void MDigest(RedisModuleDigest *md, void *value)\n",
        "{\n",
        "  REDISMODULE_NOT_USED(md);\n",
        "  REDISMODULE_NOT_USED(value);\n",
        "}"
      ],
      "metadata": {
        "id": "Slx-jCVCIMB7",
        "colab": {
          "base_uri": "https://localhost:8080/"
        },
        "outputId": "128ebe3e-581b-43eb-8e90-56cf2d9cdc7f"
      },
      "execution_count": 19,
      "outputs": [
        {
          "output_type": "stream",
          "name": "stdout",
          "text": [
            "Appending to fmmap.c\n"
          ]
        }
      ]
    },
    {
      "cell_type": "markdown",
      "source": [
        "Macro to create Redis commands"
      ],
      "metadata": {
        "id": "TH3wuPdtJqVR"
      }
    },
    {
      "cell_type": "code",
      "source": [
        "%%writefile -a fmmap.c\n",
        "\n",
        "#define CREATE_CMD(name, tgt, attr, key_pos, key_last)                     \\\n",
        "  do {                                                                     \\\n",
        "    if (RedisModule_CreateCommand(ctx, name, tgt, attr, key_pos, key_last, \\\n",
        "                                  1) != REDISMODULE_OK) {                  \\\n",
        "      return REDISMODULE_ERR;                                              \\\n",
        "    }                                                                      \\\n",
        "  } while (0);\n"
      ],
      "metadata": {
        "id": "JRIuT6kfIL9w",
        "colab": {
          "base_uri": "https://localhost:8080/"
        },
        "outputId": "5a7290d3-ba5a-48db-9ebe-369e405898a3"
      },
      "execution_count": 20,
      "outputs": [
        {
          "output_type": "stream",
          "name": "stdout",
          "text": [
            "Appending to fmmap.c\n"
          ]
        }
      ]
    },
    {
      "cell_type": "markdown",
      "source": [
        "This function is called at module load time to prepare the module. This is where each command is associated with the function that executes it."
      ],
      "metadata": {
        "id": "Lx2d4Pn6Jv6B"
      }
    },
    {
      "cell_type": "code",
      "source": [
        "%%writefile -a fmmap.c\n",
        "\n",
        "int RedisModule_OnLoad(RedisModuleCtx *ctx, RedisModuleString **argv, int argc)\n",
        "{\n",
        "  REDISMODULE_NOT_USED(argv);\n",
        "  REDISMODULE_NOT_USED(argc);\n",
        "\n",
        "  RedisModule_Init(ctx, \"FuchiMMap\", 1, REDISMODULE_APIVER_1);\n",
        "\n",
        "  RedisModuleTypeMethods tm = {.version = REDISMODULE_TYPE_METHOD_VERSION,\n",
        "                               .rdb_load = MRdbLoad,\n",
        "                               .rdb_save = MRdbSave,\n",
        "                               .aof_rewrite = MAofRewrite,\n",
        "                               .mem_usage = MMemUsage,\n",
        "                               .free = MFree,\n",
        "                               .digest = MDigest};\n",
        "\n",
        "  MMapType = RedisModule_CreateDataType(ctx, \"FuchiMMap\", 0, &tm);\n",
        "\n",
        "  // MMAP key file_path\n",
        "  CREATE_CMD(\"MMAP\", MMap_RedisCommand, \"write fast\", 1, 1);\n",
        "\n",
        "  // VCLEAR key\n",
        "  CREATE_CMD(\"VCLEAR\", VClear_RedisCommand, \"write fast\", 1, 1);\n",
        "\n",
        "  // VADD key value [value ...]\n",
        "  CREATE_CMD(\"VADD\", VAdd_RedisCommand, \"write fast\", 1, 1);\n",
        "\n",
        "  // VGET key index\n",
        "  CREATE_CMD(\"VGET\", VGet_RedisCommand, \"readonly fast\", 1, 1);\n",
        "\n",
        "  // VMGET key index [index ...]\n",
        "  CREATE_CMD(\"VMGET\", VMGet_RedisCommand, \"readonly fast\", 1, 1);\n",
        "\n",
        "  // VSET key index value [index value ...]\n",
        "  CREATE_CMD(\"VSET\", VSet_RedisCommand, \"write fast\", 1, 1);\n",
        "\n",
        "  // VCOUNT key\n",
        "  CREATE_CMD(\"VCOUNT\", VCount_RedisCommand, \"readonly fast\", 1, 1);\n",
        "\n",
        "  // VPOP key\n",
        "  CREATE_CMD(\"VPOP\", VPop_RedisCommand, \"write fast\", 1, 1);\n",
        "\n",
        "  return REDISMODULE_OK;\n",
        "}\n"
      ],
      "metadata": {
        "id": "W1IZVhWvILyT",
        "colab": {
          "base_uri": "https://localhost:8080/"
        },
        "outputId": "58915be2-fffa-4717-b3f2-3c84e1ed97b3"
      },
      "execution_count": 21,
      "outputs": [
        {
          "output_type": "stream",
          "name": "stdout",
          "text": [
            "Appending to fmmap.c\n"
          ]
        }
      ]
    },
    {
      "cell_type": "markdown",
      "source": [
        "Makefile for building the source."
      ],
      "metadata": {
        "id": "KX9PHsj8KEiK"
      }
    },
    {
      "cell_type": "code",
      "source": [
        "%%writefile Makefile.fmmap\n",
        "\n",
        "SHOBJ_CFLAGS ?= -W -Wall -fno-common -g -ggdb -std=c99 -O2\n",
        "SHOBJ_LDFLAGS ?= -shared\n",
        "\n",
        ".SUFFIXES: .c .so .xo .o\n",
        "\n",
        "all: fmmap.so\n",
        "\n",
        ".c.xo:\n",
        "\t$(CC) -I. $(CFLAGS) $(SHOBJ_CFLAGS) -fPIC -c $< -o $@\n",
        "\n",
        "fmmap.xo: ../redismodule.h\n",
        "\n",
        "fmmap.so: fmmap.xo\n",
        "\t$(LD) -o $@ $^ $(SHOBJ_LDFLAGS) $(LIBS) -lc\n",
        "\n",
        "clean:\n",
        "\trm -rf *.xo *.so"
      ],
      "metadata": {
        "id": "Ewpiz9DfKMNv",
        "colab": {
          "base_uri": "https://localhost:8080/"
        },
        "outputId": "20416b32-b6c6-4e43-e405-9ec509b283df"
      },
      "execution_count": 22,
      "outputs": [
        {
          "output_type": "stream",
          "name": "stdout",
          "text": [
            "Writing Makefile.fmmap\n"
          ]
        }
      ]
    },
    {
      "cell_type": "markdown",
      "source": [
        "Let's build the module."
      ],
      "metadata": {
        "id": "AJbt_7ubKZSG"
      }
    },
    {
      "cell_type": "code",
      "source": [
        "!make -f Makefile.fmmap\n",
        "!ls fmmap.so"
      ],
      "metadata": {
        "id": "poQmS_hwLLOn",
        "colab": {
          "base_uri": "https://localhost:8080/"
        },
        "outputId": "67ff7d45-cacd-4ebd-d3e3-e75cc21ae222"
      },
      "execution_count": 23,
      "outputs": [
        {
          "output_type": "stream",
          "name": "stdout",
          "text": [
            "cc -I.  -W -Wall -fno-common -g -ggdb -std=c99 -O2 -fPIC -c fmmap.c -o fmmap.xo\n",
            "ld -o fmmap.so fmmap.xo -shared  -lc\n",
            "fmmap.so\n"
          ]
        }
      ]
    },
    {
      "cell_type": "markdown",
      "source": [
        "Install Redis."
      ],
      "metadata": {
        "id": "BdhNej6lLe1j"
      }
    },
    {
      "cell_type": "code",
      "source": [
        "!sudo yes | add-apt-repository ppa:redislabs/redis\n",
        "!sudo apt-get update\n",
        "!sudo apt-get install redis"
      ],
      "metadata": {
        "id": "zOXorISbIiqr"
      },
      "execution_count": null,
      "outputs": []
    },
    {
      "cell_type": "markdown",
      "source": [
        "Write something to the configuration file."
      ],
      "metadata": {
        "id": "mZl8Kr6XKxqz"
      }
    },
    {
      "cell_type": "code",
      "source": [
        "%%writefile -a /etc/redis/redis.conf\n",
        "enable-module-command yes\n",
        "loadmodule /content/redis-stable/src/modules/fmmap.so"
      ],
      "metadata": {
        "id": "cm09QiJ1sbMp",
        "colab": {
          "base_uri": "https://localhost:8080/"
        },
        "outputId": "718f3d66-0733-4619-ed2b-ef1a59f19228"
      },
      "execution_count": 25,
      "outputs": [
        {
          "output_type": "stream",
          "name": "stdout",
          "text": [
            "Appending to /etc/redis/redis.conf\n"
          ]
        }
      ]
    },
    {
      "cell_type": "markdown",
      "source": [
        "Run Redis."
      ],
      "metadata": {
        "id": "peUUvoBuLl_V"
      }
    },
    {
      "cell_type": "code",
      "source": [
        "!service redis-server start"
      ],
      "metadata": {
        "id": "v9LCwn7TM8hl",
        "colab": {
          "base_uri": "https://localhost:8080/"
        },
        "outputId": "2974dd80-d3f2-4320-b93d-e687fe41ab5a"
      },
      "execution_count": 26,
      "outputs": [
        {
          "output_type": "stream",
          "name": "stdout",
          "text": [
            "Starting redis-server: redis-server.\n"
          ]
        }
      ]
    },
    {
      "cell_type": "markdown",
      "source": [
        "Check Redis running."
      ],
      "metadata": {
        "id": "fcEw2fMKWjwE"
      }
    },
    {
      "cell_type": "code",
      "source": [
        "!sleep 1\n",
        "!ps aux | grep redis | grep -v grep"
      ],
      "metadata": {
        "id": "3S5i2-2uYfmL",
        "colab": {
          "base_uri": "https://localhost:8080/"
        },
        "outputId": "b7e73660-edc9-4e87-caa6-c45d67a4763d"
      },
      "execution_count": 27,
      "outputs": [
        {
          "output_type": "stream",
          "name": "stdout",
          "text": [
            "redis       6204  0.0  0.0  59132  6420 ?        Ssl  06:08   0:00 /usr/bin/redis-server 127.0.0.1:6379\n"
          ]
        }
      ]
    },
    {
      "cell_type": "markdown",
      "source": [
        "Prepare the place to write a file."
      ],
      "metadata": {
        "id": "qpEK5VK_Eq4r"
      }
    },
    {
      "cell_type": "code",
      "source": [
        "!mkdir /content/db\n",
        "!chmod 777 /content/db"
      ],
      "metadata": {
        "id": "4TN5fvMSC1Eg"
      },
      "execution_count": 28,
      "outputs": []
    },
    {
      "cell_type": "markdown",
      "source": [
        "Maps a file to db. The return value is a number of values, 0 because it is new."
      ],
      "metadata": {
        "id": "A2oexH4uyBnQ"
      }
    },
    {
      "cell_type": "code",
      "source": [
        "!echo \"MMAP db /content/db/file.mmap\" | redis-cli"
      ],
      "metadata": {
        "id": "nARXq8hgu2-J",
        "colab": {
          "base_uri": "https://localhost:8080/"
        },
        "outputId": "4f62112e-05c1-4444-b46f-3ff9e9183971"
      },
      "execution_count": 29,
      "outputs": [
        {
          "output_type": "stream",
          "name": "stdout",
          "text": [
            "(integer) 0\n"
          ]
        }
      ]
    },
    {
      "cell_type": "markdown",
      "source": [
        "Confirm that the file.mmap file has been created. The file size is still zero."
      ],
      "metadata": {
        "id": "tOOLM-HTyLNx"
      }
    },
    {
      "cell_type": "code",
      "source": [
        "!ls -l /content/db"
      ],
      "metadata": {
        "id": "eqvz2mm1u5db",
        "colab": {
          "base_uri": "https://localhost:8080/"
        },
        "outputId": "1b3de3cb-3f6f-4f5d-d4c6-e8220c3542b3"
      },
      "execution_count": 30,
      "outputs": [
        {
          "output_type": "stream",
          "name": "stdout",
          "text": [
            "total 0\n",
            "-rw-rw---- 1 redis redis 0 Jun 22 06:08 file.mmap\n"
          ]
        }
      ]
    },
    {
      "cell_type": "markdown",
      "source": [
        "Try to add a value. The return value is the number of values added."
      ],
      "metadata": {
        "id": "CeTkpYnpyVaU"
      }
    },
    {
      "cell_type": "code",
      "source": [
        "!echo \"VADD db 0.0\" | redis-cli"
      ],
      "metadata": {
        "id": "nfja4sE7FQ0B",
        "colab": {
          "base_uri": "https://localhost:8080/"
        },
        "outputId": "56c0b986-53f0-451f-fe6f-4f4b9b8aac6a"
      },
      "execution_count": 31,
      "outputs": [
        {
          "output_type": "stream",
          "name": "stdout",
          "text": [
            "(integer) 1\n"
          ]
        }
      ]
    },
    {
      "cell_type": "markdown",
      "source": [
        "You can see that the file size has increased to 8 bytes."
      ],
      "metadata": {
        "id": "0TPMQT9vzmWb"
      }
    },
    {
      "cell_type": "code",
      "source": [
        "!ls -l /content/db"
      ],
      "metadata": {
        "id": "os8Fy8JfFbGy",
        "colab": {
          "base_uri": "https://localhost:8080/"
        },
        "outputId": "1b260859-88a0-453d-9042-1de51795f843"
      },
      "execution_count": 32,
      "outputs": [
        {
          "output_type": "stream",
          "name": "stdout",
          "text": [
            "total 4\n",
            "-rw-rw---- 1 redis redis 8 Jun 22 06:08 file.mmap\n"
          ]
        }
      ]
    },
    {
      "cell_type": "markdown",
      "source": [
        "Write the command to a file and run it."
      ],
      "metadata": {
        "id": "pGaUP_lFzzRZ"
      }
    },
    {
      "cell_type": "code",
      "source": [
        "%%writefile command\n",
        "vadd db 0.1\n",
        "vadd db 0.2\n",
        "vadd db 0.3\n",
        "vadd db 0.4\n",
        "vadd db 0.5\n",
        "vadd db 0.6\n",
        "vadd db 0.7\n",
        "vadd db 0.8\n",
        "vadd db 0.9\n",
        "vcount db"
      ],
      "metadata": {
        "id": "MyvWfynlxdBf",
        "colab": {
          "base_uri": "https://localhost:8080/"
        },
        "outputId": "e4f5d1c3-11f1-402c-dd0a-686b709c225a"
      },
      "execution_count": 33,
      "outputs": [
        {
          "output_type": "stream",
          "name": "stdout",
          "text": [
            "Writing command\n"
          ]
        }
      ]
    },
    {
      "cell_type": "markdown",
      "source": [
        "When you run it, you will see that the number of registrations is 10."
      ],
      "metadata": {
        "id": "0ZO6DMjJz4ni"
      }
    },
    {
      "cell_type": "code",
      "source": [
        "!redis-cli < command"
      ],
      "metadata": {
        "id": "mNdBecvXxvZx",
        "colab": {
          "base_uri": "https://localhost:8080/"
        },
        "outputId": "b5833c50-b73d-4ccd-9b0a-c0ae5b377f7a"
      },
      "execution_count": 34,
      "outputs": [
        {
          "output_type": "stream",
          "name": "stdout",
          "text": [
            "(integer) 1\n",
            "(integer) 1\n",
            "(integer) 1\n",
            "(integer) 1\n",
            "(integer) 1\n",
            "(integer) 1\n",
            "(integer) 1\n",
            "(integer) 1\n",
            "(integer) 1\n",
            "(integer) 10\n"
          ]
        }
      ]
    },
    {
      "cell_type": "markdown",
      "source": [
        "The file has also increased to 80 bytes."
      ],
      "metadata": {
        "id": "apnh5KTw0Lct"
      }
    },
    {
      "cell_type": "code",
      "source": [
        "!ls -l /content/db"
      ],
      "metadata": {
        "id": "GE_39GtVz7uE",
        "colab": {
          "base_uri": "https://localhost:8080/"
        },
        "outputId": "4be6439f-9063-4460-e0fa-fc334eeca4ef"
      },
      "execution_count": 35,
      "outputs": [
        {
          "output_type": "stream",
          "name": "stdout",
          "text": [
            "total 4\n",
            "-rw-rw---- 1 redis redis 80 Jun 22 06:08 file.mmap\n"
          ]
        }
      ]
    },
    {
      "cell_type": "markdown",
      "source": [
        "Multiple additions can be made with a single command. The number of values added is returned."
      ],
      "metadata": {
        "id": "1nbBtz010ZEF"
      }
    },
    {
      "cell_type": "code",
      "source": [
        "!echo \"VADD db 1.0 1.1 1.2 1.3 1.4 1.5\" | redis-cli"
      ],
      "metadata": {
        "id": "JnCsYyn90WEc",
        "colab": {
          "base_uri": "https://localhost:8080/"
        },
        "outputId": "81d84be2-cb7b-4f99-a8e8-9fc7a8530d54"
      },
      "execution_count": 36,
      "outputs": [
        {
          "output_type": "stream",
          "name": "stdout",
          "text": [
            "(integer) 6\n"
          ]
        }
      ]
    },
    {
      "cell_type": "markdown",
      "source": [
        "Let's take out the value."
      ],
      "metadata": {
        "id": "-0D0hLlo0uzD"
      }
    },
    {
      "cell_type": "code",
      "source": [
        "!echo \"VGET db 5\" | redis-cli"
      ],
      "metadata": {
        "id": "mHWSEXkt0x_v",
        "colab": {
          "base_uri": "https://localhost:8080/"
        },
        "outputId": "63d69c98-b497-4278-95aa-ca930f43c6c5"
      },
      "execution_count": 37,
      "outputs": [
        {
          "output_type": "stream",
          "name": "stdout",
          "text": [
            "\"0.5\"\n"
          ]
        }
      ]
    },
    {
      "cell_type": "markdown",
      "source": [
        "If there is more than one, it will look like this. There is an error because of floating point."
      ],
      "metadata": {
        "id": "fQzUqDi805xF"
      }
    },
    {
      "cell_type": "code",
      "source": [
        "!echo \"VMGET db 1 2 3 4 5\" | redis-cli"
      ],
      "metadata": {
        "id": "Bo_3HFgL08Io",
        "colab": {
          "base_uri": "https://localhost:8080/"
        },
        "outputId": "67efd1fa-6511-470b-9e02-994a15f83c0f"
      },
      "execution_count": 38,
      "outputs": [
        {
          "output_type": "stream",
          "name": "stdout",
          "text": [
            "1) \"0.10000000000000001\"\n",
            "2) \"0.20000000000000001\"\n",
            "3) \"0.29999999999999999\"\n",
            "4) \"0.40000000000000002\"\n",
            "5) \"0.5\"\n"
          ]
        }
      ]
    },
    {
      "cell_type": "markdown",
      "source": [
        "You can also change the values: set db[5] to 50, db[10] to 100, etc. The return value of VSET is the number of locations you have changed."
      ],
      "metadata": {
        "id": "vmn6Xb391QrD"
      }
    },
    {
      "cell_type": "code",
      "source": [
        "!echo \"VSET db 5 50 10 100\" | redis-cli\n",
        "!echo \"VMGET db 5 10\" | redis-cli"
      ],
      "metadata": {
        "id": "qFseYFee1YWI",
        "colab": {
          "base_uri": "https://localhost:8080/"
        },
        "outputId": "aef51f6c-f324-4f60-e957-c1887ba27fc8"
      },
      "execution_count": 39,
      "outputs": [
        {
          "output_type": "stream",
          "name": "stdout",
          "text": [
            "(integer) 2\n",
            "1) \"50\"\n",
            "2) \"100\"\n"
          ]
        }
      ]
    },
    {
      "cell_type": "markdown",
      "source": [
        "Extracts and removes the trailing value."
      ],
      "metadata": {
        "id": "v2lFBgKS1yQR"
      }
    },
    {
      "cell_type": "code",
      "source": [
        "!echo \"VCOUNT db\" | redis-cli\n",
        "!echo \"VGET db 15\" | redis-cli\n",
        "!echo \"VPOP db\" | redis-cli\n",
        "!echo \"VCOUNT db\" | redis-cli"
      ],
      "metadata": {
        "id": "-MQxEtwR13a-",
        "colab": {
          "base_uri": "https://localhost:8080/"
        },
        "outputId": "3c4daf54-a9fd-49ae-ca4a-950e9c82963d"
      },
      "execution_count": 40,
      "outputs": [
        {
          "output_type": "stream",
          "name": "stdout",
          "text": [
            "(integer) 16\n",
            "\"1.5\"\n",
            "\"1.5\"\n",
            "(integer) 15\n"
          ]
        }
      ]
    },
    {
      "cell_type": "markdown",
      "source": [
        "Stop and restart Redis."
      ],
      "metadata": {
        "id": "hPQ852ZL2TGo"
      }
    },
    {
      "cell_type": "code",
      "source": [
        "!service redis-server stop\n",
        "!service redis-server start"
      ],
      "metadata": {
        "id": "OqLLdr8QFCXx",
        "colab": {
          "base_uri": "https://localhost:8080/"
        },
        "outputId": "74def1af-4021-4eed-c2f6-1ea603c98883"
      },
      "execution_count": 41,
      "outputs": [
        {
          "output_type": "stream",
          "name": "stdout",
          "text": [
            "Stopping redis-server: redis-server.\n",
            "Starting redis-server: redis-server.\n"
          ]
        }
      ]
    },
    {
      "cell_type": "markdown",
      "source": [
        "The values remain after rebooting."
      ],
      "metadata": {
        "id": "IMvVoe-q2hou"
      }
    },
    {
      "cell_type": "code",
      "source": [
        "!echo \"VCOUNT db\" | redis-cli"
      ],
      "metadata": {
        "id": "AMiagNba2m_Y",
        "colab": {
          "base_uri": "https://localhost:8080/"
        },
        "outputId": "94d39522-522f-44f5-8ecb-71d9556c9d47"
      },
      "execution_count": 42,
      "outputs": [
        {
          "output_type": "stream",
          "name": "stdout",
          "text": [
            "(integer) 15\n"
          ]
        }
      ]
    },
    {
      "cell_type": "markdown",
      "source": [
        "If you delete the db, you can re-map it and get the values since the file is still in its original state."
      ],
      "metadata": {
        "id": "OFmIl2Ja2_pT"
      }
    },
    {
      "cell_type": "code",
      "source": [
        "!echo \"KEYS *\" | redis-cli\n",
        "!echo \"DEL db\" | redis-cli\n",
        "!echo \"KEYS *\" | redis-cli\n",
        "!ls -l /content/db/\n",
        "!echo \"MMAP dba /content/db/file.mmap\" | redis-cli\n",
        "!echo \"VGET dba 5\" | redis-cli"
      ],
      "metadata": {
        "id": "JWvibGHQ3QWe",
        "colab": {
          "base_uri": "https://localhost:8080/"
        },
        "outputId": "bc697921-505e-41ae-c2a0-6289a3366d88"
      },
      "execution_count": 43,
      "outputs": [
        {
          "output_type": "stream",
          "name": "stdout",
          "text": [
            "1) \"db\"\n",
            "(integer) 1\n",
            "(empty array)\n",
            "total 4\n",
            "-rw-rw---- 1 redis redis 120 Jun 22 06:08 file.mmap\n",
            "(integer) 15\n",
            "\"50\"\n"
          ]
        }
      ]
    },
    {
      "cell_type": "markdown",
      "source": [
        "To clear the contents, do this."
      ],
      "metadata": {
        "id": "UNg5Sr_d2te_"
      }
    },
    {
      "cell_type": "code",
      "source": [
        "!echo \"VCLEAR dba\" | redis-cli\n",
        "!echo \"VCOUNT dba\" | redis-cli"
      ],
      "metadata": {
        "id": "YBqap1Qg23zS",
        "colab": {
          "base_uri": "https://localhost:8080/"
        },
        "outputId": "df24c6d4-6866-4fe0-ab05-d89c7f8bd5d3"
      },
      "execution_count": 44,
      "outputs": [
        {
          "output_type": "stream",
          "name": "stdout",
          "text": [
            "(integer) 15\n",
            "(integer) 0\n"
          ]
        }
      ]
    },
    {
      "cell_type": "markdown",
      "source": [
        "The size of the file will be zero."
      ],
      "metadata": {
        "id": "ydYdUPRL4FId"
      }
    },
    {
      "cell_type": "code",
      "source": [
        "!ls -l /content/db/"
      ],
      "metadata": {
        "id": "MKeFGrCd4I17",
        "colab": {
          "base_uri": "https://localhost:8080/"
        },
        "outputId": "bb8d6e2f-377b-47c2-db70-68daa7e9e7f5"
      },
      "execution_count": 45,
      "outputs": [
        {
          "output_type": "stream",
          "name": "stdout",
          "text": [
            "total 0\n",
            "-rw-rw---- 1 redis redis 0 Jun 22 06:08 file.mmap\n"
          ]
        }
      ]
    },
    {
      "cell_type": "markdown",
      "source": [
        "Delete dba."
      ],
      "metadata": {
        "id": "IzIRyM4S43lO"
      }
    },
    {
      "cell_type": "code",
      "source": [
        "!echo \"DEL dba\" | redis-cli"
      ],
      "metadata": {
        "id": "J4N7bZom4_r9",
        "colab": {
          "base_uri": "https://localhost:8080/"
        },
        "outputId": "ebe23791-e120-4e40-9c99-4c038671c7e2"
      },
      "execution_count": 46,
      "outputs": [
        {
          "output_type": "stream",
          "name": "stdout",
          "text": [
            "(integer) 1\n"
          ]
        }
      ]
    },
    {
      "cell_type": "markdown",
      "source": [
        "Create a file with 100 doubles written in Python."
      ],
      "metadata": {
        "id": "R50Nx0Bz6gHF"
      }
    },
    {
      "cell_type": "code",
      "source": [
        "import struct\n",
        "with open('/content/db/file.mmap', 'wb') as fout:\n",
        "    for i in range(100):\n",
        "        fout.write(struct.pack('d', i))"
      ],
      "metadata": {
        "id": "EpDrnwRp6Pk4"
      },
      "execution_count": 47,
      "outputs": []
    },
    {
      "cell_type": "markdown",
      "source": [
        "Map the file and check the contents."
      ],
      "metadata": {
        "id": "jGQiW41k7vpH"
      }
    },
    {
      "cell_type": "code",
      "source": [
        "!echo \"mmap db /content/db/file.mmap\" | redis-cli\n",
        "!echo \"vcount db\" | redis-cli\n",
        "!echo \"vmget db 1 3 5 7 9\" | redis-cli"
      ],
      "metadata": {
        "id": "UC4DM6nu73XU",
        "colab": {
          "base_uri": "https://localhost:8080/"
        },
        "outputId": "3b87a13b-0767-4c45-f07d-eb5abf8e0191"
      },
      "execution_count": 48,
      "outputs": [
        {
          "output_type": "stream",
          "name": "stdout",
          "text": [
            "(integer) 100\n",
            "(integer) 100\n",
            "1) \"1\"\n",
            "2) \"3\"\n",
            "3) \"5\"\n",
            "4) \"7\"\n",
            "5) \"9\"\n"
          ]
        }
      ]
    },
    {
      "cell_type": "markdown",
      "source": [
        "Stop Redis. No redis-server remains."
      ],
      "metadata": {
        "id": "0toc4ufT5OMd"
      }
    },
    {
      "cell_type": "code",
      "source": [
        "!echo \"shutdown\" | redis-cli\n",
        "!sleep 1\n",
        "!ps aux | grep redis"
      ],
      "metadata": {
        "id": "1lX1B2fV5NMa",
        "colab": {
          "base_uri": "https://localhost:8080/"
        },
        "outputId": "a60e1262-0034-441a-b4d0-51b74d8ad81c"
      },
      "execution_count": 49,
      "outputs": [
        {
          "output_type": "stream",
          "name": "stdout",
          "text": [
            "root        6347  0.0  0.0   6904  3284 ?        S    06:08   0:00 /bin/bash -c ps aux | grep redis\n",
            "root        6349  0.0  0.0   6444   728 ?        S    06:08   0:00 grep redis\n"
          ]
        }
      ]
    },
    {
      "cell_type": "markdown",
      "source": [
        "The file remains."
      ],
      "metadata": {
        "id": "wwTBl6yT9IiG"
      }
    },
    {
      "cell_type": "code",
      "source": [
        "!ls -l /content/db"
      ],
      "metadata": {
        "id": "u6haGmqX9LfH",
        "colab": {
          "base_uri": "https://localhost:8080/"
        },
        "outputId": "6ccce7c4-843a-4183-efe2-999ba33abbf4"
      },
      "execution_count": 50,
      "outputs": [
        {
          "output_type": "stream",
          "name": "stdout",
          "text": [
            "total 4\n",
            "-rw-rw---- 1 redis redis 800 Jun 22 06:08 file.mmap\n"
          ]
        }
      ]
    },
    {
      "cell_type": "markdown",
      "source": [
        "That is all."
      ],
      "metadata": {
        "id": "iTiup4Nb57jO"
      }
    }
  ]
}