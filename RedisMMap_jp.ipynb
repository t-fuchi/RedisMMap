{
  "nbformat": 4,
  "nbformat_minor": 0,
  "metadata": {
    "colab": {
      "provenance": [],
      "authorship_tag": "ABX9TyNVrsDXmUkJi6EDZMg0dJ4+",
      "include_colab_link": true
    },
    "kernelspec": {
      "name": "python3",
      "display_name": "Python 3"
    },
    "language_info": {
      "name": "python"
    }
  },
  "cells": [
    {
      "cell_type": "markdown",
      "metadata": {
        "id": "view-in-github",
        "colab_type": "text"
      },
      "source": [
        "<a href=\"https://colab.research.google.com/github/t-fuchi/RedisMMap/blob/main/RedisMMap_jp.ipynb\" target=\"_parent\"><img src=\"https://colab.research.google.com/assets/colab-badge.svg\" alt=\"Open In Colab\"/></a>"
      ]
    },
    {
      "cell_type": "markdown",
      "source": [
        "## Redisでmmapしたファイルから値を読み込むモジュールをGoogle Colabで作ってみた\n",
        "\n",
        "Redisでは既存のファイルを読み込む機能が見当たりません。（寡聞にして知らないだけかもしれないので、知っていたら教えてください。）そこで、doubleの値を書き込んだファイルをmmapでマップして、そこから指定した位置の値を読み書きするモジュールを作ってみました。左上のボタンからColabを開いてセルを順に実行するだけで試せるようコードの全量を記載しています。Redisのモジュールの作り方としても参考にしてください。\n",
        "\n",
        "\n",
        "\n",
        "\n"
      ],
      "metadata": {
        "id": "ebmIZkYT-Buz"
      }
    },
    {
      "cell_type": "markdown",
      "source": [
        "このモジュールを導入するとRedisで以下のコマンドが使えるようになります。\n",
        "\n",
        "```\n",
        "// file_pathにあるファイルをkeyに結びつける\n",
        "MMAP key file_path\n",
        "\n",
        "// keyからindex位置にある値を取得する\n",
        "VGET key index\n",
        "\n",
        "// keyから複数のindex位置にある値を取得する\n",
        "VMGET key index [index ...]\n",
        "\n",
        "// keyのindex位置に値を書き込む\n",
        "VSET key index value [index value ...]\n",
        "\n",
        "// keyにvalueを追加する\n",
        "VADD key value [value ...]\n",
        "\n",
        "// keyの最後の値を取得して削除する\n",
        "VPOP key\n",
        "\n",
        "// keyの値の数を取得する\n",
        "VCOUNT key\n",
        "\n",
        "// keyの内容を消去する\n",
        "VCLEAR key\n",
        "```\n"
      ],
      "metadata": {
        "id": "g-9lzZd16X0s"
      }
    },
    {
      "cell_type": "markdown",
      "source": [
        "まずはRedisのソースを取得して、モジュールのディレクトリに移動します。"
      ],
      "metadata": {
        "id": "B4dFblMVqWtf"
      }
    },
    {
      "cell_type": "code",
      "source": [
        "%cd /content\n",
        "!wget https://download.redis.io/redis-stable.tar.gz\n",
        "!tar -xzf redis-stable.tar.gz\n",
        "%cd /content/redis-stable/src/modules"
      ],
      "metadata": {
        "id": "Nm5oZ6X99ZoE",
        "colab": {
          "base_uri": "https://localhost:8080/"
        },
        "outputId": "45c2732a-28f6-46c1-b19a-afde2b9c9c03"
      },
      "execution_count": 1,
      "outputs": [
        {
          "output_type": "stream",
          "name": "stdout",
          "text": [
            "/content\n",
            "--2023-06-22 06:05:23--  https://download.redis.io/redis-stable.tar.gz\n",
            "Resolving download.redis.io (download.redis.io)... 45.60.121.1\n",
            "Connecting to download.redis.io (download.redis.io)|45.60.121.1|:443... connected.\n",
            "HTTP request sent, awaiting response... 200 OK\n",
            "Length: 3068843 (2.9M) [application/octet-stream]\n",
            "Saving to: ‘redis-stable.tar.gz’\n",
            "\n",
            "redis-stable.tar.gz 100%[===================>]   2.93M  13.6MB/s    in 0.2s    \n",
            "\n",
            "2023-06-22 06:05:23 (13.6 MB/s) - ‘redis-stable.tar.gz’ saved [3068843/3068843]\n",
            "\n",
            "/content/redis-stable/src/modules\n"
          ]
        }
      ]
    },
    {
      "cell_type": "markdown",
      "source": [
        "試しにサンプルのコードをmakeしてみましょう。"
      ],
      "metadata": {
        "id": "GbrJk1f_q0wU"
      }
    },
    {
      "cell_type": "code",
      "source": [
        "!make"
      ],
      "metadata": {
        "id": "GonTC3A3qs4E",
        "colab": {
          "base_uri": "https://localhost:8080/"
        },
        "outputId": "949a5b6d-da39-41cc-842c-8abd4a5df2e6"
      },
      "execution_count": 2,
      "outputs": [
        {
          "output_type": "stream",
          "name": "stdout",
          "text": [
            "cc -I.  -W -Wall -fno-common -g -ggdb -std=c99 -O2 -fPIC -c helloworld.c -o helloworld.xo\n",
            "ld -o helloworld.so helloworld.xo -shared  -lc\n",
            "cc -I.  -W -Wall -fno-common -g -ggdb -std=c99 -O2 -fPIC -c hellotype.c -o hellotype.xo\n",
            "ld -o hellotype.so hellotype.xo -shared  -lc\n",
            "cc -I.  -W -Wall -fno-common -g -ggdb -std=c99 -O2 -fPIC -c helloblock.c -o helloblock.xo\n",
            "ld -o helloblock.so helloblock.xo -shared  -lpthread -lc\n",
            "cc -I.  -W -Wall -fno-common -g -ggdb -std=c99 -O2 -fPIC -c hellocluster.c -o hellocluster.xo\n",
            "ld -o hellocluster.so hellocluster.xo -shared  -lc\n",
            "cc -I.  -W -Wall -fno-common -g -ggdb -std=c99 -O2 -fPIC -c hellotimer.c -o hellotimer.xo\n",
            "ld -o hellotimer.so hellotimer.xo -shared  -lc\n",
            "cc -I.  -W -Wall -fno-common -g -ggdb -std=c99 -O2 -fPIC -c hellodict.c -o hellodict.xo\n",
            "ld -o hellodict.so hellodict.xo -shared  -lc\n",
            "cc -I.  -W -Wall -fno-common -g -ggdb -std=c99 -O2 -fPIC -c hellohook.c -o hellohook.xo\n",
            "ld -o hellohook.so hellohook.xo -shared  -lc\n",
            "cc -I.  -W -Wall -fno-common -g -ggdb -std=c99 -O2 -fPIC -c helloacl.c -o helloacl.xo\n",
            "ld -o helloacl.so helloacl.xo -shared  -lc\n"
          ]
        }
      ]
    },
    {
      "cell_type": "markdown",
      "source": [
        "モジュールの.soファイルができたか確認します。"
      ],
      "metadata": {
        "id": "FZ1UUofWrJwU"
      }
    },
    {
      "cell_type": "code",
      "source": [
        "!ls *.so"
      ],
      "metadata": {
        "id": "xjCItXs-rA0p",
        "colab": {
          "base_uri": "https://localhost:8080/"
        },
        "outputId": "8fcdd88e-ea7c-4bff-be83-799842c84d2d"
      },
      "execution_count": 3,
      "outputs": [
        {
          "output_type": "stream",
          "name": "stdout",
          "text": [
            "helloacl.so    hellocluster.so\thellohook.so   hellotype.so\n",
            "helloblock.so  hellodict.so\thellotimer.so  helloworld.so\n"
          ]
        }
      ]
    },
    {
      "cell_type": "markdown",
      "source": [
        "それではfmmap.cにコードを書いていきましょう。読み書きする値はdoubleです。なおコードを見やすくするためにエラー処理は省いています。お試しになる場合は意地悪なコマンドを投入しないようお願いします😏\n",
        "\n",
        "また、[こちら](https://github.com/t-fuchi/RedisMMap)で公開しているコードでは読み書きする値の型を選べるようになっていて、エラー処理も完備しております。\n",
        "\n"
      ],
      "metadata": {
        "id": "H4BhZSz1SWfJ"
      }
    },
    {
      "cell_type": "markdown",
      "source": [
        "最初に必要なヘッダーのインクルードです。便利マクロも定義します。"
      ],
      "metadata": {
        "id": "xAskK-woHPFi"
      }
    },
    {
      "cell_type": "code",
      "source": [
        "%%writefile fmmap.c\n",
        "\n",
        "#pragma GCC diagnostic ignored \"-Wunused-parameter\"\n",
        "\n",
        "#include <sys/mman.h>\n",
        "#include <sys/stat.h>\n",
        "#include <sys/types.h>\n",
        "#include <fcntl.h>\n",
        "#include <unistd.h>\n",
        "#include <stdbool.h>\n",
        "#include <stdint.h>\n",
        "#include <strings.h>\n",
        "#include <string.h>\n",
        "\n",
        "#include \"../redismodule.h\"\n",
        "#include \"../sds.h\"\n",
        "#include \"../zmalloc.h\"\n",
        "\n",
        "// (RedisModuleString *)と(char *)を比較するマクロ\n",
        "static inline int mstringcmp(const RedisModuleString *rs1, const char *s2)\n",
        "{\n",
        "  return strcasecmp(RedisModule_StringPtrLen(rs1, NULL), s2);\n",
        "}\n",
        "\n",
        "int ftruncate(int fildes, off_t length); // unistd.hにあるはずだがwarningが出るので"
      ],
      "metadata": {
        "id": "B6i-T3MW-nrR",
        "colab": {
          "base_uri": "https://localhost:8080/"
        },
        "outputId": "eeb9c24e-fad5-4820-816f-c89487eae7b2"
      },
      "execution_count": 4,
      "outputs": [
        {
          "output_type": "stream",
          "name": "stdout",
          "text": [
            "Writing fmmap.c\n"
          ]
        }
      ]
    },
    {
      "cell_type": "markdown",
      "source": [
        "MMapObjectを定義します。mmapに必要な情報を詰め込みました。sdsはRedis内で使われる文字列型です。"
      ],
      "metadata": {
        "id": "z3eP1F0NRsM9"
      }
    },
    {
      "cell_type": "code",
      "source": [
        "%%writefile -a fmmap.c\n",
        "\n",
        "typedef struct _MMapObject\n",
        "{\n",
        "  sds file_path;\n",
        "  int fd;\n",
        "  void *mmap;\n",
        "  size_t file_size;\n",
        "} MMapObject;"
      ],
      "metadata": {
        "id": "By7VHi5OQwnT",
        "colab": {
          "base_uri": "https://localhost:8080/"
        },
        "outputId": "dcbd5719-22b1-4ace-d893-e636e7f1ccec"
      },
      "execution_count": 5,
      "outputs": [
        {
          "output_type": "stream",
          "name": "stdout",
          "text": [
            "Appending to fmmap.c\n"
          ]
        }
      ]
    },
    {
      "cell_type": "markdown",
      "source": [
        "MMap型を保持する変数と、MMapObjectを生成する関数です。"
      ],
      "metadata": {
        "id": "4CnFC1zb4uTN"
      }
    },
    {
      "cell_type": "code",
      "source": [
        "%%writefile -a fmmap.c\n",
        "\n",
        "RedisModuleType *MMapType = NULL; // MMap型を保持する変数\n",
        "\n",
        "// MMapObjectの生成\n",
        "MMapObject *MCreateObject(void)\n",
        "{\n",
        "  return (MMapObject *)zcalloc(sizeof(MMapObject));\n",
        "}"
      ],
      "metadata": {
        "id": "cU2hBwwSRMUC",
        "colab": {
          "base_uri": "https://localhost:8080/"
        },
        "outputId": "2e41a42a-cee9-401b-849a-62813764910d"
      },
      "execution_count": 6,
      "outputs": [
        {
          "output_type": "stream",
          "name": "stdout",
          "text": [
            "Appending to fmmap.c\n"
          ]
        }
      ]
    },
    {
      "cell_type": "markdown",
      "source": [
        "MMapObjectを解放する関数です。"
      ],
      "metadata": {
        "id": "An1byHFs4_VM"
      }
    },
    {
      "cell_type": "code",
      "source": [
        "%%writefile -a fmmap.c\n",
        "\n",
        "// MMapObjectの解放\n",
        "void MFree(void *value)\n",
        "{\n",
        "  if (value == NULL) return;\n",
        "  const MMapObject *obj_ptr = value;\n",
        "  if (obj_ptr->mmap != NULL) munmap(obj_ptr->mmap, obj_ptr->file_size);\n",
        "  if (obj_ptr->fd != -1) close(obj_ptr->fd);\n",
        "  sdsfree(obj_ptr->file_path);\n",
        "  zfree(value);\n",
        "}"
      ],
      "metadata": {
        "id": "QFQzTrztRBrY",
        "colab": {
          "base_uri": "https://localhost:8080/"
        },
        "outputId": "b06cbf09-6aa0-4ea6-e542-5348fc736c8b"
      },
      "execution_count": 7,
      "outputs": [
        {
          "output_type": "stream",
          "name": "stdout",
          "text": [
            "Appending to fmmap.c\n"
          ]
        }
      ]
    },
    {
      "cell_type": "markdown",
      "source": [
        "file_pathで指定したファイルをkeyにマッピングする関数です。"
      ],
      "metadata": {
        "id": "W62Dcs095TtN"
      }
    },
    {
      "cell_type": "code",
      "source": [
        "%%writefile -a fmmap.c\n",
        "\n",
        "// MMAP key file_path\n",
        "int MMap_RedisCommand(RedisModuleCtx *ctx, RedisModuleString **argv, int argc)\n",
        "{\n",
        "  RedisModule_AutoMemory(ctx); /* Use automatic memory management. */\n",
        "\n",
        "  if (argc != 3) return RedisModule_WrongArity(ctx);\n",
        "\n",
        "  RedisModuleKey *key = RedisModule_OpenKey(ctx, argv[1], REDISMODULE_READ | REDISMODULE_WRITE);\n",
        "\n",
        "  // keyの型を確認する\n",
        "  int type = RedisModule_KeyType(key);\n",
        "  if (type != REDISMODULE_KEYTYPE_EMPTY &&\n",
        "      RedisModule_ModuleTypeGetType(key) != MMapType) {\n",
        "    return RedisModule_ReplyWithError(ctx, REDISMODULE_ERRORMSG_WRONGTYPE);\n",
        "  }\n",
        "\n",
        "  // keyが空なら新たに作成してmmapする\n",
        "  MMapObject *obj_ptr;\n",
        "  if (type == REDISMODULE_KEYTYPE_EMPTY) {\n",
        "    obj_ptr = MCreateObject();\n",
        "    obj_ptr->file_path = sdsnew(RedisModule_StringPtrLen(argv[2], NULL));\n",
        "    obj_ptr->fd = open(obj_ptr->file_path, O_RDWR | O_CREAT, 0666);\n",
        "    if (obj_ptr->fd == -1) {\n",
        "        MFree(obj_ptr);\n",
        "        return RedisModule_ReplyWithError(ctx, sdsnew(RedisModule_StringPtrLen(argv[2], NULL)));\n",
        "    }\n",
        "\n",
        "    struct stat sb;\n",
        "    fstat(obj_ptr->fd, &sb);\n",
        "    obj_ptr->file_size = sb.st_size;\n",
        "    obj_ptr->mmap = mmap(NULL, sb.st_size, PROT_READ | PROT_WRITE, MAP_SHARED, obj_ptr->fd, 0);\n",
        "    RedisModule_ModuleTypeSetValue(key, MMapType, obj_ptr);\n",
        "  }\n",
        "  // 既存のkeyがある場合は同一性を確認する\n",
        "  else {\n",
        "    obj_ptr = RedisModule_ModuleTypeGetValue(key);\n",
        "    if (obj_ptr == NULL) {\n",
        "      RedisModule_ReplyWithNull(ctx);\n",
        "      return REDISMODULE_ERR;\n",
        "    }\n",
        "    // 既存のファイルと異なる場合はエラー\n",
        "    if (strcmp(obj_ptr->file_path, RedisModule_StringPtrLen(argv[2], NULL)) != 0) {\n",
        "      return RedisModule_ReplyWithError(ctx, \"It is already mapped on another file.\");\n",
        "    }\n",
        "  }\n",
        "\n",
        "  return RedisModule_ReplyWithLongLong(ctx, obj_ptr->file_size / sizeof(double));\n",
        "}\n"
      ],
      "metadata": {
        "id": "83ef-t0O_S64",
        "colab": {
          "base_uri": "https://localhost:8080/"
        },
        "outputId": "d7679e70-7c16-4bd4-85f8-b8044ef3cd7a"
      },
      "execution_count": 8,
      "outputs": [
        {
          "output_type": "stream",
          "name": "stdout",
          "text": [
            "Appending to fmmap.c\n"
          ]
        }
      ]
    },
    {
      "cell_type": "markdown",
      "source": [
        "indexで指定する位置の値を取得する関数です。"
      ],
      "metadata": {
        "id": "obybK8RaF5FC"
      }
    },
    {
      "cell_type": "code",
      "source": [
        "%%writefile -a fmmap.c\n",
        "\n",
        "// VGET key index\n",
        "int VGet_RedisCommand(RedisModuleCtx *ctx, RedisModuleString **argv, int argc)\n",
        "{\n",
        "  RedisModule_AutoMemory(ctx); /* Use automatic memory management. */\n",
        "\n",
        "  RedisModuleKey *key =\n",
        "    RedisModule_OpenKey(ctx, argv[1], REDISMODULE_READ | REDISMODULE_WRITE);\n",
        "\n",
        "  long long index;\n",
        "  RedisModule_StringToLongLong(argv[2], &index);\n",
        "\n",
        "  MMapObject *obj_ptr = RedisModule_ModuleTypeGetValue(key);\n",
        "\n",
        "  // indexが範囲外ならNullを返す\n",
        "  if (obj_ptr->file_size <= (size_t)index * sizeof(double) || index < 0) {\n",
        "    RedisModule_ReplyWithNull(ctx);\n",
        "  }\n",
        "  // mmap[index]を返す\n",
        "  else {\n",
        "    RedisModule_ReplyWithDouble(ctx, ((double*)obj_ptr->mmap)[index]);\n",
        "  }\n",
        "  return REDISMODULE_OK;\n",
        "}"
      ],
      "metadata": {
        "id": "Mgn3mC5f_csU",
        "colab": {
          "base_uri": "https://localhost:8080/"
        },
        "outputId": "d6801b23-0ee0-456e-c1a8-7bbe8e034f20"
      },
      "execution_count": 9,
      "outputs": [
        {
          "output_type": "stream",
          "name": "stdout",
          "text": [
            "Appending to fmmap.c\n"
          ]
        }
      ]
    },
    {
      "cell_type": "markdown",
      "source": [
        "複数のindexで示した位置の値を取得する関数です。"
      ],
      "metadata": {
        "id": "NOHacZDkH3i1"
      }
    },
    {
      "cell_type": "code",
      "source": [
        "%%writefile -a fmmap.c\n",
        "\n",
        "// VMGET key index [index ...]\n",
        "int VMGet_RedisCommand(RedisModuleCtx *ctx, RedisModuleString **argv, int argc)\n",
        "{\n",
        "  RedisModule_AutoMemory(ctx); /* Use automatic memory management. */\n",
        "\n",
        "  RedisModuleKey *key =\n",
        "      RedisModule_OpenKey(ctx, argv[1], REDISMODULE_READ | REDISMODULE_WRITE);\n",
        "\n",
        "  MMapObject *obj_ptr = RedisModule_ModuleTypeGetValue(key);\n",
        "\n",
        "  RedisModule_ReplyWithArray(ctx, argc - 2);\n",
        "  for (int i = 2; i < argc; i++) {\n",
        "    long long index;\n",
        "    RedisModule_StringToLongLong(argv[i], &index);\n",
        "    // indexが範囲外ならNullを返す\n",
        "    if (obj_ptr->file_size <= (size_t)index * sizeof(double) || index < 0) {\n",
        "      RedisModule_ReplyWithNull(ctx);\n",
        "    }\n",
        "    // mmap[index]を返す\n",
        "    else {\n",
        "      RedisModule_ReplyWithDouble(ctx, ((double*)obj_ptr->mmap)[index]);\n",
        "    }\n",
        "  }\n",
        "  return REDISMODULE_OK;\n",
        "}"
      ],
      "metadata": {
        "id": "qmGUc1OQEq2Y",
        "colab": {
          "base_uri": "https://localhost:8080/"
        },
        "outputId": "54375936-9ddd-4d61-b67f-f25b9ea83875"
      },
      "execution_count": 10,
      "outputs": [
        {
          "output_type": "stream",
          "name": "stdout",
          "text": [
            "Appending to fmmap.c\n"
          ]
        }
      ]
    },
    {
      "cell_type": "markdown",
      "source": [
        "indexで示した位置に値を書き込む関数です。"
      ],
      "metadata": {
        "id": "9mjKa47pIIP8"
      }
    },
    {
      "cell_type": "code",
      "source": [
        "%%writefile -a fmmap.c\n",
        "\n",
        "// VSET key index value [index value ...]\n",
        "int VSet_RedisCommand(RedisModuleCtx *ctx, RedisModuleString **argv, int argc)\n",
        "{\n",
        "  RedisModule_AutoMemory(ctx); /* Use automatic memory management. */\n",
        "\n",
        "  RedisModuleKey *key =\n",
        "      RedisModule_OpenKey(ctx, argv[1], REDISMODULE_READ | REDISMODULE_WRITE);\n",
        "\n",
        "  MMapObject *obj_ptr = RedisModule_ModuleTypeGetValue(key);\n",
        "\n",
        "  long long index;\n",
        "  double value;\n",
        "  // 書き込む値の型を確認する\n",
        "  for (int i = 3; i < argc; i += 2) {\n",
        "    if (RedisModule_StringToDouble(argv[i], &value) == REDISMODULE_ERR) {\n",
        "      return RedisModule_ReplyWithError(ctx, \"value must be double.\");\n",
        "    }\n",
        "  }\n",
        "  int n_factors = 0;  // 書き込めた要素の数を保持する変数\n",
        "  // mmap[index]に値を書き込む\n",
        "  for (int i = 2; i < argc; i += 2) {\n",
        "    RedisModule_StringToLongLong(argv[i], &index);\n",
        "    // indexが範囲内の時のみ書き込む\n",
        "    if (0 <= index && (size_t)index * sizeof(double) < obj_ptr->file_size) {\n",
        "      RedisModule_StringToDouble(argv[i + 1], &value);\n",
        "      ((double*)obj_ptr->mmap)[index] = (double)value;\n",
        "      ++n_factors;\n",
        "    }\n",
        "  }\n",
        "  // 書き込んだ回数を返す\n",
        "  return RedisModule_ReplyWithLongLong(ctx, n_factors);\n",
        "}\n"
      ],
      "metadata": {
        "id": "Swxnzf28Fcw0",
        "colab": {
          "base_uri": "https://localhost:8080/"
        },
        "outputId": "37709062-ae4c-4a26-c89d-128f335dffb9"
      },
      "execution_count": 11,
      "outputs": [
        {
          "output_type": "stream",
          "name": "stdout",
          "text": [
            "Appending to fmmap.c\n"
          ]
        }
      ]
    },
    {
      "cell_type": "markdown",
      "source": [
        "ファイルの末尾に値を追加する関数です。"
      ],
      "metadata": {
        "id": "um_u2SLXIPcT"
      }
    },
    {
      "cell_type": "code",
      "source": [
        "%%writefile -a fmmap.c\n",
        "\n",
        "// VADD key value [value ...]\n",
        "int VAdd_RedisCommand(RedisModuleCtx *ctx, RedisModuleString **argv, int argc)\n",
        "{\n",
        "  RedisModule_AutoMemory(ctx); /* Use automatic memory management. */\n",
        "\n",
        "  RedisModuleKey *key =\n",
        "      RedisModule_OpenKey(ctx, argv[1], REDISMODULE_READ | REDISMODULE_WRITE);\n",
        "\n",
        "  MMapObject *obj_ptr = RedisModule_ModuleTypeGetValue(key);\n",
        "  double value;\n",
        "  // 追加する値の型を確認する\n",
        "  for (int i = 2; i < argc; ++i) {\n",
        "    if (RedisModule_StringToDouble(argv[i], &value) == REDISMODULE_ERR) {\n",
        "      return RedisModule_ReplyWithError(ctx, \"value must be double.\");\n",
        "    }\n",
        "  }\n",
        "  // mmapを拡張して書き込む\n",
        "  size_t new_size = obj_ptr->file_size + sizeof(double) * (argc - 2);\n",
        "  ftruncate(obj_ptr->fd, new_size);\n",
        "  munmap(obj_ptr->mmap, obj_ptr->file_size);\n",
        "  obj_ptr->mmap = mmap(NULL, new_size, PROT_READ | PROT_WRITE, MAP_SHARED, obj_ptr->fd, 0);\n",
        "  for (int i = 2; i < argc; ++i) {\n",
        "    size_t index = obj_ptr->file_size / sizeof(double);\n",
        "    RedisModule_StringToDouble(argv[i], &value);\n",
        "    obj_ptr->file_size += sizeof(double);\n",
        "    ((double*)obj_ptr->mmap)[index] = (double)value;\n",
        "  }\n",
        "\n",
        "  // 書き込んだ要素の数を返す\n",
        "  return RedisModule_ReplyWithLongLong(ctx, argc - 2);\n",
        "}"
      ],
      "metadata": {
        "id": "fdhi9xNIGqdI",
        "colab": {
          "base_uri": "https://localhost:8080/"
        },
        "outputId": "5d2cf5c9-6760-4197-b3ec-e84e5a5b327b"
      },
      "execution_count": 12,
      "outputs": [
        {
          "output_type": "stream",
          "name": "stdout",
          "text": [
            "Appending to fmmap.c\n"
          ]
        }
      ]
    },
    {
      "cell_type": "markdown",
      "source": [
        "ファイルに含まれる値の数を取得する関数です。"
      ],
      "metadata": {
        "id": "EYyiyPTfIWRv"
      }
    },
    {
      "cell_type": "code",
      "source": [
        "%%writefile -a fmmap.c\n",
        "\n",
        "// VCOUNT key\n",
        "int VCount_RedisCommand(RedisModuleCtx *ctx, RedisModuleString **argv, int argc)\n",
        "{\n",
        "  RedisModule_AutoMemory(ctx); /* Use automatic memory management. */\n",
        "\n",
        "  RedisModuleKey *key =\n",
        "      RedisModule_OpenKey(ctx, argv[1], REDISMODULE_READ | REDISMODULE_WRITE);\n",
        "\n",
        "  MMapObject *obj_ptr = RedisModule_ModuleTypeGetValue(key);\n",
        "\n",
        "  return RedisModule_ReplyWithLongLong(ctx, obj_ptr->file_size / sizeof(double));\n",
        "}"
      ],
      "metadata": {
        "id": "SBDuwxJzHL26",
        "colab": {
          "base_uri": "https://localhost:8080/"
        },
        "outputId": "edfca0cb-a1fd-4f4e-87c5-f66ff4ffbafb"
      },
      "execution_count": 13,
      "outputs": [
        {
          "output_type": "stream",
          "name": "stdout",
          "text": [
            "Appending to fmmap.c\n"
          ]
        }
      ]
    },
    {
      "cell_type": "markdown",
      "source": [
        "ファイルの内容を消去する関数です。"
      ],
      "metadata": {
        "id": "kYA2EaImIeeJ"
      }
    },
    {
      "cell_type": "code",
      "source": [
        "%%writefile -a fmmap.c\n",
        "\n",
        "// VCLEAR key\n",
        "int VClear_RedisCommand(RedisModuleCtx *ctx, RedisModuleString **argv, int argc)\n",
        "{\n",
        "  RedisModule_AutoMemory(ctx); /* Use automatic memory management. */\n",
        "\n",
        "  RedisModuleKey *key =\n",
        "      RedisModule_OpenKey(ctx, argv[1], REDISMODULE_READ | REDISMODULE_WRITE);\n",
        "\n",
        "  MMapObject *obj_ptr = RedisModule_ModuleTypeGetValue(key);\n",
        "\n",
        "  munmap(obj_ptr->mmap, obj_ptr->file_size);\n",
        "  ftruncate(obj_ptr->fd, 0);\n",
        "  obj_ptr->mmap = mmap(NULL, 0, PROT_READ | PROT_WRITE, MAP_SHARED, obj_ptr->fd, 0);\n",
        "  RedisModule_ReplyWithLongLong(ctx, obj_ptr->file_size / sizeof(double));\n",
        "  obj_ptr->file_size = 0;\n",
        "\n",
        "  return REDISMODULE_OK;\n",
        "}"
      ],
      "metadata": {
        "id": "5Z8bjafyHjbl",
        "colab": {
          "base_uri": "https://localhost:8080/"
        },
        "outputId": "2edeb389-8e72-46c8-a495-9113d0d0c6cf"
      },
      "execution_count": 14,
      "outputs": [
        {
          "output_type": "stream",
          "name": "stdout",
          "text": [
            "Appending to fmmap.c\n"
          ]
        }
      ]
    },
    {
      "cell_type": "markdown",
      "source": [
        "ファイルの末尾から数値を取得して、削除する関数です。"
      ],
      "metadata": {
        "id": "6RYMWJy9IkkU"
      }
    },
    {
      "cell_type": "code",
      "source": [
        "%%writefile -a fmmap.c\n",
        "\n",
        "// VPOP key\n",
        "int VPop_RedisCommand(RedisModuleCtx *ctx, RedisModuleString **argv, int argc)\n",
        "{\n",
        "  RedisModule_AutoMemory(ctx); /* Use automatic memory management. */\n",
        "\n",
        "  RedisModuleKey *key =\n",
        "      RedisModule_OpenKey(ctx, argv[1], REDISMODULE_READ | REDISMODULE_WRITE);\n",
        "\n",
        "  MMapObject *obj_ptr = RedisModule_ModuleTypeGetValue(key);\n",
        "\n",
        "  if (obj_ptr->file_size == 0) {\n",
        "    RedisModule_ReplyWithNull(ctx);\n",
        "  }\n",
        "  else {\n",
        "    size_t index = obj_ptr->file_size / sizeof(double) - 1;\n",
        "    RedisModule_ReplyWithDouble(ctx, ((double*)obj_ptr->mmap)[index]);\n",
        "    munmap(obj_ptr->mmap, obj_ptr->file_size);\n",
        "    obj_ptr->file_size -= sizeof(double);\n",
        "    ftruncate(obj_ptr->fd, obj_ptr->file_size);\n",
        "    obj_ptr->mmap = mmap(NULL, obj_ptr->file_size, PROT_READ | PROT_WRITE, MAP_SHARED, obj_ptr->fd, 0);\n",
        "  }\n",
        "  return REDISMODULE_OK;\n",
        "}"
      ],
      "metadata": {
        "id": "-APt5ZjQHxP-",
        "colab": {
          "base_uri": "https://localhost:8080/"
        },
        "outputId": "8694a33a-b667-47b3-8648-ed5cf3219eea"
      },
      "execution_count": 15,
      "outputs": [
        {
          "output_type": "stream",
          "name": "stdout",
          "text": [
            "Appending to fmmap.c\n"
          ]
        }
      ]
    },
    {
      "cell_type": "markdown",
      "source": [
        "RedisのRDBファイルにmmapに関する情報を保存する関数です。"
      ],
      "metadata": {
        "id": "YUO8UsY-IwDh"
      }
    },
    {
      "cell_type": "code",
      "source": [
        "%%writefile -a fmmap.c\n",
        "\n",
        "void MRdbSave(RedisModuleIO *rdb, void *value)\n",
        "{\n",
        "  MMapObject *obj_ptr = value;\n",
        "  RedisModule_SaveStringBuffer(rdb, obj_ptr->file_path, sdslen(obj_ptr->file_path));\n",
        "  msync(obj_ptr->mmap, obj_ptr->file_size, MS_ASYNC);\n",
        "}"
      ],
      "metadata": {
        "id": "Z9tP4bIzIEla",
        "colab": {
          "base_uri": "https://localhost:8080/"
        },
        "outputId": "456bfec2-0438-4ce2-cbe3-2754d7ed26d1"
      },
      "execution_count": 16,
      "outputs": [
        {
          "output_type": "stream",
          "name": "stdout",
          "text": [
            "Appending to fmmap.c\n"
          ]
        }
      ]
    },
    {
      "cell_type": "markdown",
      "source": [
        "RedisのRDBファイルからmmapに関する情報を読み出す関数です。"
      ],
      "metadata": {
        "id": "a4w9eoP0I796"
      }
    },
    {
      "cell_type": "code",
      "source": [
        "%%writefile -a fmmap.c\n",
        "\n",
        "void *MRdbLoad(RedisModuleIO *rdb, int encver)\n",
        "{\n",
        "  MMapObject *obj_ptr = MCreateObject();\n",
        "  obj_ptr->file_path = sdsnew(RedisModule_StringPtrLen(RedisModule_LoadString(rdb), NULL));\n",
        "  obj_ptr->fd = open(obj_ptr->file_path, O_RDWR);\n",
        "\n",
        "  struct stat sb;\n",
        "  fstat(obj_ptr->fd, &sb);\n",
        "  obj_ptr->file_size = sb.st_size;\n",
        "  obj_ptr->mmap = mmap(NULL, sb.st_size, PROT_READ | PROT_WRITE, MAP_SHARED, obj_ptr->fd, 0);\n",
        "\n",
        "  return obj_ptr;\n",
        "}"
      ],
      "metadata": {
        "id": "vGTI5s14IMKP",
        "colab": {
          "base_uri": "https://localhost:8080/"
        },
        "outputId": "615b3dd8-555a-4325-b990-fdb5959656c2"
      },
      "execution_count": 17,
      "outputs": [
        {
          "output_type": "stream",
          "name": "stdout",
          "text": [
            "Appending to fmmap.c\n"
          ]
        }
      ]
    },
    {
      "cell_type": "markdown",
      "source": [
        "RedisのAOFを利用するための関数です。"
      ],
      "metadata": {
        "id": "Luxtig0PJWUL"
      }
    },
    {
      "cell_type": "code",
      "source": [
        "%%writefile -a fmmap.c\n",
        "\n",
        "void MAofRewrite(RedisModuleIO *aof, RedisModuleString *key, void *value)\n",
        "{\n",
        "  char buffer[0x200];\n",
        "  MMapObject *obj_ptr = (MMapObject*)value;\n",
        "  RedisModule_EmitAOF(aof, \"MMAP\", \"sc\",\n",
        "                      key,\n",
        "                      obj_ptr->file_path);\n",
        "  RedisModule_EmitAOF(aof, \"MCLEAR\", \"ss\", key, obj_ptr->file_path);\n",
        "  for (size_t i = 0; i < obj_ptr->file_size; i += sizeof(double)) {\n",
        "    double value = *(double *)((uint8_t*)obj_ptr->mmap + i);\n",
        "    sprintf(buffer, \"%.16f\", value);\n",
        "    RedisModule_EmitAOF(aof, \"MADD\", \"sbc\", key, buffer);\n",
        "  }\n",
        "}"
      ],
      "metadata": {
        "id": "J1plnkvBIMGI",
        "colab": {
          "base_uri": "https://localhost:8080/"
        },
        "outputId": "27f19222-dbf9-4fe2-a41a-953562b3e5de"
      },
      "execution_count": 18,
      "outputs": [
        {
          "output_type": "stream",
          "name": "stdout",
          "text": [
            "Appending to fmmap.c\n"
          ]
        }
      ]
    },
    {
      "cell_type": "markdown",
      "source": [
        "その他、Redisのモジュールに必要な関数です。"
      ],
      "metadata": {
        "id": "c0QvJOQUJhFp"
      }
    },
    {
      "cell_type": "code",
      "source": [
        "%%writefile -a fmmap.c\n",
        "\n",
        "size_t MMemUsage(const void *value)\n",
        "{\n",
        "  const MMapObject *obj_ptr = value;\n",
        "  return obj_ptr->file_size;\n",
        "}\n",
        "\n",
        "void MDigest(RedisModuleDigest *md, void *value)\n",
        "{\n",
        "  REDISMODULE_NOT_USED(md);\n",
        "  REDISMODULE_NOT_USED(value);\n",
        "}"
      ],
      "metadata": {
        "id": "Slx-jCVCIMB7",
        "colab": {
          "base_uri": "https://localhost:8080/"
        },
        "outputId": "6b05c1bd-a40d-4ab2-ed91-94892a5033d3"
      },
      "execution_count": 19,
      "outputs": [
        {
          "output_type": "stream",
          "name": "stdout",
          "text": [
            "Appending to fmmap.c\n"
          ]
        }
      ]
    },
    {
      "cell_type": "markdown",
      "source": [
        "Redisのコマンドを作成するマクロ"
      ],
      "metadata": {
        "id": "TH3wuPdtJqVR"
      }
    },
    {
      "cell_type": "code",
      "source": [
        "%%writefile -a fmmap.c\n",
        "\n",
        "#define CREATE_CMD(name, tgt, attr, key_pos, key_last)                     \\\n",
        "  do {                                                                     \\\n",
        "    if (RedisModule_CreateCommand(ctx, name, tgt, attr, key_pos, key_last, \\\n",
        "                                  1) != REDISMODULE_OK) {                  \\\n",
        "      return REDISMODULE_ERR;                                              \\\n",
        "    }                                                                      \\\n",
        "  } while (0);\n"
      ],
      "metadata": {
        "id": "JRIuT6kfIL9w",
        "colab": {
          "base_uri": "https://localhost:8080/"
        },
        "outputId": "7b745d79-12c0-4755-a5da-5eb596619cea"
      },
      "execution_count": 20,
      "outputs": [
        {
          "output_type": "stream",
          "name": "stdout",
          "text": [
            "Appending to fmmap.c\n"
          ]
        }
      ]
    },
    {
      "cell_type": "markdown",
      "source": [
        "モジュールのロード時に呼ばれて、モジュールを準備する関数です。ここで各コマンドとそれを実行する関数を結びつけます。"
      ],
      "metadata": {
        "id": "Lx2d4Pn6Jv6B"
      }
    },
    {
      "cell_type": "code",
      "source": [
        "%%writefile -a fmmap.c\n",
        "\n",
        "int RedisModule_OnLoad(RedisModuleCtx *ctx, RedisModuleString **argv, int argc)\n",
        "{\n",
        "  REDISMODULE_NOT_USED(argv);\n",
        "  REDISMODULE_NOT_USED(argc);\n",
        "\n",
        "  RedisModule_Init(ctx, \"FuchiMMap\", 1, REDISMODULE_APIVER_1);\n",
        "\n",
        "  RedisModuleTypeMethods tm = {.version = REDISMODULE_TYPE_METHOD_VERSION,\n",
        "                               .rdb_load = MRdbLoad,\n",
        "                               .rdb_save = MRdbSave,\n",
        "                               .aof_rewrite = MAofRewrite,\n",
        "                               .mem_usage = MMemUsage,\n",
        "                               .free = MFree,\n",
        "                               .digest = MDigest};\n",
        "\n",
        "  MMapType = RedisModule_CreateDataType(ctx, \"FuchiMMap\", 0, &tm);\n",
        "\n",
        "  // MMAP key file_path\n",
        "  CREATE_CMD(\"MMAP\", MMap_RedisCommand, \"write fast\", 1, 1);\n",
        "\n",
        "  // VCLEAR key\n",
        "  CREATE_CMD(\"VCLEAR\", VClear_RedisCommand, \"write fast\", 1, 1);\n",
        "\n",
        "  // VADD key value [value ...]\n",
        "  CREATE_CMD(\"VADD\", VAdd_RedisCommand, \"write fast\", 1, 1);\n",
        "\n",
        "  // VGET key index\n",
        "  CREATE_CMD(\"VGET\", VGet_RedisCommand, \"readonly fast\", 1, 1);\n",
        "\n",
        "  // VMGET key index [index ...]\n",
        "  CREATE_CMD(\"VMGET\", VMGet_RedisCommand, \"readonly fast\", 1, 1);\n",
        "\n",
        "  // VSET key index value [index value ...]\n",
        "  CREATE_CMD(\"VSET\", VSet_RedisCommand, \"write fast\", 1, 1);\n",
        "\n",
        "  // VCOUNT key\n",
        "  CREATE_CMD(\"VCOUNT\", VCount_RedisCommand, \"readonly fast\", 1, 1);\n",
        "\n",
        "  // VPOP key\n",
        "  CREATE_CMD(\"VPOP\", VPop_RedisCommand, \"write fast\", 1, 1);\n",
        "\n",
        "  return REDISMODULE_OK;\n",
        "}\n"
      ],
      "metadata": {
        "id": "W1IZVhWvILyT",
        "colab": {
          "base_uri": "https://localhost:8080/"
        },
        "outputId": "9b415266-414b-4958-de33-cc856f3939cd"
      },
      "execution_count": 21,
      "outputs": [
        {
          "output_type": "stream",
          "name": "stdout",
          "text": [
            "Appending to fmmap.c\n"
          ]
        }
      ]
    },
    {
      "cell_type": "markdown",
      "source": [
        "ソースをビルドするためのMakefileです。"
      ],
      "metadata": {
        "id": "KX9PHsj8KEiK"
      }
    },
    {
      "cell_type": "code",
      "source": [
        "%%writefile Makefile.fmmap\n",
        "\n",
        "SHOBJ_CFLAGS ?= -W -Wall -fno-common -g -ggdb -std=c99 -O2\n",
        "SHOBJ_LDFLAGS ?= -shared\n",
        "\n",
        ".SUFFIXES: .c .so .xo .o\n",
        "\n",
        "all: fmmap.so\n",
        "\n",
        ".c.xo:\n",
        "\t$(CC) -I. $(CFLAGS) $(SHOBJ_CFLAGS) -fPIC -c $< -o $@\n",
        "\n",
        "fmmap.xo: ../redismodule.h\n",
        "\n",
        "fmmap.so: fmmap.xo\n",
        "\t$(LD) -o $@ $^ $(SHOBJ_LDFLAGS) $(LIBS) -lc\n",
        "\n",
        "clean:\n",
        "\trm -rf *.xo *.so"
      ],
      "metadata": {
        "id": "Ewpiz9DfKMNv",
        "colab": {
          "base_uri": "https://localhost:8080/"
        },
        "outputId": "f4db3de3-fb3d-4341-ce26-1c0f4d590ce3"
      },
      "execution_count": 22,
      "outputs": [
        {
          "output_type": "stream",
          "name": "stdout",
          "text": [
            "Writing Makefile.fmmap\n"
          ]
        }
      ]
    },
    {
      "cell_type": "markdown",
      "source": [
        "モジュールをmakeします。"
      ],
      "metadata": {
        "id": "AJbt_7ubKZSG"
      }
    },
    {
      "cell_type": "code",
      "source": [
        "!make -f Makefile.fmmap\n",
        "!ls fmmap.so"
      ],
      "metadata": {
        "id": "poQmS_hwLLOn",
        "colab": {
          "base_uri": "https://localhost:8080/"
        },
        "outputId": "41151665-fa44-48e2-fa2a-4b1f91136f96"
      },
      "execution_count": 23,
      "outputs": [
        {
          "output_type": "stream",
          "name": "stdout",
          "text": [
            "cc -I.  -W -Wall -fno-common -g -ggdb -std=c99 -O2 -fPIC -c fmmap.c -o fmmap.xo\n",
            "ld -o fmmap.so fmmap.xo -shared  -lc\n",
            "fmmap.so\n"
          ]
        }
      ]
    },
    {
      "cell_type": "markdown",
      "source": [
        "Redisをインストールします。"
      ],
      "metadata": {
        "id": "BdhNej6lLe1j"
      }
    },
    {
      "cell_type": "code",
      "source": [
        "!sudo yes | add-apt-repository ppa:redislabs/redis\n",
        "!sudo apt-get update\n",
        "!sudo apt-get install redis"
      ],
      "metadata": {
        "id": "zOXorISbIiqr"
      },
      "execution_count": null,
      "outputs": []
    },
    {
      "cell_type": "markdown",
      "source": [
        "設定ファイルに書き込みます。"
      ],
      "metadata": {
        "id": "mZl8Kr6XKxqz"
      }
    },
    {
      "cell_type": "code",
      "source": [
        "%%writefile -a /etc/redis/redis.conf\n",
        "enable-module-command yes\n",
        "loadmodule /content/redis-stable/src/modules/fmmap.so"
      ],
      "metadata": {
        "id": "cm09QiJ1sbMp",
        "colab": {
          "base_uri": "https://localhost:8080/"
        },
        "outputId": "919a1b74-efa3-465b-91b7-530fc8659518"
      },
      "execution_count": 25,
      "outputs": [
        {
          "output_type": "stream",
          "name": "stdout",
          "text": [
            "Appending to /etc/redis/redis.conf\n"
          ]
        }
      ]
    },
    {
      "cell_type": "markdown",
      "source": [
        "Redisを実行します。"
      ],
      "metadata": {
        "id": "peUUvoBuLl_V"
      }
    },
    {
      "cell_type": "code",
      "source": [
        "!service redis-server start"
      ],
      "metadata": {
        "id": "v9LCwn7TM8hl",
        "colab": {
          "base_uri": "https://localhost:8080/"
        },
        "outputId": "7520e544-c982-4708-ddde-0578a565f301"
      },
      "execution_count": 26,
      "outputs": [
        {
          "output_type": "stream",
          "name": "stdout",
          "text": [
            "Starting redis-server: redis-server.\n"
          ]
        }
      ]
    },
    {
      "cell_type": "markdown",
      "source": [
        "Redisが実行されているか確認します。"
      ],
      "metadata": {
        "id": "fcEw2fMKWjwE"
      }
    },
    {
      "cell_type": "code",
      "source": [
        "!sleep 1\n",
        "!ps aux | grep redis | grep -v grep"
      ],
      "metadata": {
        "id": "3S5i2-2uYfmL",
        "colab": {
          "base_uri": "https://localhost:8080/"
        },
        "outputId": "e6823737-1d8c-4f76-ba92-f3b16a40451e"
      },
      "execution_count": 27,
      "outputs": [
        {
          "output_type": "stream",
          "name": "stdout",
          "text": [
            "redis       2830  0.0  0.0  59132  6452 ?        Ssl  06:05   0:00 /usr/bin/redis-server 127.0.0.1:6379\n"
          ]
        }
      ]
    },
    {
      "cell_type": "markdown",
      "source": [
        "ファイルを書き込む場所を準備します。"
      ],
      "metadata": {
        "id": "qpEK5VK_Eq4r"
      }
    },
    {
      "cell_type": "code",
      "source": [
        "!mkdir /content/db\n",
        "!chmod 777 /content/db"
      ],
      "metadata": {
        "id": "4TN5fvMSC1Eg"
      },
      "execution_count": 28,
      "outputs": []
    },
    {
      "cell_type": "markdown",
      "source": [
        "dbにファイルをマップします。戻り値は数値の数で、新規なので0になります。"
      ],
      "metadata": {
        "id": "A2oexH4uyBnQ"
      }
    },
    {
      "cell_type": "code",
      "source": [
        "!echo \"MMAP db /content/db/file.mmap\" | redis-cli"
      ],
      "metadata": {
        "id": "nARXq8hgu2-J",
        "colab": {
          "base_uri": "https://localhost:8080/"
        },
        "outputId": "c9ec7df7-2ada-4b05-809c-7a36ad972ae8"
      },
      "execution_count": 29,
      "outputs": [
        {
          "output_type": "stream",
          "name": "stdout",
          "text": [
            "(integer) 0\n"
          ]
        }
      ]
    },
    {
      "cell_type": "markdown",
      "source": [
        "file.mmapファイルができていることを確認します。まだファイルサイズは0です。"
      ],
      "metadata": {
        "id": "tOOLM-HTyLNx"
      }
    },
    {
      "cell_type": "code",
      "source": [
        "!ls -l /content/db"
      ],
      "metadata": {
        "id": "eqvz2mm1u5db",
        "colab": {
          "base_uri": "https://localhost:8080/"
        },
        "outputId": "79acb5fd-690b-43eb-d871-5185fcffae63"
      },
      "execution_count": 30,
      "outputs": [
        {
          "output_type": "stream",
          "name": "stdout",
          "text": [
            "total 0\n",
            "-rw-rw---- 1 redis redis 0 Jun 22 06:05 file.mmap\n"
          ]
        }
      ]
    },
    {
      "cell_type": "markdown",
      "source": [
        "値を追加してみます。戻り値は追加した数値の数です。"
      ],
      "metadata": {
        "id": "CeTkpYnpyVaU"
      }
    },
    {
      "cell_type": "code",
      "source": [
        "!echo \"VADD db 0.0\" | redis-cli"
      ],
      "metadata": {
        "id": "nfja4sE7FQ0B",
        "colab": {
          "base_uri": "https://localhost:8080/"
        },
        "outputId": "eaf29070-9293-4efd-8687-41957030ddf8"
      },
      "execution_count": 31,
      "outputs": [
        {
          "output_type": "stream",
          "name": "stdout",
          "text": [
            "(integer) 1\n"
          ]
        }
      ]
    },
    {
      "cell_type": "markdown",
      "source": [
        "ファイルサイズが8バイトに増えているのが確認できます。"
      ],
      "metadata": {
        "id": "0TPMQT9vzmWb"
      }
    },
    {
      "cell_type": "code",
      "source": [
        "!ls -l /content/db"
      ],
      "metadata": {
        "id": "os8Fy8JfFbGy",
        "colab": {
          "base_uri": "https://localhost:8080/"
        },
        "outputId": "2f4d5a46-c0b8-4481-cd81-70ec495e77c1"
      },
      "execution_count": 32,
      "outputs": [
        {
          "output_type": "stream",
          "name": "stdout",
          "text": [
            "total 4\n",
            "-rw-rw---- 1 redis redis 8 Jun 22 06:05 file.mmap\n"
          ]
        }
      ]
    },
    {
      "cell_type": "markdown",
      "source": [
        "コマンドをファイルに書き出して実行してみましょう。"
      ],
      "metadata": {
        "id": "pGaUP_lFzzRZ"
      }
    },
    {
      "cell_type": "code",
      "source": [
        "%%writefile command\n",
        "vadd db 0.1\n",
        "vadd db 0.2\n",
        "vadd db 0.3\n",
        "vadd db 0.4\n",
        "vadd db 0.5\n",
        "vadd db 0.6\n",
        "vadd db 0.7\n",
        "vadd db 0.8\n",
        "vadd db 0.9\n",
        "vcount db"
      ],
      "metadata": {
        "id": "MyvWfynlxdBf",
        "colab": {
          "base_uri": "https://localhost:8080/"
        },
        "outputId": "238be5ad-a7d5-4e4e-d18e-cae246512ea7"
      },
      "execution_count": 33,
      "outputs": [
        {
          "output_type": "stream",
          "name": "stdout",
          "text": [
            "Writing command\n"
          ]
        }
      ]
    },
    {
      "cell_type": "markdown",
      "source": [
        "実行すると、登録数が10になっているのがわかります。"
      ],
      "metadata": {
        "id": "0ZO6DMjJz4ni"
      }
    },
    {
      "cell_type": "code",
      "source": [
        "!redis-cli < command"
      ],
      "metadata": {
        "id": "mNdBecvXxvZx",
        "colab": {
          "base_uri": "https://localhost:8080/"
        },
        "outputId": "633b0c06-8303-4608-849b-726273a08502"
      },
      "execution_count": 34,
      "outputs": [
        {
          "output_type": "stream",
          "name": "stdout",
          "text": [
            "(integer) 1\n",
            "(integer) 1\n",
            "(integer) 1\n",
            "(integer) 1\n",
            "(integer) 1\n",
            "(integer) 1\n",
            "(integer) 1\n",
            "(integer) 1\n",
            "(integer) 1\n",
            "(integer) 10\n"
          ]
        }
      ]
    },
    {
      "cell_type": "markdown",
      "source": [
        "ファイルも80バイトに増えています。"
      ],
      "metadata": {
        "id": "apnh5KTw0Lct"
      }
    },
    {
      "cell_type": "code",
      "source": [
        "!ls -l /content/db"
      ],
      "metadata": {
        "id": "GE_39GtVz7uE",
        "colab": {
          "base_uri": "https://localhost:8080/"
        },
        "outputId": "088f59af-a4fa-4932-8547-3757b0c433d9"
      },
      "execution_count": 35,
      "outputs": [
        {
          "output_type": "stream",
          "name": "stdout",
          "text": [
            "total 4\n",
            "-rw-rw---- 1 redis redis 80 Jun 22 06:05 file.mmap\n"
          ]
        }
      ]
    },
    {
      "cell_type": "markdown",
      "source": [
        "ひとつのコマンドで複数追加もできます。追加した値の数が返ります。"
      ],
      "metadata": {
        "id": "1nbBtz010ZEF"
      }
    },
    {
      "cell_type": "code",
      "source": [
        "!echo \"VADD db 1.0 1.1 1.2 1.3 1.4 1.5\" | redis-cli"
      ],
      "metadata": {
        "id": "JnCsYyn90WEc",
        "colab": {
          "base_uri": "https://localhost:8080/"
        },
        "outputId": "7132a44e-cd88-4714-c9dd-fa3b68557634"
      },
      "execution_count": 36,
      "outputs": [
        {
          "output_type": "stream",
          "name": "stdout",
          "text": [
            "(integer) 6\n"
          ]
        }
      ]
    },
    {
      "cell_type": "markdown",
      "source": [
        "値を取り出してみます。"
      ],
      "metadata": {
        "id": "-0D0hLlo0uzD"
      }
    },
    {
      "cell_type": "code",
      "source": [
        "!echo \"VGET db 5\" | redis-cli"
      ],
      "metadata": {
        "id": "mHWSEXkt0x_v",
        "colab": {
          "base_uri": "https://localhost:8080/"
        },
        "outputId": "cca48e2f-630e-43ec-b6b7-374ad2d57442"
      },
      "execution_count": 37,
      "outputs": [
        {
          "output_type": "stream",
          "name": "stdout",
          "text": [
            "\"0.5\"\n"
          ]
        }
      ]
    },
    {
      "cell_type": "markdown",
      "source": [
        "複数の場合はこうなります。浮動小数点なので誤差があります。"
      ],
      "metadata": {
        "id": "fQzUqDi805xF"
      }
    },
    {
      "cell_type": "code",
      "source": [
        "!echo \"VMGET db 1 2 3 4 5\" | redis-cli"
      ],
      "metadata": {
        "id": "Bo_3HFgL08Io",
        "colab": {
          "base_uri": "https://localhost:8080/"
        },
        "outputId": "fe09c3cf-a6f6-4e29-c62a-25c900629715"
      },
      "execution_count": 38,
      "outputs": [
        {
          "output_type": "stream",
          "name": "stdout",
          "text": [
            "1) \"0.10000000000000001\"\n",
            "2) \"0.20000000000000001\"\n",
            "3) \"0.29999999999999999\"\n",
            "4) \"0.40000000000000002\"\n",
            "5) \"0.5\"\n"
          ]
        }
      ]
    },
    {
      "cell_type": "markdown",
      "source": [
        "値を変更することもできます。db[5]に50、db[10]に100を設定します。VSETの戻り値は変更した箇所の数です。"
      ],
      "metadata": {
        "id": "vmn6Xb391QrD"
      }
    },
    {
      "cell_type": "code",
      "source": [
        "!echo \"VSET db 5 50 10 100\" | redis-cli\n",
        "!echo \"VMGET db 5 10\" | redis-cli"
      ],
      "metadata": {
        "id": "qFseYFee1YWI",
        "colab": {
          "base_uri": "https://localhost:8080/"
        },
        "outputId": "6618c717-d27a-48f3-e3a2-940eacad703a"
      },
      "execution_count": 39,
      "outputs": [
        {
          "output_type": "stream",
          "name": "stdout",
          "text": [
            "(integer) 2\n",
            "1) \"50\"\n",
            "2) \"100\"\n"
          ]
        }
      ]
    },
    {
      "cell_type": "markdown",
      "source": [
        "末尾の値を取り出して削除します。"
      ],
      "metadata": {
        "id": "v2lFBgKS1yQR"
      }
    },
    {
      "cell_type": "code",
      "source": [
        "!echo \"VCOUNT db\" | redis-cli\n",
        "!echo \"VGET db 15\" | redis-cli\n",
        "!echo \"VPOP db\" | redis-cli\n",
        "!echo \"VCOUNT db\" | redis-cli"
      ],
      "metadata": {
        "id": "-MQxEtwR13a-",
        "colab": {
          "base_uri": "https://localhost:8080/"
        },
        "outputId": "7ba21fd0-3413-4f66-f2a9-3efab14d9fb9"
      },
      "execution_count": 40,
      "outputs": [
        {
          "output_type": "stream",
          "name": "stdout",
          "text": [
            "(integer) 16\n",
            "\"1.5\"\n",
            "\"1.5\"\n",
            "(integer) 15\n"
          ]
        }
      ]
    },
    {
      "cell_type": "markdown",
      "source": [
        "Redisを停止して再起動します。"
      ],
      "metadata": {
        "id": "hPQ852ZL2TGo"
      }
    },
    {
      "cell_type": "code",
      "source": [
        "!service redis-server stop\n",
        "!service redis-server start"
      ],
      "metadata": {
        "id": "OqLLdr8QFCXx",
        "colab": {
          "base_uri": "https://localhost:8080/"
        },
        "outputId": "90c60b50-5249-4728-a027-98baf6d556de"
      },
      "execution_count": 41,
      "outputs": [
        {
          "output_type": "stream",
          "name": "stdout",
          "text": [
            "Stopping redis-server: redis-server.\n",
            "Starting redis-server: redis-server.\n"
          ]
        }
      ]
    },
    {
      "cell_type": "markdown",
      "source": [
        "再起動しても値は残っています。"
      ],
      "metadata": {
        "id": "IMvVoe-q2hou"
      }
    },
    {
      "cell_type": "code",
      "source": [
        "!echo \"VCOUNT db\" | redis-cli"
      ],
      "metadata": {
        "id": "AMiagNba2m_Y",
        "colab": {
          "base_uri": "https://localhost:8080/"
        },
        "outputId": "a057f335-2467-4bc3-d1e6-70807a2ec273"
      },
      "execution_count": 42,
      "outputs": [
        {
          "output_type": "stream",
          "name": "stdout",
          "text": [
            "(integer) 15\n"
          ]
        }
      ]
    },
    {
      "cell_type": "markdown",
      "source": [
        "dbを削除しても再度マッピングすればファイルは元のままなので値を取得できます。"
      ],
      "metadata": {
        "id": "OFmIl2Ja2_pT"
      }
    },
    {
      "cell_type": "code",
      "source": [
        "!echo \"KEYS *\" | redis-cli\n",
        "!echo \"DEL db\" | redis-cli\n",
        "!echo \"KEYS *\" | redis-cli\n",
        "!ls -l /content/db/\n",
        "!echo \"MMAP dba /content/db/file.mmap\" | redis-cli\n",
        "!echo \"VGET dba 5\" | redis-cli"
      ],
      "metadata": {
        "id": "JWvibGHQ3QWe",
        "colab": {
          "base_uri": "https://localhost:8080/"
        },
        "outputId": "ae26d3de-b7be-42f0-ced1-693b475475a9"
      },
      "execution_count": 43,
      "outputs": [
        {
          "output_type": "stream",
          "name": "stdout",
          "text": [
            "1) \"db\"\n",
            "(integer) 1\n",
            "(empty array)\n",
            "total 4\n",
            "-rw-rw---- 1 redis redis 120 Jun 22 06:05 file.mmap\n",
            "(integer) 15\n",
            "\"50\"\n"
          ]
        }
      ]
    },
    {
      "cell_type": "markdown",
      "source": [
        "内容をクリアするにはこうします。"
      ],
      "metadata": {
        "id": "UNg5Sr_d2te_"
      }
    },
    {
      "cell_type": "code",
      "source": [
        "!echo \"VCLEAR dba\" | redis-cli\n",
        "!echo \"VCOUNT dba\" | redis-cli"
      ],
      "metadata": {
        "id": "YBqap1Qg23zS",
        "colab": {
          "base_uri": "https://localhost:8080/"
        },
        "outputId": "68dff8ac-623b-4508-aa2b-f3a97479cd67"
      },
      "execution_count": 44,
      "outputs": [
        {
          "output_type": "stream",
          "name": "stdout",
          "text": [
            "(integer) 15\n",
            "(integer) 0\n"
          ]
        }
      ]
    },
    {
      "cell_type": "markdown",
      "source": [
        "ファイルのサイズが0になります。"
      ],
      "metadata": {
        "id": "ydYdUPRL4FId"
      }
    },
    {
      "cell_type": "code",
      "source": [
        "!ls -l /content/db/"
      ],
      "metadata": {
        "id": "MKeFGrCd4I17",
        "colab": {
          "base_uri": "https://localhost:8080/"
        },
        "outputId": "63db51fb-bfe2-4934-d52e-82d6f8940976"
      },
      "execution_count": 45,
      "outputs": [
        {
          "output_type": "stream",
          "name": "stdout",
          "text": [
            "total 0\n",
            "-rw-rw---- 1 redis redis 0 Jun 22 06:05 file.mmap\n"
          ]
        }
      ]
    },
    {
      "cell_type": "markdown",
      "source": [
        "dbaを削除します。"
      ],
      "metadata": {
        "id": "IzIRyM4S43lO"
      }
    },
    {
      "cell_type": "code",
      "source": [
        "!echo \"DEL dba\" | redis-cli"
      ],
      "metadata": {
        "id": "J4N7bZom4_r9",
        "colab": {
          "base_uri": "https://localhost:8080/"
        },
        "outputId": "12fa63a9-7036-46f9-ffb2-0c7a9f327e98"
      },
      "execution_count": 46,
      "outputs": [
        {
          "output_type": "stream",
          "name": "stdout",
          "text": [
            "(integer) 1\n"
          ]
        }
      ]
    },
    {
      "cell_type": "markdown",
      "source": [
        "Pythonで100個のdoubleを書き込んだファイルを作成します。"
      ],
      "metadata": {
        "id": "R50Nx0Bz6gHF"
      }
    },
    {
      "cell_type": "code",
      "source": [
        "import struct\n",
        "with open('/content/db/file.mmap', 'wb') as fout:\n",
        "    for i in range(100):\n",
        "        fout.write(struct.pack('d', i))"
      ],
      "metadata": {
        "id": "EpDrnwRp6Pk4"
      },
      "execution_count": 47,
      "outputs": []
    },
    {
      "cell_type": "markdown",
      "source": [
        "ファイルをマップして中身を確認します。"
      ],
      "metadata": {
        "id": "jGQiW41k7vpH"
      }
    },
    {
      "cell_type": "code",
      "source": [
        "!echo \"mmap db /content/db/file.mmap\" | redis-cli\n",
        "!echo \"vcount db\" | redis-cli\n",
        "!echo \"vmget db 1 3 5 7 9\" | redis-cli"
      ],
      "metadata": {
        "id": "UC4DM6nu73XU",
        "colab": {
          "base_uri": "https://localhost:8080/"
        },
        "outputId": "41fd263c-d488-407b-8d63-0155f2c87ed4"
      },
      "execution_count": 48,
      "outputs": [
        {
          "output_type": "stream",
          "name": "stdout",
          "text": [
            "(integer) 100\n",
            "(integer) 100\n",
            "1) \"1\"\n",
            "2) \"3\"\n",
            "3) \"5\"\n",
            "4) \"7\"\n",
            "5) \"9\"\n"
          ]
        }
      ]
    },
    {
      "cell_type": "markdown",
      "source": [
        "Redisを停止します。redis-serverは残っていません。"
      ],
      "metadata": {
        "id": "0toc4ufT5OMd"
      }
    },
    {
      "cell_type": "code",
      "source": [
        "!echo \"shutdown\" | redis-cli\n",
        "!sleep 1\n",
        "!ps aux | grep redis"
      ],
      "metadata": {
        "id": "1lX1B2fV5NMa",
        "colab": {
          "base_uri": "https://localhost:8080/"
        },
        "outputId": "e3593b71-d917-4481-9b83-6a44338e662b"
      },
      "execution_count": 49,
      "outputs": [
        {
          "output_type": "stream",
          "name": "stdout",
          "text": [
            "root        2973  0.0  0.0   6904  3232 ?        S    06:05   0:00 /bin/bash -c ps aux | grep redis\n",
            "root        2975  0.0  0.0   3292   508 ?        R    06:05   0:00 grep redis\n"
          ]
        }
      ]
    },
    {
      "cell_type": "markdown",
      "source": [
        "ファイルは残っています。"
      ],
      "metadata": {
        "id": "wwTBl6yT9IiG"
      }
    },
    {
      "cell_type": "code",
      "source": [
        "!ls -l /content/db"
      ],
      "metadata": {
        "id": "u6haGmqX9LfH",
        "colab": {
          "base_uri": "https://localhost:8080/"
        },
        "outputId": "380b0164-4b0c-4ebd-f2eb-8cc00836af51"
      },
      "execution_count": 50,
      "outputs": [
        {
          "output_type": "stream",
          "name": "stdout",
          "text": [
            "total 4\n",
            "-rw-rw---- 1 redis redis 800 Jun 22 06:05 file.mmap\n"
          ]
        }
      ]
    },
    {
      "cell_type": "markdown",
      "source": [
        "以上です。"
      ],
      "metadata": {
        "id": "iTiup4Nb57jO"
      }
    }
  ]
}